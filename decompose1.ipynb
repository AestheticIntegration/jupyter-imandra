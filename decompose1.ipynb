{
 "cells": [
  {
   "cell_type": "code",
   "execution_count": 1,
   "metadata": {},
   "outputs": [
    {
     "data": {
      "text/plain": []
     },
     "execution_count": 1,
     "metadata": {},
     "output_type": "execute_result"
    }
   ],
   "source": [
    "#redef ;;"
   ]
  },
  {
   "cell_type": "code",
   "execution_count": 2,
   "metadata": {},
   "outputs": [
    {
     "data": {
      "text/plain": [
       "- : Z.t = 2\n",
       "val g : Z.t -> bool = <fun>\n"
      ]
     },
     "execution_count": 2,
     "metadata": {},
     "output_type": "execute_result"
    }
   ],
   "source": [
    "1+1;;\n",
    "let g x = if x< 0 then x < 2 else x > 10 ;;"
   ]
  },
  {
   "cell_type": "code",
   "execution_count": 3,
   "metadata": {
    "scrolled": true
   },
   "outputs": [
    {
     "data": {
      "text/plain": [
       "val rs : Imandra_lib.Decompose.t list =\n",
       "  [{Imandra_lib.Decompose.constraints = [<abstr>]; invariant = <abstr>;\n",
       "    solver = <abstr>};\n",
       "   {Imandra_lib.Decompose.constraints = [<abstr>]; invariant = <abstr>;\n",
       "    solver = <abstr>}]\n"
      ]
     },
     "execution_count": 3,
     "metadata": {},
     "output_type": "execute_result"
    },
    {
     "data": {
      "text/html": [
       "<div><table style=\"border:1px\"><thead><tr><th>Constraints</th><th>Invariant</th></tr></thead><tr><td><ul><li><pre>(0 &lt;= x)</pre></li></ul></td><td><pre>(not (x &lt;= 10))</pre></td></tr><tr><td><ul><li><pre>(not (0 &lt;= x))</pre></li></ul></td><td><pre>(not (2 &lt;= x))</pre></td></tr></table></div>\n"
      ]
     },
     "metadata": {},
     "output_type": "display_data"
    }
   ],
   "source": [
    "let rs = Decompose.top \"g\";;"
   ]
  },
  {
   "cell_type": "code",
   "execution_count": 4,
   "metadata": {},
   "outputs": [
    {
     "data": {
      "text/plain": [
       "- : string list list = [[\"(<= 0 |sko:x_818|)\"]; [\"(not (<= 0 |sko:x_818|))\"]]\n"
      ]
     },
     "execution_count": 4,
     "metadata": {},
     "output_type": "execute_result"
    }
   ],
   "source": [
    "List.map (fun r -> List.map Expr.to_string r.Decompose.constraints) rs;;"
   ]
  },
  {
   "cell_type": "code",
   "execution_count": 5,
   "metadata": {},
   "outputs": [
    {
     "data": {
      "text/plain": [
       "Counterexample:\n",
       " let x = 0\n",
       "module CX : sig val x : Z.t end\n",
       "- : Imandra_lib.Kernel.Verify.t =\n",
       "Imandra_lib.Kernel.Verify.Refuted (Some <abstr>, Some <abstr>)\n",
       "- : Z.t = 0\n"
      ]
     },
     "execution_count": 5,
     "metadata": {},
     "output_type": "execute_result"
    },
    {
     "data": {
      "text/html": [
       "<div><div>Refuted<div class=\"imandra-proof-top\"><div class=\"imandra-proof\"><div class=\"imandra-alternatives\"><div class=\"imandra-fold\"><ul><li>pre-process</li><li>Sat (Some  let x = 0)</li></ul></div><img src=\"data:image/svg+xml;base64,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\" alt=\"svg of graph\"/></div></div></div><div><h4>model</h4><table style=\"border:1px\"><thead><tr><th>variable</th><th>value</th></tr></thead><tr><td>(x : int)</td><td><pre>0</pre></td></tr></table></div></div></div>\n"
      ]
     },
     "metadata": {},
     "output_type": "display_data"
    }
   ],
   "source": [
    "Verify.top \"g\";;\n",
    "\n",
    "CX.x ;;"
   ]
  },
  {
   "cell_type": "code",
   "execution_count": 6,
   "metadata": {},
   "outputs": [
    {
     "data": {
      "text/plain": [
       "type foo = { a : int; b : string; }\n"
      ]
     },
     "execution_count": 6,
     "metadata": {},
     "output_type": "execute_result"
    },
    {
     "data": {
      "text/html": [
       "<div><div><h3>Type: foo</h3><table style=\"border:1px\"><tr><td><b>iml</b></td><td>foo = {a: int; b: string}</td></tr><tr><td><b>location</b></td><td>Characters 0-41:\n",
       "  type foo = {\n",
       "      a: int;\n",
       "      b: string;\n",
       "  }..\n",
       "</td></tr><tr><td><b>path</b></td><td>&lt;root&gt;</td></tr></table></div></div>\n"
      ]
     },
     "metadata": {},
     "output_type": "display_data"
    }
   ],
   "source": [
    "type foo = {\n",
    "    a: int;\n",
    "    b: string;\n",
    "};;\n",
    "\n",
    "#history foo;;"
   ]
  },
  {
   "cell_type": "code",
   "execution_count": 7,
   "metadata": {},
   "outputs": [
    {
     "data": {
      "text/plain": [
       "val f : foo -> bool = <fun>\n",
       "Counterexample:\n",
       " let _x = { a = 6; b = \"\\\\x00\\\\x00\\\\x00\\\\x00\\\\x00\\\\x00\" }\n",
       "module CX : sig val _x : foo end\n",
       "- : Imandra_lib.Kernel.Verify.t =\n",
       "Imandra_lib.Kernel.Verify.Refuted (Some <abstr>, Some <abstr>)\n"
      ]
     },
     "execution_count": 7,
     "metadata": {},
     "output_type": "execute_result"
    },
    {
     "data": {
      "text/html": [
       "<div><div>Refuted<div class=\"imandra-proof-top\"><div class=\"imandra-proof\"><div class=\"imandra-alternatives\"><div class=\"imandra-fold\"><ul><li>pre-process</li><li>Sat (Some  let _x = { a = 6; b = &quot;\\\\x00\\\\x00\\\\x00\\\\x00\\\\x00\\\\x00&quot; })</li></ul></div><img src=\"data:image/svg+xml;base64,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\" alt=\"svg of graph\"/></div></div></div><div><h4>model</h4><table style=\"border:1px\"><thead><tr><th>variable</th><th>value</th></tr></thead><tr><td>(_x : foo)</td><td><pre>{a = 6; b = \\x00\\x00\\x00\\x00\\x00\\x00}</pre></td></tr></table></div></div></div>\n"
      ]
     },
     "metadata": {},
     "output_type": "display_data"
    }
   ],
   "source": [
    "let f {a;b} = a > 5 ==> String.length b <> a;;\n",
    "\n",
    "Verify.top \"f\";;"
   ]
  },
  {
   "cell_type": "code",
   "execution_count": 8,
   "metadata": {},
   "outputs": [
    {
     "data": {
      "text/plain": [
       "- : Z.t -> bool = <fun>\n",
       "\u001b[32m[✓]\u001b[0m Theorem proved.\n"
      ]
     },
     "execution_count": 8,
     "metadata": {},
     "output_type": "execute_result"
    },
    {
     "data": {
      "text/html": [
       "<div><div>Proved<div class=\"imandra-proof-top\"><div class=\"imandra-proof\"><div class=\"imandra-alternatives\"><div class=\"imandra-fold\"><ul><li>pre-process</li><li><div><h4>unsat</h4><div>false by <div>modus ponens<ul><li><div>(not true) by asserted</div></li><li><div>(rewrite (= (not true) false)) by (rewrite (= (not true) false))</div></li></ul></div></div></div></li></ul></div><img src=\"data:image/svg+xml;base64,PD94bWwgdmVyc2lvbj0iMS4wIiBlbmNvZGluZz0iVVRGLTgiIHN0YW5kYWxvbmU9Im5vIj8+CjwhRE9DVFlQRSBzdmcgUFVCTElDICItLy9XM0MvL0RURCBTVkcgMS4xLy9FTiIKICJodHRwOi8vd3d3LnczLm9yZy9HcmFwaGljcy9TVkcvMS4xL0RURC9zdmcxMS5kdGQiPgo8IS0tIEdlbmVyYXRlZCBieSBncmFwaHZpeiB2ZXJzaW9uIDIuNDAuMSAoMjAxNjEyMjUuMDMwNCkKIC0tPgo8IS0tIFRpdGxlOiBwcm9vZiBQYWdlczogMSAtLT4KPHN2ZyB3aWR0aD0iNDIwcHQiIGhlaWdodD0iMzA1cHQiCiB2aWV3Qm94PSIwLjAwIDAuMDAgNDE5LjkzIDMwNS4wMCIgeG1sbnM9Imh0dHA6Ly93d3cudzMub3JnLzIwMDAvc3ZnIiB4bWxuczp4bGluaz0iaHR0cDovL3d3dy53My5vcmcvMTk5OS94bGluayI+CjxnIGlkPSJncmFwaDAiIGNsYXNzPSJncmFwaCIgdHJhbnNmb3JtPSJzY2FsZSgxIDEpIHJvdGF0ZSgwKSB0cmFuc2xhdGUoNCAzMDEpIj4KPHRpdGxlPnByb29mPC90aXRsZT4KPHBvbHlnb24gZmlsbD0iI2ZmZmZmZiIgc3Ryb2tlPSJ0cmFuc3BhcmVudCIgcG9pbnRzPSItNCw0IC00LC0zMDEgNDE1LjkzMjUsLTMwMSA0MTUuOTMyNSw0IC00LDQiLz4KPCEtLSBwXzcgLS0+CjxnIGlkPSJub2RlMSIgY2xhc3M9Im5vZGUiPgo8dGl0bGU+cF83PC90aXRsZT4KPHBvbHlnb24gZmlsbD0iI2QzZDNkMyIgc3Ryb2tlPSIjMDAwMDAwIiBwb2ludHM9IjE5MC4yNDUxLC0yMTAgMTM0LjI0NTEsLTIxMCAxMzQuMjQ1MSwtMTc0IDE5MC4yNDUxLC0xNzQgMTkwLjI0NTEsLTIxMCIvPgo8dGV4dCB0ZXh0LWFuY2hvcj0ibWlkZGxlIiB4PSIxNjIuMjQ1MSIgeT0iLTE4OC4zIiBmb250LWZhbWlseT0iVGltZXMsc2VyaWYiIGZvbnQtc2l6ZT0iMTQuMDAiIGZpbGw9IiMwMDAwMDAiPnVuc2F0PC90ZXh0Pgo8L2c+CjwhLS0gcF96M185NTYgLS0+CjxnIGlkPSJub2RlMiIgY2xhc3M9Im5vZGUiPgo8dGl0bGU+cF96M185NTY8L3RpdGxlPgo8ZWxsaXBzZSBmaWxsPSJub25lIiBzdHJva2U9IiMwMDAwMDAiIGN4PSIxNjIuMjQ1MSIgY3k9Ii0xMDUiIHJ4PSIzMi40OTQyIiByeT0iMTgiLz4KPHRleHQgdGV4dC1hbmNob3I9Im1pZGRsZSIgeD0iMTYyLjI0NTEiIHk9Ii0xMDEuMyIgZm9udC1mYW1pbHk9IlRpbWVzLHNlcmlmIiBmb250LXNpemU9IjE0LjAwIiBmaWxsPSIjMDAwMDAwIj5mYWxzZTwvdGV4dD4KPC9nPgo8IS0tIHBfNyYjNDU7Jmd0O3BfejNfOTU2IC0tPgo8ZyBpZD0iZWRnZTEiIGNsYXNzPSJlZGdlIj4KPHRpdGxlPnBfNyYjNDU7Jmd0O3BfejNfOTU2PC90aXRsZT4KPHBhdGggZmlsbD0ibm9uZSIgc3Ryb2tlPSIjMDAwMDAwIiBkPSJNMTYyLjI0NTEsLTE3My45NzM1QzE2Mi4yNDUxLC0xNjIuMTkxOCAxNjIuMjQ1MSwtMTQ2LjU2MDcgMTYyLjI0NTEsLTEzMy4xNTgxIi8+Cjxwb2x5Z29uIGZpbGw9IiMwMDAwMDAiIHN0cm9rZT0iIzAwMDAwMCIgcG9pbnRzPSIxNjUuNzQ1MiwtMTMzLjAwMzMgMTYyLjI0NTEsLTEyMy4wMDM0IDE1OC43NDUyLC0xMzMuMDAzNCAxNjUuNzQ1MiwtMTMzLjAwMzMiLz4KPHRleHQgdGV4dC1hbmNob3I9Im1pZGRsZSIgeD0iMTcwLjc0NTEiIHk9Ii0xNDQuOCIgZm9udC1mYW1pbHk9IlRpbWVzLHNlcmlmIiBmb250LXNpemU9IjE0LjAwIiBmaWxsPSIjMDAwMDAwIj56MzwvdGV4dD4KPC9nPgo8IS0tIHBfejNfOTUyIC0tPgo8ZyBpZD0ibm9kZTMiIGNsYXNzPSJub2RlIj4KPHRpdGxlPnBfejNfOTUyPC90aXRsZT4KPGVsbGlwc2UgZmlsbD0ibm9uZSIgc3Ryb2tlPSIjMDAwMDAwIiBjeD0iNTUuMjQ1MSIgY3k9Ii0xOCIgcng9IjU1LjQ5MTMiIHJ5PSIxOCIvPgo8dGV4dCB0ZXh0LWFuY2hvcj0ibWlkZGxlIiB4PSI1NS4yNDUxIiB5PSItMTQuMyIgZm9udC1mYW1pbHk9IlRpbWVzLHNlcmlmIiBmb250LXNpemU9IjE0LjAwIiBmaWxsPSIjMDAwMDAwIj4obm90IHRydWUpPC90ZXh0Pgo8L2c+CjwhLS0gcF96M185NTYmIzQ1OyZndDtwX3ozXzk1MiAtLT4KPGcgaWQ9ImVkZ2UyIiBjbGFzcz0iZWRnZSI+Cjx0aXRsZT5wX3ozXzk1NiYjNDU7Jmd0O3BfejNfOTUyPC90aXRsZT4KPHBhdGggZmlsbD0ibm9uZSIgc3Ryb2tlPSIjMDAwMDAwIiBkPSJNMTQzLjYwNzEsLTg5Ljg0NThDMTI3LjA1MTYsLTc2LjM4NDcgMTAyLjYwNzIsLTU2LjUwOTQgODMuNjIyOSwtNDEuMDczNSIvPgo8cG9seWdvbiBmaWxsPSIjMDAwMDAwIiBzdHJva2U9IiMwMDAwMDAiIHBvaW50cz0iODUuODI2OSwtMzguMzU0NyA3NS44NTk5LC0zNC43NjE2IDgxLjQxMDgsLTQzLjc4NTkgODUuODI2OSwtMzguMzU0NyIvPgo8dGV4dCB0ZXh0LWFuY2hvcj0ibWlkZGxlIiB4PSIxMzEuMjQ1MSIgeT0iLTU3LjgiIGZvbnQtZmFtaWx5PSJUaW1lcyxzZXJpZiIgZm9udC1zaXplPSIxNC4wMCIgZmlsbD0iIzAwMDAwMCI+bXAxPC90ZXh0Pgo8L2c+CjwhLS0gcF96M185NDcgLS0+CjxnIGlkPSJub2RlNCIgY2xhc3M9Im5vZGUiPgo8dGl0bGU+cF96M185NDc8L3RpdGxlPgo8ZWxsaXBzZSBmaWxsPSJub25lIiBzdHJva2U9IiMwMDAwMDAiIGN4PSIyNzAuMjQ1MSIgY3k9Ii0xOCIgcng9IjE0MS44NzUxIiByeT0iMTgiLz4KPHRleHQgdGV4dC1hbmNob3I9Im1pZGRsZSIgeD0iMjcwLjI0NTEiIHk9Ii0xNC4zIiBmb250LWZhbWlseT0iVGltZXMsc2VyaWYiIGZvbnQtc2l6ZT0iMTQuMDAiIGZpbGw9IiMwMDAwMDAiPihyZXdyaXRlICg9IChub3QgdHJ1ZSkgZmFsc2UpKTwvdGV4dD4KPC9nPgo8IS0tIHBfejNfOTU2JiM0NTsmZ3Q7cF96M185NDcgLS0+CjxnIGlkPSJlZGdlMyIgY2xhc3M9ImVkZ2UiPgo8dGl0bGU+cF96M185NTYmIzQ1OyZndDtwX3ozXzk0NzwvdGl0bGU+CjxwYXRoIGZpbGw9Im5vbmUiIHN0cm9rZT0iIzAwMDAwMCIgZD0iTTE4MS4wNTczLC04OS44NDU4QzE5Ny4yNzE4LC03Ni43ODQxIDIyMC45ODM0LC01Ny42ODMgMjM5Ljg4MjUsLTQyLjQ1ODgiLz4KPHBvbHlnb24gZmlsbD0iIzAwMDAwMCIgc3Ryb2tlPSIjMDAwMDAwIiBwb2ludHM9IjI0Mi4zMjQ3LC00NC45ODU5IDI0Ny45MTY2LC0zNS45ODY5IDIzNy45MzMzLC0zOS41MzQ2IDI0Mi4zMjQ3LC00NC45ODU5Ii8+Cjx0ZXh0IHRleHQtYW5jaG9yPSJtaWRkbGUiIHg9IjIzOC4yNDUxIiB5PSItNTcuOCIgZm9udC1mYW1pbHk9IlRpbWVzLHNlcmlmIiBmb250LXNpemU9IjE0LjAwIiBmaWxsPSIjMDAwMDAwIj5tcDI8L3RleHQ+CjwvZz4KPCEtLSBwXzAgLS0+CjxnIGlkPSJub2RlNSIgY2xhc3M9Im5vZGUiPgo8dGl0bGU+cF8wPC90aXRsZT4KPHBvbHlnb24gZmlsbD0iI2QzZDNkMyIgc3Ryb2tlPSIjMDAwMDAwIiBwb2ludHM9IjIxNC4yNDUxLC0yOTcgMTEwLjI0NTEsLTI5NyAxMTAuMjQ1MSwtMjYxIDIxNC4yNDUxLC0yNjEgMjE0LjI0NTEsLTI5NyIvPgo8dGV4dCB0ZXh0LWFuY2hvcj0ibWlkZGxlIiB4PSIxNjIuMjQ1MSIgeT0iLTI3NS4zIiBmb250LWZhbWlseT0iVGltZXMsc2VyaWYiIGZvbnQtc2l6ZT0iMTQuMDAiIGZpbGw9IiMwMDAwMDAiPlByZV9wcm9jZXNzPC90ZXh0Pgo8L2c+CjwhLS0gcF8wJiM0NTsmZ3Q7cF83IC0tPgo8ZyBpZD0iZWRnZTQiIGNsYXNzPSJlZGdlIj4KPHRpdGxlPnBfMCYjNDU7Jmd0O3BfNzwvdGl0bGU+CjxwYXRoIGZpbGw9Im5vbmUiIHN0cm9rZT0iIzAwMDAwMCIgZD0iTTE2Mi4yNDUxLC0yNjAuOTczNUMxNjIuMjQ1MSwtMjQ5LjE5MTggMTYyLjI0NTEsLTIzMy41NjA3IDE2Mi4yNDUxLC0yMjAuMTU4MSIvPgo8cG9seWdvbiBmaWxsPSIjMDAwMDAwIiBzdHJva2U9IiMwMDAwMDAiIHBvaW50cz0iMTY1Ljc0NTIsLTIyMC4wMDMzIDE2Mi4yNDUxLC0yMTAuMDAzNCAxNTguNzQ1MiwtMjIwLjAwMzQgMTY1Ljc0NTIsLTIyMC4wMDMzIi8+Cjx0ZXh0IHRleHQtYW5jaG9yPSJtaWRkbGUiIHg9IjE3OC43NDUxIiB5PSItMjMxLjgiIGZvbnQtZmFtaWx5PSJUaW1lcyxzZXJpZiIgZm9udC1zaXplPSIxNC4wMCIgZmlsbD0iIzAwMDAwMCI+dGhlbjwvdGV4dD4KPC9nPgo8L2c+Cjwvc3ZnPgo=\" alt=\"svg of graph\"/></div></div></div></div></div>\n"
      ]
     },
     "metadata": {},
     "output_type": "display_data"
    }
   ],
   "source": [
    "verify (fun x->  x+1 > x);;"
   ]
  }
 ],
 "metadata": {
  "kernelspec": {
   "display_name": "Imandra",
   "language": "ocaml",
   "name": "jupyter-imandra"
  },
  "language_info": {
   "codemirror_mode": "mllike",
   "file_extension": ".ml",
   "mimetype": "text",
   "name": "ocaml",
   "version": "0.1.0"
  }
 },
 "nbformat": 4,
 "nbformat_minor": 2
}
