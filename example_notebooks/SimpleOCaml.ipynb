{
 "cells": [
  {
   "cell_type": "code",
   "execution_count": 1,
   "metadata": {
    "collapsed": false
   },
   "outputs": [
    {
     "name": "stdout",
     "output_type": "stream",
     "text": [
      "val f : int -> int = <fun>\n"
     ]
    }
   ],
   "source": [
    "let f x = x + 1;;"
   ]
  },
  {
   "cell_type": "code",
   "execution_count": 2,
   "metadata": {
    "collapsed": false
   },
   "outputs": [
    {
     "name": "stdout",
     "output_type": "stream",
     "text": [
      "- : int list = [2; 3; 4; 5; 6]\n"
     ]
    }
   ],
   "source": [
    "let _ =\n",
    "    [1; 2; 3; 4; 5] |> List.map f;;\n"
   ]
  },
  {
   "cell_type": "code",
   "execution_count": 3,
   "metadata": {
    "collapsed": false
   },
   "outputs": [
    {
     "name": "stdout",
     "output_type": "stream",
     "text": [
      "val p : int -> int -> string = <fun>\n"
     ]
    }
   ],
   "source": [
    "let p = Printf.sprintf \"(%d, %d)\" ;;"
   ]
  },
  {
   "cell_type": "code",
   "execution_count": 7,
   "metadata": {
    "collapsed": false
   },
   "outputs": [
    {
     "name": "stdout",
     "output_type": "stream",
     "text": [
      "module type S = sig type t val create : unit -> t val inc : t -> t end\n",
      "module X : S\n"
     ]
    }
   ],
   "source": [
    "module type S = sig\n",
    "    type t\n",
    "    val create : unit -> t\n",
    "    val inc : t -> t\n",
    "end\n",
    "\n",
    "module X:S = struct\n",
    "    type t = int\n",
    "    let create () = 0\n",
    "    let inc x = x + 1\n",
    "end"
   ]
  },
  {
   "cell_type": "code",
   "execution_count": 8,
   "metadata": {
    "collapsed": false
   },
   "outputs": [
    {
     "name": "stdout",
     "output_type": "stream",
     "text": [
      "- : X.t = <abstr>\n"
     ]
    }
   ],
   "source": [
    "X.create () |> X.inc |> X.inc;;"
   ]
  },
  {
   "cell_type": "code",
   "execution_count": null,
   "metadata": {
    "collapsed": true
   },
   "outputs": [],
   "source": []
  }
 ],
 "metadata": {
  "kernelspec": {
   "display_name": "JUcaml",
   "language": "OCaml",
   "name": "jucaml"
  },
  "language_info": {
   "codemirror_mode": "",
   "file_extension": ".kst",
   "mimetype": "",
   "name": "Kostya",
   "nbconvert_exporter": "",
   "pygments_lexer": "",
   "version": "1.0"
  }
 },
 "nbformat": 4,
 "nbformat_minor": 0
}
