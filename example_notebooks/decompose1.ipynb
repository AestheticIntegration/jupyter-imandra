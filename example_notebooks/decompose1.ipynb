{
 "cells": [
  {
   "cell_type": "code",
   "execution_count": 1,
   "metadata": {},
   "outputs": [
    {
     "data": {
      "text/plain": []
     },
     "execution_count": 1,
     "metadata": {},
     "output_type": "execute_result"
    }
   ],
   "source": [
    "#redef ;;"
   ]
  },
  {
   "cell_type": "code",
   "execution_count": 2,
   "metadata": {},
   "outputs": [
    {
     "data": {
      "text/plain": [
       "- : int = 2\n",
       "val g : int -> bool = <fun>\n"
      ]
     },
     "execution_count": 2,
     "metadata": {},
     "output_type": "execute_result"
    }
   ],
   "source": [
    "1+1;;\n",
    "let g x = if x< 0 then x < 2 else x > 10 ;;"
   ]
  },
  {
   "cell_type": "code",
   "execution_count": 6,
   "metadata": {},
   "outputs": [
    {
     "data": {
      "text/plain": [
       "val rs : Imandra_lib.Decompose.t list =\n",
       "  [{Imandra_lib.Decompose.constraints = [<abstr>]; invariant = <abstr>;\n",
       "    solver = <abstr>};\n",
       "   {Imandra_lib.Decompose.constraints = [<abstr>]; invariant = <abstr>;\n",
       "    solver = <abstr>}]\n"
      ]
     },
     "execution_count": 6,
     "metadata": {},
     "output_type": "execute_result"
    },
    {
     "data": {
      "text/html": [
       "<div><table><thead><tr><th>constraints</th><th>invariants</th></tr></thead><tr><td><ul><li>(&lt;= 0 x)</li></ul></td><td>(not (&lt;= x 10))</td></tr><tr><td><ul><li>(not (&lt;= 0 x))</li></ul></td><td>(not (&lt;= 2 x))</td></tr></table></div>\n"
      ]
     },
     "metadata": {},
     "output_type": "display_data"
    }
   ],
   "source": [
    "let rs = Decompose.top \"g\";;"
   ]
  },
  {
   "cell_type": "code",
   "execution_count": 4,
   "metadata": {},
   "outputs": [
    {
     "data": {
      "text/plain": [
       "- : string list list = [[\"(<= 0 x)\"]; [\"(not (<= 0 x))\"]]\n"
      ]
     },
     "execution_count": 4,
     "metadata": {},
     "output_type": "execute_result"
    }
   ],
   "source": [
    "List.map (fun r -> List.map Expr.to_string r.Decompose.constraints) rs;;"
   ]
  },
  {
   "cell_type": "code",
   "execution_count": 7,
   "metadata": {},
   "outputs": [
    {
     "data": {
      "text/plain": [
       "module CX : sig val x : int end\n",
       "- : Imandra_lib.Kernel.Verify.t =\n",
       "Imandra_lib.Kernel.Verify.Refuted (Some <abstr>, Some <proof>)\n",
       "- : int = 0\n"
      ]
     },
     "execution_count": 7,
     "metadata": {},
     "output_type": "execute_result"
    },
    {
     "data": {
      "text/html": [
       "<div><h4 style=\"color=red\">Refuted</h4><p>(refuted :proof &lt;proof&gt; :model &lt;model&gt;)</p></div>\n"
      ]
     },
     "metadata": {},
     "output_type": "display_data"
    }
   ],
   "source": [
    "Verify.top \"g\";;\n",
    "\n",
    "CX.x ;;"
   ]
  }
 ],
 "metadata": {
  "kernelspec": {
   "display_name": "Imandra",
   "language": "imandra",
   "name": "jupyter-imandra"
  },
  "language_info": {
   "file_extension": ".txt",
   "mimetype": "text",
   "name": "Imandra",
   "version": "0.1.0"
  }
 },
 "nbformat": 4,
 "nbformat_minor": 2
}
