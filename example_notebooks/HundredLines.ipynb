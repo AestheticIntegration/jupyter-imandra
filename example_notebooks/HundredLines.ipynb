{
 "cells": [
  {
   "cell_type": "markdown",
   "metadata": {},
   "source": [
    "# Elementary functions\n",
    "\n",
    "Using the interactive system, let us define the square function and the recursive factorial function. Then, let us apply these functions to sample values:"
   ]
  },
  {
   "cell_type": "code",
   "execution_count": 15,
   "metadata": {
    "collapsed": false
   },
   "outputs": [
    {
     "name": "stdout",
     "output_type": "stream",
     "text": [
      "val square : int -> int = <fun>\n",
      "val fact : int -> int = <fun>\n"
     ]
    }
   ],
   "source": [
    "let square x = x * x;;\n",
    "let rec fact x =\n",
    "  if x <= 1 then 1 else x * fact (x - 1);;"
   ]
  },
  {
   "cell_type": "code",
   "execution_count": 5,
   "metadata": {
    "collapsed": false
   },
   "outputs": [
    {
     "name": "stdout",
     "output_type": "stream",
     "text": [
      "- : int = 120\n",
      "- : int = 14400\n"
     ]
    }
   ],
   "source": [
    "fact 5;;\n",
    "square 120;;"
   ]
  },
  {
   "cell_type": "markdown",
   "metadata": {},
   "source": [
    "# Automatic memory management\n",
    "\n",
    "All allocation and deallocation operations are fully automatic. For example, let us consider simply linked lists.\n",
    "\n",
    "Lists are predefined in Caml. The empty list is written []. The constructor that allows prepending an element to a list is written :: (in infix form)."
   ]
  },
  {
   "cell_type": "code",
   "execution_count": 6,
   "metadata": {
    "collapsed": false
   },
   "outputs": [
    {
     "name": "stdout",
     "output_type": "stream",
     "text": [
      "val l : int list = [1; 2; 3]\n"
     ]
    }
   ],
   "source": [
    "let l = 1 :: 2 :: 3 :: [];;"
   ]
  },
  {
   "cell_type": "code",
   "execution_count": 7,
   "metadata": {
    "collapsed": false
   },
   "outputs": [
    {
     "name": "stdout",
     "output_type": "stream",
     "text": [
      "- : int list = [1; 2; 3]\n"
     ]
    }
   ],
   "source": [
    "[1; 2; 3];;"
   ]
  },
  {
   "cell_type": "code",
   "execution_count": 8,
   "metadata": {
    "collapsed": false
   },
   "outputs": [
    {
     "name": "stdout",
     "output_type": "stream",
     "text": [
      "- : int list = [5; 1; 2; 3]\n"
     ]
    }
   ],
   "source": [
    "5 :: l;;"
   ]
  },
  {
   "cell_type": "markdown",
   "metadata": {},
   "source": [
    "# Polymorphism: sorting lists\n",
    "\n",
    "Insertion sort is defined using two recursive functions."
   ]
  },
  {
   "cell_type": "code",
   "execution_count": 3,
   "metadata": {
    "collapsed": false
   },
   "outputs": [
    {
     "name": "stdout",
     "output_type": "stream",
     "text": [
      "val sort : 'a list -> 'a list = <fun>\n",
      "val insert : 'a -> 'a list -> 'a list = <fun>\n"
     ]
    }
   ],
   "source": [
    "let rec sort = function\n",
    "  | [] -> []\n",
    "  | x :: l -> insert x (sort l)\n",
    "and insert elem = function\n",
    "  | [] -> [elem]\n",
    "  | x :: l -> \n",
    "      if elem < x then elem :: x :: l else x :: insert elem l;;"
   ]
  },
  {
   "cell_type": "markdown",
   "metadata": {},
   "source": [
    "Note that the type of the list elements remains unspecified: it is represented by a *type variable* `'a`. Thus, sort can be applied both to a list of integers and to a list of strings."
   ]
  },
  {
   "cell_type": "code",
   "execution_count": 4,
   "metadata": {
    "collapsed": false
   },
   "outputs": [
    {
     "name": "stdout",
     "output_type": "stream",
     "text": [
      "- : int list = [0; 1; 2]\n",
      "- : string list = [\"ok\"; \"sure\"; \"ya\"; \"yep\"; \"yes\"]\n"
     ]
    }
   ],
   "source": [
    "sort [2; 1; 0];;\n",
    "sort [\"yes\"; \"ok\"; \"sure\"; \"ya\"; \"yep\"];;"
   ]
  },
  {
   "cell_type": "markdown",
   "metadata": {},
   "source": [
    "# Imperative features\n",
    "\n",
    "Let us encode polynomials as arrays of integer coefficients. Then, to add two polynomials, we first allocate the result array, then fill its slots using two successive `for` loops."
   ]
  },
  {
   "cell_type": "code",
   "execution_count": 5,
   "metadata": {
    "collapsed": false
   },
   "outputs": [
    {
     "name": "stdout",
     "output_type": "stream",
     "text": [
      "val add_polynom : int array -> int array -> int array = <fun>\n"
     ]
    }
   ],
   "source": [
    "let add_polynom p1 p2 =\n",
    "  let n1 = Array.length p1\n",
    "  and n2 = Array.length p2 in\n",
    "  let result = Array.create (max n1 n2) 0 in\n",
    "  for i = 0 to n1 - 1 do result.(i) <- p1.(i) done;\n",
    "  for i = 0 to n2 - 1 do result.(i) <- result.(i) + p2.(i) done;\n",
    "  result;;"
   ]
  },
  {
   "cell_type": "code",
   "execution_count": 6,
   "metadata": {
    "collapsed": false
   },
   "outputs": [
    {
     "name": "stdout",
     "output_type": "stream",
     "text": [
      "- : int array = [|2; 4; 3|]\n"
     ]
    }
   ],
   "source": [
    "add_polynom [| 1; 2 |] [| 1; 2; 3 |];;"
   ]
  },
  {
   "cell_type": "markdown",
   "metadata": {},
   "source": [
    "Caml offers updatable memory cells, called *references*: `ref init` returns a new cell with initial contents `init`, `!cell` returns the current contents of cell, and cell `:=` v writes the value v into cell.\n",
    "\n",
    "We may redefine fact using a reference cell and a for loop:"
   ]
  },
  {
   "cell_type": "code",
   "execution_count": 7,
   "metadata": {
    "collapsed": false
   },
   "outputs": [
    {
     "name": "stdout",
     "output_type": "stream",
     "text": [
      "val fact : int -> int = <fun>\n"
     ]
    }
   ],
   "source": [
    "let fact n =\n",
    "    let result = ref 1 in\n",
    "    for i = 2 to n do result := i * !result done;\n",
    "    !result;;"
   ]
  },
  {
   "cell_type": "markdown",
   "metadata": {},
   "source": [
    "# Higher-order functions\n",
    "\n",
    "There is no restriction on functions, which may thus be passed as arguments to other functions. Let us define a function sigma that returns the sum of the results of applying a given function f to each element of a list:\n",
    "\n"
   ]
  },
  {
   "cell_type": "code",
   "execution_count": 8,
   "metadata": {
    "collapsed": false
   },
   "outputs": [
    {
     "name": "stdout",
     "output_type": "stream",
     "text": [
      "val sigma : ('a -> int) -> 'a list -> int = <fun>\n"
     ]
    }
   ],
   "source": [
    "let rec sigma f = function\n",
    "    | [] -> 0\n",
    "    | x :: l -> f x + sigma f l;;"
   ]
  },
  {
   "cell_type": "markdown",
   "metadata": {},
   "source": [
    "Anonymous functions may be defined using the function construct:"
   ]
  },
  {
   "cell_type": "code",
   "execution_count": 9,
   "metadata": {
    "collapsed": false
   },
   "outputs": [
    {
     "name": "stdout",
     "output_type": "stream",
     "text": [
      "- : int = 14\n"
     ]
    }
   ],
   "source": [
    "sigma (function x -> x * x) [1; 2; 3];;"
   ]
  },
  {
   "cell_type": "markdown",
   "metadata": {},
   "source": [
    "Polymorphism and higher-order functions allow defining function composition in its most general form:"
   ]
  },
  {
   "cell_type": "code",
   "execution_count": 17,
   "metadata": {
    "collapsed": false
   },
   "outputs": [
    {
     "name": "stdout",
     "output_type": "stream",
     "text": [
      "val compose : ('a -> 'b) -> ('c -> 'a) -> 'c -> 'b = <fun>\n",
      "val square_o_fact : int -> int = <fun>\n",
      "- : int = 14400\n"
     ]
    }
   ],
   "source": [
    "let compose f g = (function x -> f (g x));;\n",
    "let square_o_fact = compose square fact;;\n",
    "square_o_fact 5;;"
   ]
  },
  {
   "cell_type": "markdown",
   "metadata": {},
   "source": [
    "# The power of functions\n",
    "\n",
    "The power of functions cannot be better illustrated than by the power function:"
   ]
  },
  {
   "cell_type": "code",
   "execution_count": 21,
   "metadata": {
    "collapsed": false
   },
   "outputs": [
    {
     "name": "stdout",
     "output_type": "stream",
     "text": [
      "val power : ('a -> 'a) -> int -> 'a -> 'a = <fun>\n"
     ]
    }
   ],
   "source": [
    "let rec power f n = \n",
    "    if n = 0 then function x -> x \n",
    "    else compose f (power f (n - 1));;"
   ]
  },
  {
   "cell_type": "code",
   "execution_count": 22,
   "metadata": {
    "collapsed": false
   },
   "outputs": [
    {
     "name": "stdout",
     "output_type": "stream",
     "text": [
      "val derivative : float -> (float -> float) -> float -> float = <fun>\n",
      "val sin''' : float -> float = <fun>\n",
      "- : float = 0.999998972517346263\n"
     ]
    }
   ],
   "source": [
    "let derivative dx f = function x -> (f (x +. dx) -. f x) /. dx;;\n",
    "let sin''' = power (derivative 1e-5) 3 sin;;\n",
    "let pi = 4.0 *. atan 1.0 in sin''' pi;;"
   ]
  },
  {
   "cell_type": "markdown",
   "metadata": {},
   "source": [
    "# Symbolic computation\n",
    "\n",
    "Let us consider simple symbolic expressions made up of integers, variables, let bindings, and binary operators. Such expressions can be defined as a new data type, as follows:"
   ]
  },
  {
   "cell_type": "code",
   "execution_count": 18,
   "metadata": {
    "collapsed": false
   },
   "outputs": [
    {
     "name": "stdout",
     "output_type": "stream",
     "text": [
      "type expression =\n",
      "    Num of int\n",
      "  | Var of string\n",
      "  | Let of string * expression * expression\n",
      "  | Binop of string * expression * expression\n"
     ]
    }
   ],
   "source": [
    "type expression =\n",
    "  | Num of int\n",
    "  | Var of string\n",
    "  | Let of string * expression * expression\n",
    "  | Binop of string * expression * expression;;"
   ]
  },
  {
   "cell_type": "markdown",
   "metadata": {},
   "source": [
    "Evaluation of these expressions involves an environment that maps identifiers to values, represented as a list of pairs."
   ]
  },
  {
   "cell_type": "code",
   "execution_count": 19,
   "metadata": {
    "collapsed": false
   },
   "outputs": [
    {
     "name": "stdout",
     "output_type": "stream",
     "text": [
      "val eval : (string * int) list -> expression -> int = <fun>\n",
      "val eval_op : string -> int -> int -> int = <fun>\n"
     ]
    }
   ],
   "source": [
    "let rec eval env = function\n",
    "  | Num i -> i\n",
    "  | Var x -> List.assoc x env\n",
    "  | Let (x, e1, in_e2) ->\n",
    "     let val_x = eval env e1 in\n",
    "     eval ((x, val_x) :: env) in_e2\n",
    "  | Binop (op, e1, e2) ->\n",
    "     let v1 = eval env e1 in\n",
    "     let v2 = eval env e2 in\n",
    "     eval_op op v1 v2\n",
    "\n",
    "and eval_op op v1 v2 =\n",
    "  match op with\n",
    "  | \"+\" -> v1 + v2\n",
    "  | \"-\" -> v1 - v2\n",
    "  | \"*\" -> v1 * v2\n",
    "  | \"/\" -> v1 / v2\n",
    "  | _ -> failwith (\"Unknown operator: \" ^ op);;"
   ]
  },
  {
   "cell_type": "markdown",
   "metadata": {},
   "source": [
    "As an example, we evaluate the phrase `let x = 1 in x + x`:"
   ]
  },
  {
   "cell_type": "code",
   "execution_count": 20,
   "metadata": {
    "collapsed": false
   },
   "outputs": [
    {
     "name": "stdout",
     "output_type": "stream",
     "text": [
      "- : int = 2\n"
     ]
    }
   ],
   "source": [
    "eval [] (Let (\"x\", Num 1, Binop (\"+\", Var \"x\", Var \"x\")));;"
   ]
  },
  {
   "cell_type": "code",
   "execution_count": null,
   "metadata": {
    "collapsed": true
   },
   "outputs": [],
   "source": []
  }
 ],
 "metadata": {
  "kernelspec": {
   "display_name": "JUcaml",
   "language": "OCaml",
   "name": "jucaml"
  },
  "language_info": {
   "codemirror_mode": "",
   "file_extension": ".ml",
   "mimetype": "",
   "name": "OCaml",
   "nbconvert_exporter": "",
   "pygments_lexer": "OCaml",
   "version": "4.02"
  }
 },
 "nbformat": 4,
 "nbformat_minor": 0
}
