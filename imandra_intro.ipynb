{
 "cells": [
  {
   "cell_type": "markdown",
   "metadata": {},
   "source": [
    "<div class=\"Logo_Container\"><img class=\"Logo_PoweredByImandra\" src=\"../static/base/images/Imandra-poweredby.svg\" alt=\"Powered by Imandra\">\n",
    "    </div>\n",
    "\n",
    "# Imandra Jupyter test file\n",
    "\n",
    "Imandra is \n",
    "\n",
    " - AI for algorithms, scaled to the cloud;\n",
    " - a powerful new foundation for formally verified functional programming;\n",
    " - powering a new generation of tools for ensuring the safety, fairness,\n",
    "   transparency and correctness of complex algorithms.\n",
    "\n",
    "Imandra's Reasoning as a Service APIs democratise access to deep advances in\n",
    "automated reasoning, bringing the power of tools traditionally reserved to\n",
    "institutions like NASA to algorithm development at large.\n",
    "\n",
    "Disclaimer: Imandra stores normalised representations of user definitions, \n",
    "queries, counterexamples and proofs to improve future performance.\n",
    "\n",
    "## Core Reasoning Technology\n",
    "\n",
    "## Financial Markets\n"
   ]
  },
  {
   "cell_type": "code",
   "execution_count": 1,
   "metadata": {},
   "outputs": [
    {
     "data": {
      "text/plain": []
     },
     "execution_count": 1,
     "metadata": {},
     "output_type": "execute_result"
    }
   ],
   "source": [
    "#redef ;;"
   ]
  },
  {
   "cell_type": "code",
   "execution_count": 2,
   "metadata": {},
   "outputs": [
    {
     "data": {
      "text/plain": [
       "- : Z.t = 2\n",
       "val g : Z.t -> bool = <fun>\n"
      ]
     },
     "execution_count": 2,
     "metadata": {},
     "output_type": "execute_result"
    }
   ],
   "source": [
    "1+1;;\n",
    "let g x = if x< 0 then x < 2 else x > 10 ;;"
   ]
  },
  {
   "cell_type": "code",
   "execution_count": 3,
   "metadata": {
    "scrolled": true
   },
   "outputs": [
    {
     "data": {
      "text/plain": [
       "val rs : Imandra_lib.Decompose.t list =\n",
       "  [{Imandra_lib.Decompose.constraints = [<abstr>]; invariant = <abstr>;\n",
       "    solver = <abstr>};\n",
       "   {Imandra_lib.Decompose.constraints = [<abstr>]; invariant = <abstr>;\n",
       "    solver = <abstr>}]\n"
      ]
     },
     "execution_count": 3,
     "metadata": {},
     "output_type": "execute_result"
    },
    {
     "data": {
      "text/html": [
       "<div><table style=\"border:1px\"><thead><tr><th>Constraints</th><th>Invariant</th></tr></thead><tr><td><ul><li><pre>(0 &lt;= x)</pre></li></ul></td><td><pre>(not (x &lt;= 10))</pre></td></tr><tr><td><ul><li><pre>(not (0 &lt;= x))</pre></li></ul></td><td><pre>(not (2 &lt;= x))</pre></td></tr></table></div>\n"
      ]
     },
     "metadata": {},
     "output_type": "display_data"
    }
   ],
   "source": [
    "let rs = Decompose.top \"g\";;"
   ]
  },
  {
   "cell_type": "code",
   "execution_count": 4,
   "metadata": {},
   "outputs": [
    {
     "data": {
      "text/plain": [
       "- : string list list = [[\"(<= 0 |sko:x_818|)\"]; [\"(not (<= 0 |sko:x_818|))\"]]\n"
      ]
     },
     "execution_count": 4,
     "metadata": {},
     "output_type": "execute_result"
    }
   ],
   "source": [
    "List.map (fun r -> List.map Expr.to_string r.Decompose.constraints) rs;;"
   ]
  },
  {
   "cell_type": "code",
   "execution_count": 9,
   "metadata": {},
   "outputs": [
    {
     "data": {
      "text/plain": [
       "\r",
       "\u001b[2K\r",
       "[unroll k:0/100]\r",
       "\u001b[2K\r",
       "Counterexample:\n",
       " let x = 0\n",
       "module CX : sig val x : Z.t end\n",
       "- : Imandra_lib.Kernel.Verify.t =\n",
       "Imandra_lib.Kernel.Verify.Refuted (Some <abstr>, Some <abstr>)\n",
       "- : Z.t = 0\n"
      ]
     },
     "execution_count": 9,
     "metadata": {},
     "output_type": "execute_result"
    },
    {
     "data": {
      "text/html": [
       "<div><div>Refuted<div class=\"imandra-proof-top\"><div class=\"imandra-proof\"><img src=\"data:image/svg+xml;base64,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\" alt=\"svg of graph\"/></div></div><div><h4>model</h4><table style=\"border:1px\"><thead><tr><th>variable</th><th>value</th></tr></thead><tr><td>(x : int)</td><td><pre>0</pre></td></tr></table></div></div></div>\n"
      ]
     },
     "metadata": {},
     "output_type": "display_data"
    }
   ],
   "source": [
    "Verify.top \"g\";;\n",
    "\n",
    "CX.x ;;"
   ]
  },
  {
   "cell_type": "code",
   "execution_count": 6,
   "metadata": {},
   "outputs": [
    {
     "data": {
      "text/plain": [
       "type foo = { a : int; b : string; }\n"
      ]
     },
     "execution_count": 6,
     "metadata": {},
     "output_type": "execute_result"
    },
    {
     "data": {
      "text/html": [
       "<div><div><h3>Type: foo</h3><table style=\"border:1px\"><tr><td><b>iml</b></td><td>foo = {a: int; b: string}</td></tr><tr><td><b>location</b></td><td>Characters 0-41:\n",
       "  type foo = {\n",
       "      a: int;\n",
       "      b: string;\n",
       "  }..\n",
       "</td></tr><tr><td><b>path</b></td><td>&lt;root&gt;</td></tr></table></div></div>\n"
      ]
     },
     "metadata": {},
     "output_type": "display_data"
    }
   ],
   "source": [
    "type foo = {\n",
    "    a: int;\n",
    "    b: string;\n",
    "};;\n",
    "\n",
    "#history foo;;"
   ]
  },
  {
   "cell_type": "code",
   "execution_count": 10,
   "metadata": {},
   "outputs": [
    {
     "data": {
      "text/plain": [
       "val f : foo -> bool = <fun>\n",
       "\r",
       "\u001b[2K\r",
       "[unroll k:0/100]\r",
       "\u001b[2K\r",
       "Counterexample:\n",
       " let _x = { a = 6; b = \"\\\\x00\\\\x00\\\\x00\\\\x00\\\\x00\\\\x00\" }\n",
       "module CX : sig val _x : foo end\n",
       "- : Imandra_lib.Kernel.Verify.t =\n",
       "Imandra_lib.Kernel.Verify.Refuted (Some <abstr>, Some <abstr>)\n"
      ]
     },
     "execution_count": 10,
     "metadata": {},
     "output_type": "execute_result"
    },
    {
     "data": {
      "text/html": [
       "<div><div>Refuted<div class=\"imandra-proof-top\"><div class=\"imandra-proof\"><img src=\"data:image/svg+xml;base64,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\" alt=\"svg of graph\"/></div></div><div><h4>model</h4><table style=\"border:1px\"><thead><tr><th>variable</th><th>value</th></tr></thead><tr><td>(_x : foo)</td><td><pre>{a = 6; b = \\x00\\x00\\x00\\x00\\x00\\x00}</pre></td></tr></table></div></div></div>\n"
      ]
     },
     "metadata": {},
     "output_type": "display_data"
    }
   ],
   "source": [
    "let f {a;b} = a > 5 ==> String.length b <> a;;\n",
    "\n",
    "Verify.top \"f\";;"
   ]
  },
  {
   "cell_type": "code",
   "execution_count": 12,
   "metadata": {},
   "outputs": [
    {
     "data": {
      "text/plain": [
       "- : bool = false\n"
      ]
     },
     "execution_count": 12,
     "metadata": {},
     "output_type": "execute_result"
    }
   ],
   "source": [
    "Pconfig.State.(!state.top_print);;"
   ]
  }
 ],
 "metadata": {
  "kernelspec": {
   "display_name": "Imandra",
   "language": "ocaml",
   "name": "jupyter-imandra"
  },
  "language_info": {
   "codemirror_mode": "mllike",
   "file_extension": ".ml",
   "mimetype": "text",
   "name": "ocaml",
   "version": "0.1.0"
  }
 },
 "nbformat": 4,
 "nbformat_minor": 2
}
