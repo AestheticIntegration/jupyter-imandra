{
 "cells": [
  {
   "cell_type": "markdown",
   "metadata": {},
   "source": [
    "# Simplicity\n",
    "\n",
    "The safe language for smart contracts on bitcoin."
   ]
  },
  {
   "cell_type": "code",
   "execution_count": 1,
   "metadata": {},
   "outputs": [
    {
     "data": {
      "text/plain": [
       "/home/simon/.opam/4.03.0/lib/containers/monomorphic: added to search path\n",
       "/home/simon/.opam/4.03.0/lib/containers/monomorphic/containers_monomorphic.cma: loaded\n",
       "/home/simon/.opam/4.03.0/lib/result: added to search path\n",
       "/home/simon/.opam/4.03.0/lib/result/result.cma: loaded\n",
       "/home/simon/.opam/4.03.0/lib/uchar: added to search path\n",
       "/home/simon/.opam/4.03.0/lib/containers: added to search path\n",
       "/home/simon/.opam/4.03.0/lib/containers/containers.cma: loaded\n",
       "module Fmt = CCFormat\n"
      ]
     },
     "execution_count": 1,
     "metadata": {},
     "output_type": "execute_result"
    }
   ],
   "source": [
    "#program;;\n",
    "#require \"containers\";;\n",
    "module Fmt = CCFormat;;\n",
    "#logic;;"
   ]
  },
  {
   "cell_type": "markdown",
   "metadata": {},
   "source": [
    "## Basic types"
   ]
  },
  {
   "cell_type": "code",
   "execution_count": 2,
   "metadata": {},
   "outputs": [
    {
     "data": {
      "text/plain": [
       "type ty = One | Prod of ty * ty | Sum of ty * ty\n",
       "val one : ty = One\n",
       "val prod : ty -> ty -> ty = <fun>\n",
       "val sum : ty -> ty -> ty = <fun>\n",
       "type top_ty = ty * ty\n"
      ]
     },
     "execution_count": 2,
     "metadata": {},
     "output_type": "execute_result"
    }
   ],
   "source": [
    "type ty =\n",
    "  | One\n",
    "  | Prod of ty * ty\n",
    "  | Sum of ty * ty\n",
    "  \n",
    "let one = One\n",
    "let prod a b = Prod(a,b)\n",
    "let sum a b = Sum (a,b)\n",
    "\n",
    "\n",
    "(** a sequent, i.e. a pair of and input type and an output type *)\n",
    "type top_ty = ty * ty\n"
   ]
  },
  {
   "cell_type": "code",
   "execution_count": 3,
   "metadata": {},
   "outputs": [
    {
     "data": {
      "text/plain": [
       "val pp_ty : Fmt.t -> ty -> unit = <fun>\n"
      ]
     },
     "execution_count": 3,
     "metadata": {},
     "output_type": "execute_result"
    }
   ],
   "source": [
    "#program;;\n",
    "\n",
    "let rec pp_ty out = function\n",
    "  | One -> Fmt.string out \"1\"\n",
    "  | Prod (a,b) -> Fmt.fprintf out \"(@[%a @<1>×@ %a@])\" pp_ty a pp_ty b\n",
    "  | Sum (a,b) -> Fmt.fprintf out \"(@[%a +@ %a@])\" pp_ty a pp_ty b\n",
    ";;\n",
    "#install_printer pp_ty;;\n",
    "\n",
    "#logic;;"
   ]
  },
  {
   "cell_type": "code",
   "execution_count": 4,
   "metadata": {},
   "outputs": [
    {
     "data": {
      "text/plain": [
       "type expr =\n",
       "    Iden\n",
       "  | Unit\n",
       "  | Inj_l of expr\n",
       "  | Inj_r of expr\n",
       "  | Comp of ty * expr * expr\n",
       "  | Case of expr * expr\n",
       "  | Pair of expr * expr\n",
       "  | Take of expr\n",
       "  | Drop of expr\n",
       "val iden : expr = Iden\n",
       "val unit : expr = Unit\n",
       "val inj_l : expr -> expr = <fun>\n",
       "val inj_r : expr -> expr = <fun>\n",
       "val comp : ty -> expr -> expr -> expr = <fun>\n",
       "val case : expr -> expr -> expr = <fun>\n",
       "val pair : expr -> expr -> expr = <fun>\n",
       "val take : expr -> expr = <fun>\n",
       "val drop : expr -> expr = <fun>\n"
      ]
     },
     "execution_count": 4,
     "metadata": {},
     "output_type": "execute_result"
    }
   ],
   "source": [
    "\n",
    "(** Simplicity expressions *)\n",
    "type expr =\n",
    "  | Iden\n",
    "  | Unit\n",
    "  | Inj_l of expr\n",
    "  | Inj_r of expr\n",
    "  | Comp of ty * expr * expr  (* intermediate type needs to be provided *)\n",
    "  | Case of expr * expr\n",
    "  | Pair of expr * expr\n",
    "  | Take of expr\n",
    "  | Drop of expr\n",
    "  \n",
    "(* constructors *)\n",
    "\n",
    "let iden = Iden [@@macro]\n",
    "let unit = Unit [@@macro]\n",
    "let inj_l x = Inj_l x [@@macro]\n",
    "let inj_r x = Inj_r x [@@macro]\n",
    "let comp ty a b = Comp(ty,a,b) [@@macro]\n",
    "let case a b = Case(a,b) [@@macro]\n",
    "let pair a b = Pair(a,b) [@@macro]\n",
    "let take s = Take s [@@macro]\n",
    "let drop s = Drop s [@@macro]"
   ]
  },
  {
   "cell_type": "code",
   "execution_count": 5,
   "metadata": {},
   "outputs": [
    {
     "data": {
      "text/plain": [
       "val pp_expr : Fmt.t -> expr -> unit = <fun>\n"
      ]
     },
     "execution_count": 5,
     "metadata": {},
     "output_type": "execute_result"
    }
   ],
   "source": [
    "#program;;\n",
    "\n",
    "\n",
    "let rec pp_expr out = function\n",
    "  | Iden -> Fmt.string out \"iden\"\n",
    "  | Unit -> Fmt.string out \"unit\"\n",
    "  | Comp (_,a,b) -> Fmt.fprintf out \"(@[comp@ %a@ %a@])\" pp_expr a pp_expr b\n",
    "  | Inj_l a -> Fmt.fprintf out \"(@[inj_l@ %a]@])\" pp_expr a\n",
    "  | Inj_r a -> Fmt.fprintf out \"(@[inj_r@ %a]@])\" pp_expr a\n",
    "  | Take a -> Fmt.fprintf out \"(@[take@ %a]@])\" pp_expr a\n",
    "  | Drop a -> Fmt.fprintf out \"(@[drop@ %a]@])\" pp_expr a\n",
    "  | Case (a,b) -> Fmt.fprintf out \"(@[<hv1>case@ %a@ %a@])\" pp_expr a pp_expr b\n",
    "  | Pair (a,b) -> Fmt.fprintf out \"(@[<hv1>pair@ %a@ %a@])\" pp_expr a pp_expr b\n",
    ";;\n",
    "\n",
    "#install_printer pp_expr;;\n",
    "\n",
    "#logic;;"
   ]
  },
  {
   "cell_type": "markdown",
   "metadata": {},
   "source": [
    "## Typing\n",
    "\n",
    "We could not write a mere typechecking function with the paper expressions, because the typing rule for `Comp` is a \"cut\". Instead, we ask the user to provide this middle type in `Comp` explicitly."
   ]
  },
  {
   "cell_type": "code",
   "execution_count": 6,
   "metadata": {},
   "outputs": [
    {
     "data": {
      "text/plain": [
       "val expr_ty : expr -> top_ty -> bool = <fun>\n"
      ]
     },
     "execution_count": 6,
     "metadata": {},
     "output_type": "execute_result"
    }
   ],
   "source": [
    "\n",
    "(** Predicate: [expr_ty e ty = true] means that [e : ty] holds *)\n",
    "let rec expr_ty (e:expr) (ty:top_ty) : bool =\n",
    "  match e, ty with\n",
    "  | Iden, (a, b) -> a = b\n",
    "  | Unit, (_, One) -> true\n",
    "  | Comp (b,s,t), (a, c) ->\n",
    "    expr_ty s (a,b) && expr_ty t (b,c)\n",
    "  | Case (s,t), (Prod(Sum (a,b),c), d) ->\n",
    "    expr_ty s (prod a c, d) && expr_ty t (prod b c, d)\n",
    "  | Pair(s,t), (a,Prod(b,c)) ->\n",
    "    expr_ty s (a, b) && expr_ty t (a, c)\n",
    "  | Take t, (Prod(a,b),c) -> expr_ty t (a,c)\n",
    "  | Drop t, (Prod(a,b),c) -> expr_ty t (b,c)\n",
    "  | Inj_l t, (a, Sum(b,c)) -> expr_ty t (a,b)\n",
    "  | Inj_r t, (a, Sum(b,c)) -> expr_ty t (a,c)\n",
    "  | Unit, _ | Case _, _ | Take _, _ | Drop _, _ \n",
    "  | Pair _, _ | Inj_l _, _ | Inj_r _, _ \n",
    "    -> false\n",
    ";;\n",
    "\n"
   ]
  },
  {
   "cell_type": "markdown",
   "metadata": {},
   "source": [
    "We might think that typing of an `expr` is unique, but it is not the case:"
   ]
  },
  {
   "cell_type": "code",
   "execution_count": 7,
   "metadata": {
    "scrolled": false
   },
   "outputs": [
    {
     "data": {
      "text/plain": [
       "- : expr -> top_ty -> top_ty -> bool = <fun>\n",
       "2 base ground recursive instances\n",
       "Counterexample (after 2 steps, 0.00s):\n",
       " let e = Unit\n",
       " let ty1 = (Prod (Prod (Prod (One, One), One), One), One)\n",
       " let ty2 = (Prod (Prod (One, One), One), One)\n",
       "module CX : sig val e : expr val ty1 : ty * ty val ty2 : ty * ty end\n",
       "\u001b[31m[✗]\u001b[0m Conjecture refuted.\n"
      ]
     },
     "execution_count": 7,
     "metadata": {},
     "output_type": "execute_result"
    },
    {
     "data": {
      "text/html": [
       "<div><div>Refuted<div class=\"imandra-proof-top\"><div class=\"imandra-proof\"><div class=\"imandra-alternatives\"><div class=\"imandra-fold\"><ul><li><div><h4>pre-process</h4><div>(=&gt; (and (expr_ty_1274 (:var 0) (:var 1)) (expr_ty_1274 (:var 0) (:var 2)))\n",
       "    (= (:var 1) (:var 2)))<p></p>(or (not (and (expr_ty_1274 (:var 0) (:var 1)) (expr_ty_1274 (:var 0) (:var 2))))\n",
       "    (= (:var 1) (:var 2)))<p></p></div></div></li><li><div>unroll<table style=\"border:1px\"><tr><td><b>expr</b></td><td>(expr_ty_1274 |sko:e_1557| |sko:ty2_1559|)</td></tr><tr><td><b>expansions</b></td><td><ul><li>prod</li></ul></td></tr></table></div></li><li><div>unroll<table style=\"border:1px\"><tr><td><b>expr</b></td><td>(expr_ty_1274 |sko:e_1557| |sko:ty1_1558|)</td></tr><tr><td><b>expansions</b></td><td><ul><li>prod</li></ul></td></tr></table></div></li><li>Sat (Some  let e = Unit\n",
       " let ty1 = (Prod (Prod (Prod (One, One), One), One), One)\n",
       " let ty2 = (Prod (Prod (One, One), One), One))</li></ul></div><img src=\"data:image/svg+xml;base64,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\" alt=\"svg of graph\"/></div></div></div><div><h4>model</h4><table style=\"border:1px\"><thead><tr><th>variable</th><th>value</th></tr></thead><tr><td>(ty2 : `(ty * ty)`)</td><td><pre>(Prod(Prod(One, One), One), One)</pre></td></tr><tr><td>(ty1 : `(ty * ty)`)</td><td><pre>(Prod(Prod(Prod(One, One), One), One), One)</pre></td></tr><tr><td>(e : expr)</td><td><pre>Unit</pre></td></tr></table></div></div></div>\n"
      ]
     },
     "metadata": {},
     "output_type": "display_data"
    }
   ],
   "source": [
    "\n",
    "verify\n",
    "  (fun e ty1 ty2 ->\n",
    "     expr_ty e ty1 && expr_ty e ty2 ==> ty1 = ty2)\n"
   ]
  },
  {
   "cell_type": "code",
   "execution_count": 24,
   "metadata": {},
   "outputs": [
    {
     "data": {
      "text/plain": [
       "- : expr -> top_ty -> top_ty -> bool = <fun>\n",
       "2 base ground recursive instances\n",
       "Counterexample (after 7 steps, 0.03s):\n",
       " let e = Comp (One, Unit, Unit)\n",
       " let ty1 = (Prod (Sum (Prod (One, One), Prod (One, One)), Prod (One, One)), One)\n",
       " let ty2 = (Prod (Sum (One, One), One), One)\n",
       "module CX : sig val e : expr val ty1 : ty * ty val ty2 : ty * ty end\n",
       "\u001b[31m[✗]\u001b[0m Conjecture refuted.\n"
      ]
     },
     "execution_count": 24,
     "metadata": {},
     "output_type": "execute_result"
    },
    {
     "data": {
      "text/html": [
       "<div><div>Refuted<div class=\"imandra-proof-top\"><div class=\"imandra-proof\"><div class=\"imandra-alternatives\"><div class=\"imandra-fold\"><ul><li><div><h4>pre-process</h4><div>(=&gt; (and (not (= (:var 0) Unit_1246)) (not (= (:var 0) Iden_1245)))\n",
       "    (=&gt; (and (expr_ty_1274 (:var 0) (:var 1)) (expr_ty_1274 (:var 0) (:var 2)))\n",
       "        (= (:var 1) (:var 2))))<p></p>(let ((a!1 (not (and (not (= (:var 0) Unit_1246)) (not (= (:var 0) Iden_1245))))))\n",
       "  (or a!1\n",
       "      (not (and (expr_ty_1274 (:var 0) (:var 1))\n",
       "                (expr_ty_1274 (:var 0) (:var 2))))\n",
       "      (= (:var 1) (:var 2))))<p></p></div></div></li><li><div>unroll<table style=\"border:1px\"><tr><td><b>expr</b></td><td>(expr_ty_1274 |sko:e_1902| |sko:ty1_1903|)</td></tr><tr><td><b>expansions</b></td><td><ul><li>prod</li></ul></td></tr></table></div></li><li><div>unroll<table style=\"border:1px\"><tr><td><b>expr</b></td><td>(expr_ty_1274 |sko:e_1902| |sko:ty2_1904|)</td></tr><tr><td><b>expansions</b></td><td><ul><li>prod</li></ul></td></tr></table></div></li><li><div>unroll<table style=\"border:1px\"><tr><td><b>expr</b></td><td>(expr_ty_1274 (Comp_1249_ARG_1_1354 |sko:e_1902|)\n",
       "              (|tuple_mk.`(ty * ty)`_1362_1363|\n",
       "                (|tuple_get.`(ty * ty)`_1362.0_1364| |sko:ty1_1903|)\n",
       "                (Comp_1249_ARG_0_1353 |sko:e_1902|)))</td></tr><tr><td><b>expansions</b></td><td><ul><li>prod</li></ul></td></tr></table></div></li><li><div>unroll<table style=\"border:1px\"><tr><td><b>expr</b></td><td>(expr_ty_1274 (Comp_1249_ARG_1_1354 |sko:e_1902|)\n",
       "              (|tuple_mk.`(ty * ty)`_1362_1363|\n",
       "                (|tuple_get.`(ty * ty)`_1362.0_1364| |sko:ty2_1904|)\n",
       "                (Comp_1249_ARG_0_1353 |sko:e_1902|)))</td></tr><tr><td><b>expansions</b></td><td><ul><li>prod</li></ul></td></tr></table></div></li><li><div>unroll<table style=\"border:1px\"><tr><td><b>expr</b></td><td>(expr_ty_1274 (Comp_1249_ARG_2_1355 |sko:e_1902|)\n",
       "              (|tuple_mk.`(ty * ty)`_1362_1363|\n",
       "                (Comp_1249_ARG_0_1353 |sko:e_1902|)\n",
       "                (|tuple_get.`(ty * ty)`_1362.1_1365| |sko:ty1_1903|)))</td></tr><tr><td><b>expansions</b></td><td><ul><li>prod</li></ul></td></tr></table></div></li><li><div>unroll<table style=\"border:1px\"><tr><td><b>expr</b></td><td>(let ((a!1 (Prod_1234 (Sum_1235_ARG_0_1351\n",
       "                        (Prod_1234_ARG_0_1349\n",
       "                          (|tuple_get.`(ty * ty)`_1362.0_1364| |sko:ty1_1903|)))\n",
       "                      (Prod_1234_ARG_1_1350\n",
       "                        (|tuple_get.`(ty * ty)`_1362.0_1364| |sko:ty1_1903|)))))\n",
       "  (expr_ty_1274 (Case_1250_ARG_0_1356 |sko:e_1902|)\n",
       "                (|tuple_mk.`(ty * ty)`_1362_1363|\n",
       "                  a!1\n",
       "                  (|tuple_get.`(ty * ty)`_1362.1_1365| |sko:ty1_1903|))))</td></tr><tr><td><b>expansions</b></td><td><ul><li>prod</li></ul></td></tr></table></div></li><li><div>unroll<table style=\"border:1px\"><tr><td><b>expr</b></td><td>(expr_ty_1274 (Comp_1249_ARG_2_1355 |sko:e_1902|)\n",
       "              (|tuple_mk.`(ty * ty)`_1362_1363|\n",
       "                (Comp_1249_ARG_0_1353 |sko:e_1902|)\n",
       "                (|tuple_get.`(ty * ty)`_1362.1_1365| |sko:ty2_1904|)))</td></tr><tr><td><b>expansions</b></td><td><ul><li>prod</li></ul></td></tr></table></div></li><li>Sat (Some  let e = Comp (One, Unit, Unit)\n",
       " let ty1 = (Prod (Sum (Prod (One, One), Prod (One, One)), Prod (One, One)), One)\n",
       " let ty2 = (Prod (Sum (One, One), One), One))</li></ul></div><img src=\"data:image/svg+xml;base64,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\" alt=\"svg of graph\"/></div></div></div><div><h4>model</h4><table style=\"border:1px\"><thead><tr><th>variable</th><th>value</th></tr></thead><tr><td>(ty2 : `(ty * ty)`)</td><td><pre>(Prod(Sum(One, One), One), One)</pre></td></tr><tr><td>(ty1 : `(ty * ty)`)</td><td><pre>(Prod(Sum(Prod(One, One), Prod(One, One)), Prod(One, One)), One)</pre></td></tr><tr><td>(e : expr)</td><td><pre>Comp(One, Unit, Unit)</pre></td></tr></table></div></div></div>\n"
      ]
     },
     "metadata": {},
     "output_type": "display_data"
    }
   ],
   "source": [
    "\n",
    "verify\n",
    "  (fun e ty1 ty2 ->\n",
    "     e <> Unit && e <> Iden ==>\n",
    "     expr_ty e ty1 && expr_ty e ty2 ==> ty1 = ty2)\n"
   ]
  },
  {
   "cell_type": "markdown",
   "metadata": {},
   "source": [
    "## Evaluation\n",
    "\n",
    "\n",
    "Evaluation reduces a term into a value. Values, like expressions, are typed."
   ]
  },
  {
   "cell_type": "code",
   "execution_count": 9,
   "metadata": {},
   "outputs": [
    {
     "data": {
      "text/plain": [
       "type value =\n",
       "    V_unit\n",
       "  | V_left of value\n",
       "  | V_right of value\n",
       "  | V_pair of value * value\n",
       "val v_unit : value = V_unit\n",
       "val v_left : value -> value = <fun>\n",
       "val v_right : value -> value = <fun>\n",
       "val v_pair : value -> value -> value = <fun>\n"
      ]
     },
     "execution_count": 9,
     "metadata": {},
     "output_type": "execute_result"
    }
   ],
   "source": [
    "(* first, we need values *)\n",
    "\n",
    "(** Values obtained when evaluating Simplicity expressions *)\n",
    "type value =\n",
    "    | V_unit\n",
    "    | V_left of value\n",
    "    | V_right of value\n",
    "    | V_pair of value * value\n",
    "    \n",
    "let v_unit = V_unit [@@macro]\n",
    "let v_left x = V_left x [@@macro]\n",
    "let v_right x = V_right x [@@macro]\n",
    "let v_pair x y = V_pair (x,y) [@@macro]\n"
   ]
  },
  {
   "cell_type": "code",
   "execution_count": 10,
   "metadata": {},
   "outputs": [
    {
     "data": {
      "text/plain": [
       "val pp_value : Format.formatter -> value -> unit = <fun>\n"
      ]
     },
     "execution_count": 10,
     "metadata": {},
     "output_type": "execute_result"
    }
   ],
   "source": [
    "#program;;\n",
    "\n",
    "let rec pp_value out = function\n",
    "  | V_unit -> Format.fprintf out \"()\"\n",
    "  | V_left v -> Format.fprintf out \"@<1>σ0%a\" pp_value v\n",
    "  | V_right v -> Format.fprintf out \"@<1>σ1%a\" pp_value v\n",
    "  | V_pair (v1,v2) -> Format.fprintf out \"(@[%a,@ %a@])\" pp_value v1 pp_value v2\n",
    ";;\n",
    "\n",
    "#install_printer pp_value ;;\n",
    "\n",
    "#logic ;;"
   ]
  },
  {
   "cell_type": "code",
   "execution_count": 11,
   "metadata": {},
   "outputs": [
    {
     "data": {
      "text/plain": [
       "val value_ty : value -> ty -> bool = <fun>\n"
      ]
     },
     "execution_count": 11,
     "metadata": {},
     "output_type": "execute_result"
    }
   ],
   "source": [
    "\n",
    "let rec value_ty (v:value) (ty:ty) : bool =\n",
    "  match v, ty with\n",
    "  | V_unit, One -> true\n",
    "  | V_pair (v1,v2), Prod(a,b) -> value_ty v1 a && value_ty v2 b\n",
    "  | V_left v', Sum (a,_) -> value_ty v' a\n",
    "  | V_right v', Sum (_,b) -> value_ty v' b\n",
    "  | V_unit, _ | V_pair _, _ | V_left _, _ | V_right _, _ -> false\n"
   ]
  },
  {
   "cell_type": "markdown",
   "metadata": {},
   "source": [
    "Evaluation takes an expression of type $ A \\vdash B $, and a value of type $A$, and\n",
    "returns a value of type $B$.\n",
    "\n",
    "It always terminates and takes predictable time and space."
   ]
  },
  {
   "cell_type": "code",
   "execution_count": 35,
   "metadata": {},
   "outputs": [
    {
     "data": {
      "text/plain": [
       "val eval : expr -> value -> value option = <fun>\n"
      ]
     },
     "execution_count": 35,
     "metadata": {},
     "output_type": "execute_result"
    }
   ],
   "source": [
    "\n",
    "(** Main evaluation function. It is partial because of type errors *)\n",
    "let rec eval (e:expr) (v:value) : value option =\n",
    "    let open Option in\n",
    "    match e, v with\n",
    "    | Unit, _ -> Some V_unit\n",
    "    | Comp (_,s,t), _ ->\n",
    "      eval s v >>= fun v' -> eval t v'\n",
    "    | Iden, _ -> Some v\n",
    "    | Inj_l t, _ -> eval t v >|= v_left\n",
    "    | Inj_r t, _ -> eval t v >|= v_right\n",
    "     (*\n",
    "    | Case (s, t), V_pair (V_left a, c) ->\n",
    "      eval s (v_pair a c)\n",
    "    | Case (s, t), V_pair (V_right b, c) ->\n",
    "      eval t (v_pair b c)\n",
    "   \n",
    "    | Pair (s, t), _ ->\n",
    "      eval s v >>= fun v1 ->\n",
    "      eval t v >|= fun v2 ->\n",
    "      v_pair v1 v2 \n",
    "    | Take t, V_pair (a,_) ->\n",
    "      eval t a \n",
    "    | Drop t, V_pair (_,b) ->\n",
    "      eval t b  *)\n",
    "    | _ ->\n",
    "      None  (* ill typed *)\n",
    "[@@adm 0n]"
   ]
  },
  {
   "cell_type": "markdown",
   "metadata": {},
   "source": [
    "### Example\n",
    "\n",
    "We can define the type of individual bits: $\\mathbb{2} \\equiv \\mathbb{1} + \\mathbb{1}$"
   ]
  },
  {
   "cell_type": "code",
   "execution_count": 13,
   "metadata": {},
   "outputs": [
    {
     "data": {
      "text/plain": [
       "val bit : ty = (1 + 1)\n",
       "val b_zero : value = σ0()\n",
       "val b_one : value = σ1()\n",
       "- : bool = true\n",
       "- : bool = true\n"
      ]
     },
     "execution_count": 13,
     "metadata": {},
     "output_type": "execute_result"
    }
   ],
   "source": [
    "let bit : ty = sum one one\n",
    "\n",
    "let b_zero = v_left v_unit\n",
    "let b_one  = v_right v_unit\n",
    ";;\n",
    "\n",
    "value_ty b_zero bit ;;\n",
    "value_ty b_one  bit ;;"
   ]
  },
  {
   "cell_type": "code",
   "execution_count": 14,
   "metadata": {},
   "outputs": [
    {
     "data": {
      "text/plain": [
       "- : Z.t = 42\n"
      ]
     },
     "execution_count": 14,
     "metadata": {},
     "output_type": "execute_result"
    }
   ],
   "source": [
    "42 ;;"
   ]
  },
  {
   "cell_type": "code",
   "execution_count": 15,
   "metadata": {},
   "outputs": [
    {
     "data": {
      "text/plain": [
       "- : Z.t = 2\n"
      ]
     },
     "execution_count": 15,
     "metadata": {},
     "output_type": "execute_result"
    }
   ],
   "source": [
    "1+1;;"
   ]
  },
  {
   "cell_type": "code",
   "execution_count": 16,
   "metadata": {},
   "outputs": [
    {
     "data": {
      "text/plain": [
       "val bit_not : expr =\n",
       "  (comp (pair iden unit) (case (inj_r unit]) (inj_l unit])))\n",
       "- : value * '_a = (σ0(), <poly>)\n",
       "- : value * '_a = (σ1(), <poly>)\n",
       "- : bool = true\n"
      ]
     },
     "execution_count": 16,
     "metadata": {},
     "output_type": "execute_result"
    }
   ],
   "source": [
    "(* bit negation *)\n",
    "\n",
    "let bit_not : expr =\n",
    "    comp (prod bit one) (pair iden unit) (case (inj_r unit) (inj_l unit))\n",
    ";;\n",
    "\n",
    "b_zero, eval bit_not b_zero ;;\n",
    "b_one,  eval bit_not b_one ;;\n",
    "\n",
    "\n",
    "expr_ty bit_not (bit, bit) ;;"
   ]
  },
  {
   "cell_type": "code",
   "execution_count": 25,
   "metadata": {
    "scrolled": true
   },
   "outputs": [
    {
     "data": {
      "text/plain": [
       "- : ty -> bool = <fun>\n",
       "1 base ground recursive instance\n",
       "Counterexample (after 10 steps, 0.02s):\n",
       " let ty = Prod (Sum (One, One), One)\n",
       "module CX : sig val ty : ty end\n",
       "\u001b[31m[✗]\u001b[0m Conjecture refuted.\n",
       "- : ty = ((1 + 1) × 1)\n",
       "- : bool = false\n",
       "- : bool = true\n"
      ]
     },
     "execution_count": 25,
     "metadata": {},
     "output_type": "execute_result"
    },
    {
     "data": {
      "text/html": [
       "<div><div>Refuted<div class=\"imandra-proof-top\"><div class=\"imandra-proof\"><div class=\"imandra-alternatives\"><div class=\"imandra-fold\"><ul><li><div><h4>initial</h4>(let ((a!1 (expr_ty_1274 (Comp_1249 (:var 0)\n",
       "                                    (Pair_1251 Iden_1245 Unit_1246)\n",
       "                                    (Case_1250 (Inj_r_1248 Unit_1246)\n",
       "                                               (Inj_l_1247 Unit_1246)))\n",
       "                         (|tuple_mk.`(ty * ty)`_1362_1363|\n",
       "                           (Sum_1235 One_1233 One_1233)\n",
       "                           (Sum_1235 One_1233 One_1233)))))\n",
       "  (not a!1))</div></li><li><div>unroll<table style=\"border:1px\"><tr><td><b>expr</b></td><td>(expr_ty_1274 (Comp_1249 |sko:ty_1923|\n",
       "                         (Pair_1251 Iden_1245 Unit_1246)\n",
       "                         (Case_1250 (Inj_r_1248 Unit_1246)\n",
       "                                    (Inj_l_1247 Unit_1246)))\n",
       "              (|tuple_mk.`(ty * ty)`_1362_1363|\n",
       "                (Sum_1235 One_1233 One_1233)\n",
       "                (Sum_1235 One_1233 One_1233)))</td></tr><tr><td><b>expansions</b></td><td><ul><li>prod</li></ul></td></tr></table></div></li><li><div>unroll<table style=\"border:1px\"><tr><td><b>expr</b></td><td>(expr_ty_1274 (Case_1250 (Inj_r_1248 Unit_1246) (Inj_l_1247 Unit_1246))\n",
       "              (|tuple_mk.`(ty * ty)`_1362_1363|\n",
       "                |sko:ty_1923|\n",
       "                (Sum_1235 One_1233 One_1233)))</td></tr><tr><td><b>expansions</b></td><td><ul><li>prod</li></ul></td></tr></table></div></li><li><div>unroll<table style=\"border:1px\"><tr><td><b>expr</b></td><td>(expr_ty_1274 (Pair_1251 Iden_1245 Unit_1246)\n",
       "              (|tuple_mk.`(ty * ty)`_1362_1363|\n",
       "                (Sum_1235 One_1233 One_1233)\n",
       "                |sko:ty_1923|))</td></tr><tr><td><b>expansions</b></td><td><ul><li>prod</li></ul></td></tr></table></div></li><li><div>unroll<table style=\"border:1px\"><tr><td><b>expr</b></td><td>(let ((a!1 (|tuple_mk.`(ty * ty)`_1362_1363|\n",
       "             (Prod_1234 (Sum_1235_ARG_0_1351\n",
       "                          (Prod_1234_ARG_0_1349 |sko:ty_1923|))\n",
       "                        (Prod_1234_ARG_1_1350 |sko:ty_1923|))\n",
       "             (Sum_1235 One_1233 One_1233))))\n",
       "  (expr_ty_1274 (Inj_r_1248 Unit_1246) a!1))</td></tr><tr><td><b>expansions</b></td><td><ul><li>prod</li></ul></td></tr></table></div></li><li><div>unroll<table style=\"border:1px\"><tr><td><b>expr</b></td><td>(let ((a!1 (|tuple_mk.`(ty * ty)`_1362_1363|\n",
       "             (Prod_1234 (Sum_1235_ARG_0_1351\n",
       "                          (Prod_1234_ARG_0_1349 |sko:ty_1923|))\n",
       "                        (Prod_1234_ARG_1_1350 |sko:ty_1923|))\n",
       "             One_1233)))\n",
       "  (expr_ty_1274 Unit_1246 a!1))</td></tr><tr><td><b>expansions</b></td><td><ul><li>prod</li></ul></td></tr></table></div></li><li><div>unroll<table style=\"border:1px\"><tr><td><b>expr</b></td><td>(let ((a!1 (Case_1250_ARG_0_1356\n",
       "             (Comp_1249 |sko:ty_1923|\n",
       "                        (Pair_1251 Iden_1245 Unit_1246)\n",
       "                        (Case_1250 (Inj_r_1248 Unit_1246)\n",
       "                                   (Inj_l_1247 Unit_1246)))))\n",
       "      (a!2 (Prod_1234 (Sum_1235_ARG_0_1351\n",
       "                        (Prod_1234_ARG_0_1349 (Sum_1235 One_1233 One_1233)))\n",
       "                      (Prod_1234_ARG_1_1350 (Sum_1235 One_1233 One_1233)))))\n",
       "  (expr_ty_1274 a!1\n",
       "                (|tuple_mk.`(ty * ty)`_1362_1363|\n",
       "                  a!2\n",
       "                  (Sum_1235 One_1233 One_1233))))</td></tr><tr><td><b>expansions</b></td><td><ul><li>prod</li></ul></td></tr></table></div></li><li><div>unroll<table style=\"border:1px\"><tr><td><b>expr</b></td><td>(expr_ty_1274 Iden_1245\n",
       "              (|tuple_mk.`(ty * ty)`_1362_1363|\n",
       "                (Sum_1235 One_1233 One_1233)\n",
       "                (Prod_1234_ARG_0_1349 |sko:ty_1923|)))</td></tr><tr><td><b>expansions</b></td><td><ul><li>prod</li></ul></td></tr></table></div></li><li><div>unroll<table style=\"border:1px\"><tr><td><b>expr</b></td><td>(expr_ty_1274 Unit_1246\n",
       "              (|tuple_mk.`(ty * ty)`_1362_1363|\n",
       "                (Sum_1235 One_1233 One_1233)\n",
       "                (Prod_1234_ARG_1_1350 |sko:ty_1923|)))</td></tr><tr><td><b>expansions</b></td><td><ul><li>prod</li></ul></td></tr></table></div></li><li><div>unroll<table style=\"border:1px\"><tr><td><b>expr</b></td><td>(let ((a!1 (|tuple_mk.`(ty * ty)`_1362_1363|\n",
       "             (Prod_1234 (Sum_1235_ARG_1_1352\n",
       "                          (Prod_1234_ARG_0_1349 |sko:ty_1923|))\n",
       "                        (Prod_1234_ARG_1_1350 |sko:ty_1923|))\n",
       "             (Sum_1235 One_1233 One_1233))))\n",
       "  (expr_ty_1274 (Inj_l_1247 Unit_1246) a!1))</td></tr><tr><td><b>expansions</b></td><td><ul><li>prod</li></ul></td></tr></table></div></li><li><div>unroll<table style=\"border:1px\"><tr><td><b>expr</b></td><td>(let ((a!1 (|tuple_mk.`(ty * ty)`_1362_1363|\n",
       "             (Prod_1234 (Sum_1235_ARG_1_1352\n",
       "                          (Prod_1234_ARG_0_1349 |sko:ty_1923|))\n",
       "                        (Prod_1234_ARG_1_1350 |sko:ty_1923|))\n",
       "             One_1233)))\n",
       "  (expr_ty_1274 Unit_1246 a!1))</td></tr><tr><td><b>expansions</b></td><td><ul><li>prod</li></ul></td></tr></table></div></li><li>Sat (Some  let ty = Prod (Sum (One, One), One))</li></ul></div><img src=\"data:image/svg+xml;base64,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\" alt=\"svg of graph\"/></div></div></div><div><h4>model</h4><table style=\"border:1px\"><thead><tr><th>variable</th><th>value</th></tr></thead><tr><td>(ty : ty)</td><td><pre>Prod(Sum(One, One), One)</pre></td></tr></table></div></div></div>\n"
      ]
     },
     "metadata": {},
     "output_type": "display_data"
    }
   ],
   "source": [
    "\n",
    "(* how to infer the intermediate type of `bit_not` *)\n",
    "\n",
    "verify (fun ty ->\n",
    "  let bit_not = comp ty (pair iden unit) (case (inj_r unit) (inj_l unit)) in\n",
    "  not (expr_ty bit_not (bit,bit)))\n",
    ";;\n",
    "  \n",
    "CX.ty;;\n",
    "\n",
    "(* check result *)\n",
    "let bit_not' =\n",
    "  comp CX.ty (pair iden unit) (case (inj_r unit) (inj_l unit))\n",
    "in\n",
    "not (expr_ty bit_not' (bit,bit));;\n",
    "\n",
    "CX.ty = prod bit one;;"
   ]
  },
  {
   "cell_type": "code",
   "execution_count": 26,
   "metadata": {
    "scrolled": true
   },
   "outputs": [
    {
     "data": {
      "text/plain": [
       "val goal : ty -> bool = <fun>\n",
       "1 base ground recursive instance\n",
       "Counterexample (after 10 steps, 0.02s):\n",
       " let ty = Prod (Sum (One, One), One)\n",
       "module CX : sig val ty : ty end\n",
       "- : Imandra_lib.Kernel.Verify.t =\n",
       "Imandra_lib.Kernel.Verify.Refuted (Some <abstr>, Some <abstr>)\n"
      ]
     },
     "execution_count": 26,
     "metadata": {},
     "output_type": "execute_result"
    },
    {
     "data": {
      "text/html": [
       "<div><div>Refuted<div class=\"imandra-proof-top\"><div class=\"imandra-proof\"><div class=\"imandra-alternatives\"><div class=\"imandra-fold\"><ul><li>expand [bit, sum, one, one, bit, sum, one, one]</li><li><div><h4>pre-process</h4><div>(let ((a!1 (expr_ty_1274 (Comp_1249 (:var 0)\n",
       "                                    (Pair_1251 Iden_1245 Unit_1246)\n",
       "                                    (Case_1250 (Inj_r_1248 Unit_1246)\n",
       "                                               (Inj_l_1247 Unit_1246)))\n",
       "                         (|tuple_mk.`(ty * ty)`_1362_1363|\n",
       "                           (Sum_1235 One_1233 One_1233)\n",
       "                           (Sum_1235 One_1233 One_1233)))))\n",
       "  (not a!1))<p></p>(let ((a!1 (expr_ty_1274 (Comp_1249 (:var 0)\n",
       "                                    (Pair_1251 Iden_1245 Unit_1246)\n",
       "                                    (Case_1250 (Inj_r_1248 Unit_1246)\n",
       "                                               (Inj_l_1247 Unit_1246)))\n",
       "                         (|tuple_mk.`(ty * ty)`_1362_1363|\n",
       "                           (Sum_1235 One_1233 One_1233)\n",
       "                           (Sum_1235 One_1233 One_1233)))))\n",
       "  (not a!1))<p></p></div></div></li><li><div>unroll<table style=\"border:1px\"><tr><td><b>expr</b></td><td>(expr_ty_1274 (Comp_1249 |sko:ty_1938|\n",
       "                         (Pair_1251 Iden_1245 Unit_1246)\n",
       "                         (Case_1250 (Inj_r_1248 Unit_1246)\n",
       "                                    (Inj_l_1247 Unit_1246)))\n",
       "              (|tuple_mk.`(ty * ty)`_1362_1363|\n",
       "                (Sum_1235 One_1233 One_1233)\n",
       "                (Sum_1235 One_1233 One_1233)))</td></tr><tr><td><b>expansions</b></td><td><ul><li>prod</li></ul></td></tr></table></div></li><li><div>unroll<table style=\"border:1px\"><tr><td><b>expr</b></td><td>(expr_ty_1274 (Pair_1251 Iden_1245 Unit_1246)\n",
       "              (|tuple_mk.`(ty * ty)`_1362_1363|\n",
       "                (Sum_1235 One_1233 One_1233)\n",
       "                |sko:ty_1938|))</td></tr><tr><td><b>expansions</b></td><td><ul><li>prod</li></ul></td></tr></table></div></li><li><div>unroll<table style=\"border:1px\"><tr><td><b>expr</b></td><td>(expr_ty_1274 Iden_1245\n",
       "              (|tuple_mk.`(ty * ty)`_1362_1363|\n",
       "                (Sum_1235 One_1233 One_1233)\n",
       "                (Prod_1234_ARG_0_1349 |sko:ty_1938|)))</td></tr><tr><td><b>expansions</b></td><td><ul><li>prod</li></ul></td></tr></table></div></li><li><div>unroll<table style=\"border:1px\"><tr><td><b>expr</b></td><td>(expr_ty_1274 Unit_1246\n",
       "              (|tuple_mk.`(ty * ty)`_1362_1363|\n",
       "                (Sum_1235 One_1233 One_1233)\n",
       "                (Prod_1234_ARG_1_1350 |sko:ty_1938|)))</td></tr><tr><td><b>expansions</b></td><td><ul><li>prod</li></ul></td></tr></table></div></li><li><div>unroll<table style=\"border:1px\"><tr><td><b>expr</b></td><td>(expr_ty_1274 (Case_1250 (Inj_r_1248 Unit_1246) (Inj_l_1247 Unit_1246))\n",
       "              (|tuple_mk.`(ty * ty)`_1362_1363|\n",
       "                |sko:ty_1938|\n",
       "                (Sum_1235 One_1233 One_1233)))</td></tr><tr><td><b>expansions</b></td><td><ul><li>prod</li></ul></td></tr></table></div></li><li><div>unroll<table style=\"border:1px\"><tr><td><b>expr</b></td><td>(let ((a!1 (Case_1250_ARG_0_1356\n",
       "             (Comp_1249 |sko:ty_1938|\n",
       "                        (Pair_1251 Iden_1245 Unit_1246)\n",
       "                        (Case_1250 (Inj_r_1248 Unit_1246)\n",
       "                                   (Inj_l_1247 Unit_1246)))))\n",
       "      (a!2 (Prod_1234 (Sum_1235_ARG_0_1351\n",
       "                        (Prod_1234_ARG_0_1349 (Sum_1235 One_1233 One_1233)))\n",
       "                      (Prod_1234_ARG_1_1350 (Sum_1235 One_1233 One_1233)))))\n",
       "  (expr_ty_1274 a!1\n",
       "                (|tuple_mk.`(ty * ty)`_1362_1363|\n",
       "                  a!2\n",
       "                  (Sum_1235 One_1233 One_1233))))</td></tr><tr><td><b>expansions</b></td><td><ul><li>prod</li></ul></td></tr></table></div></li><li><div>unroll<table style=\"border:1px\"><tr><td><b>expr</b></td><td>(let ((a!1 (|tuple_mk.`(ty * ty)`_1362_1363|\n",
       "             (Prod_1234 (Sum_1235_ARG_0_1351\n",
       "                          (Prod_1234_ARG_0_1349 |sko:ty_1938|))\n",
       "                        (Prod_1234_ARG_1_1350 |sko:ty_1938|))\n",
       "             (Sum_1235 One_1233 One_1233))))\n",
       "  (expr_ty_1274 (Inj_r_1248 Unit_1246) a!1))</td></tr><tr><td><b>expansions</b></td><td><ul><li>prod</li></ul></td></tr></table></div></li><li><div>unroll<table style=\"border:1px\"><tr><td><b>expr</b></td><td>(let ((a!1 (|tuple_mk.`(ty * ty)`_1362_1363|\n",
       "             (Prod_1234 (Sum_1235_ARG_0_1351\n",
       "                          (Prod_1234_ARG_0_1349 |sko:ty_1938|))\n",
       "                        (Prod_1234_ARG_1_1350 |sko:ty_1938|))\n",
       "             One_1233)))\n",
       "  (expr_ty_1274 Unit_1246 a!1))</td></tr><tr><td><b>expansions</b></td><td><ul><li>prod</li></ul></td></tr></table></div></li><li><div>unroll<table style=\"border:1px\"><tr><td><b>expr</b></td><td>(let ((a!1 (|tuple_mk.`(ty * ty)`_1362_1363|\n",
       "             (Prod_1234 (Sum_1235_ARG_1_1352\n",
       "                          (Prod_1234_ARG_0_1349 |sko:ty_1938|))\n",
       "                        (Prod_1234_ARG_1_1350 |sko:ty_1938|))\n",
       "             (Sum_1235 One_1233 One_1233))))\n",
       "  (expr_ty_1274 (Inj_l_1247 Unit_1246) a!1))</td></tr><tr><td><b>expansions</b></td><td><ul><li>prod</li></ul></td></tr></table></div></li><li><div>unroll<table style=\"border:1px\"><tr><td><b>expr</b></td><td>(let ((a!1 (|tuple_mk.`(ty * ty)`_1362_1363|\n",
       "             (Prod_1234 (Sum_1235_ARG_1_1352\n",
       "                          (Prod_1234_ARG_0_1349 |sko:ty_1938|))\n",
       "                        (Prod_1234_ARG_1_1350 |sko:ty_1938|))\n",
       "             One_1233)))\n",
       "  (expr_ty_1274 Unit_1246 a!1))</td></tr><tr><td><b>expansions</b></td><td><ul><li>prod</li></ul></td></tr></table></div></li><li>Sat (Some  let ty = Prod (Sum (One, One), One))</li></ul></div><img src=\"data:image/svg+xml;base64,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\" alt=\"svg of graph\"/></div></div></div><div><h4>model</h4><table style=\"border:1px\"><thead><tr><th>variable</th><th>value</th></tr></thead><tr><td>(ty : ty)</td><td><pre>Prod(Sum(One, One), One)</pre></td></tr></table></div></div></div>\n"
      ]
     },
     "metadata": {},
     "output_type": "display_data"
    }
   ],
   "source": [
    "let goal = fun ty ->\n",
    "  let bit_not = comp ty (pair iden unit) (case (inj_r unit) (inj_l unit)) in\n",
    "  not (expr_ty bit_not (bit,bit))\n",
    ";;\n",
    "\n",
    "Verify.top \"goal\";;"
   ]
  },
  {
   "cell_type": "markdown",
   "metadata": {},
   "source": [
    "## Well Typed Expressions\n",
    "\n",
    "Any well typed expressions evaluates to a value successfully."
   ]
  },
  {
   "cell_type": "code",
   "execution_count": 19,
   "metadata": {},
   "outputs": [
    {
     "data": {
      "text/plain": [
       "val eval_well_typed : expr -> ty * ty -> value -> bool = <fun>\n",
       "File \"_none_\", line 1:\n",
       "\u001b[31;1mError\u001b[0m: RT.mk_mono_app: eval should be a defined fun\n"
      ]
     },
     "execution_count": 19,
     "metadata": {},
     "output_type": "execute_result"
    }
   ],
   "source": [
    "\n",
    "theorem eval_well_typed (e:expr) (a, b : ty * ty) (v:value) =\n",
    "  expr_ty e (a,b) &&\n",
    "  value_ty v a\n",
    "  ==>\n",
    "  begin match eval e v with\n",
    "    | None -> false\n",
    "    | Some v' -> value_ty v' b\n",
    "  end\n",
    "[@@induct e]\n",
    ";;\n"
   ]
  },
  {
   "cell_type": "code",
   "execution_count": null,
   "metadata": {
    "scrolled": false
   },
   "outputs": [],
   "source": []
  },
  {
   "cell_type": "code",
   "execution_count": null,
   "metadata": {},
   "outputs": [],
   "source": []
  },
  {
   "cell_type": "markdown",
   "metadata": {},
   "source": [
    "### Example: half adder"
   ]
  },
  {
   "cell_type": "code",
   "execution_count": 20,
   "metadata": {},
   "outputs": [
    {
     "data": {
      "text/plain": [
       "val two_two : ty = ((1 + 1) × (1 + 1))\n",
       "val half_adder : expr =\n",
       "  (case\n",
       "    (drop (pair (inj_l unit]) iden)])\n",
       "    (drop\n",
       "     (pair iden (comp (pair iden unit) (case (inj_r unit]) (inj_l unit]))))]))\n"
      ]
     },
     "execution_count": 20,
     "metadata": {},
     "output_type": "execute_result"
    }
   ],
   "source": [
    "let two_two = prod bit bit \n",
    "\n",
    "\n",
    "let half_adder =\n",
    "  case (drop (pair (inj_l unit) iden))\n",
    "       (drop (pair iden bit_not))\n"
   ]
  },
  {
   "cell_type": "code",
   "execution_count": 21,
   "metadata": {},
   "outputs": [
    {
     "data": {
      "text/plain": [
       "- : bool = true\n"
      ]
     },
     "execution_count": 21,
     "metadata": {},
     "output_type": "execute_result"
    }
   ],
   "source": [
    "expr_ty half_adder (prod bit bit, two_two);;"
   ]
  },
  {
   "cell_type": "code",
   "execution_count": 22,
   "metadata": {},
   "outputs": [
    {
     "data": {
      "text/plain": [
       "- : top_ty -> bool = <fun>\n",
       "1 base ground recursive instance\n",
       "Counterexample (after 22 steps, 0.08s):\n",
       " let ty = (Prod (Sum (One, One), Sum (One, One)), Prod (Sum (One, One), Sum (One, One)))\n",
       "module CX : sig val ty : ty * ty end\n",
       "\u001b[31m[✗]\u001b[0m Conjecture refuted.\n"
      ]
     },
     "execution_count": 22,
     "metadata": {},
     "output_type": "execute_result"
    },
    {
     "data": {
      "text/html": [
       "<div><div>Refuted<div class=\"imandra-proof-top\"><div class=\"imandra-proof\"><div class=\"imandra-alternatives\"><div class=\"imandra-fold\"><ul><li><div><h4>initial</h4>(let ((a!1 (Pair_1251 Iden_1245\n",
       "                      (Comp_1249 (Prod_1234 (Sum_1235 One_1233 One_1233)\n",
       "                                            One_1233)\n",
       "                                 (Pair_1251 Iden_1245 Unit_1246)\n",
       "                                 (Case_1250 (Inj_r_1248 Unit_1246)\n",
       "                                            (Inj_l_1247 Unit_1246))))))\n",
       "(let ((a!2 (Case_1250 (Drop_1253 (Pair_1251 (Inj_l_1247 Unit_1246) Iden_1245))\n",
       "                      (Drop_1253 a!1))))\n",
       "  (not (expr_ty_1274 a!2 (:var 0)))))</div></li><li><div>unroll<table style=\"border:1px\"><tr><td><b>expr</b></td><td>(let ((a!1 (Pair_1251 Iden_1245\n",
       "                      (Comp_1249 (Prod_1234 (Sum_1235 One_1233 One_1233)\n",
       "                                            One_1233)\n",
       "                                 (Pair_1251 Iden_1245 Unit_1246)\n",
       "                                 (Case_1250 (Inj_r_1248 Unit_1246)\n",
       "                                            (Inj_l_1247 Unit_1246))))))\n",
       "(let ((a!2 (Case_1250 (Drop_1253 (Pair_1251 (Inj_l_1247 Unit_1246) Iden_1245))\n",
       "                      (Drop_1253 a!1))))\n",
       "  (expr_ty_1274 a!2 |sko:ty_1874|)))</td></tr><tr><td><b>expansions</b></td><td><ul><li>prod</li></ul></td></tr></table></div></li><li><div>unroll<table style=\"border:1px\"><tr><td><b>expr</b></td><td>(let ((a!1 (Prod_1234 (Sum_1235_ARG_0_1351\n",
       "                        (Prod_1234_ARG_0_1349\n",
       "                          (|tuple_get.`(ty * ty)`_1362.0_1364| |sko:ty_1874|)))\n",
       "                      (Prod_1234_ARG_1_1350\n",
       "                        (|tuple_get.`(ty * ty)`_1362.0_1364| |sko:ty_1874|)))))\n",
       "  (expr_ty_1274 (Drop_1253 (Pair_1251 (Inj_l_1247 Unit_1246) Iden_1245))\n",
       "                (|tuple_mk.`(ty * ty)`_1362_1363|\n",
       "                  a!1\n",
       "                  (|tuple_get.`(ty * ty)`_1362.1_1365| |sko:ty_1874|))))</td></tr><tr><td><b>expansions</b></td><td><ul><li>prod</li></ul></td></tr></table></div></li><li><div>unroll<table style=\"border:1px\"><tr><td><b>expr</b></td><td>(let ((a!1 (Pair_1251 Iden_1245\n",
       "                      (Comp_1249 (Prod_1234 (Sum_1235 One_1233 One_1233)\n",
       "                                            One_1233)\n",
       "                                 (Pair_1251 Iden_1245 Unit_1246)\n",
       "                                 (Case_1250 (Inj_r_1248 Unit_1246)\n",
       "                                            (Inj_l_1247 Unit_1246)))))\n",
       "      (a!2 (Prod_1234 (Sum_1235_ARG_1_1352\n",
       "                        (Prod_1234_ARG_0_1349\n",
       "                          (|tuple_get.`(ty * ty)`_1362.0_1364| |sko:ty_1874|)))\n",
       "                      (Prod_1234_ARG_1_1350\n",
       "                        (|tuple_get.`(ty * ty)`_1362.0_1364| |sko:ty_1874|)))))\n",
       "  (expr_ty_1274 (Drop_1253 a!1)\n",
       "                (|tuple_mk.`(ty * ty)`_1362_1363|\n",
       "                  a!2\n",
       "                  (|tuple_get.`(ty * ty)`_1362.1_1365| |sko:ty_1874|))))</td></tr><tr><td><b>expansions</b></td><td><ul><li>prod</li></ul></td></tr></table></div></li><li><div>unroll<table style=\"border:1px\"><tr><td><b>expr</b></td><td>(let ((a!1 (Pair_1251 Iden_1245\n",
       "                      (Comp_1249 (Prod_1234 (Sum_1235 One_1233 One_1233)\n",
       "                                            One_1233)\n",
       "                                 (Pair_1251 Iden_1245 Unit_1246)\n",
       "                                 (Case_1250 (Inj_r_1248 Unit_1246)\n",
       "                                            (Inj_l_1247 Unit_1246))))))\n",
       "  (expr_ty_1274 a!1\n",
       "                (|tuple_mk.`(ty * ty)`_1362_1363|\n",
       "                  (Prod_1234_ARG_1_1350\n",
       "                    (|tuple_get.`(ty * ty)`_1362.0_1364| |sko:ty_1874|))\n",
       "                  (|tuple_get.`(ty * ty)`_1362.1_1365| |sko:ty_1874|))))</td></tr><tr><td><b>expansions</b></td><td><ul><li>prod</li></ul></td></tr></table></div></li><li><div>unroll<table style=\"border:1px\"><tr><td><b>expr</b></td><td>(expr_ty_1274 Iden_1245\n",
       "              (|tuple_mk.`(ty * ty)`_1362_1363|\n",
       "                (Prod_1234_ARG_1_1350\n",
       "                  (|tuple_get.`(ty * ty)`_1362.0_1364| |sko:ty_1874|))\n",
       "                (Prod_1234_ARG_0_1349\n",
       "                  (|tuple_get.`(ty * ty)`_1362.1_1365| |sko:ty_1874|))))</td></tr><tr><td><b>expansions</b></td><td><ul><li>prod</li></ul></td></tr></table></div></li><li><div>unroll<table style=\"border:1px\"><tr><td><b>expr</b></td><td>(let ((a!1 (Pair_1251 Iden_1245\n",
       "                      (Comp_1249 (Prod_1234 (Sum_1235 One_1233 One_1233)\n",
       "                                            One_1233)\n",
       "                                 (Pair_1251 Iden_1245 Unit_1246)\n",
       "                                 (Case_1250 (Inj_r_1248 Unit_1246)\n",
       "                                            (Inj_l_1247 Unit_1246))))))\n",
       "(let ((a!2 (Case_1250 (Drop_1253 (Pair_1251 (Inj_l_1247 Unit_1246) Iden_1245))\n",
       "                      (Drop_1253 a!1))))\n",
       "  (expr_ty_1274 (Comp_1249_ARG_1_1354 a!2)\n",
       "                (|tuple_mk.`(ty * ty)`_1362_1363|\n",
       "                  (|tuple_get.`(ty * ty)`_1362.0_1364| |sko:ty_1874|)\n",
       "                  (Comp_1249_ARG_0_1353 a!2)))))</td></tr><tr><td><b>expansions</b></td><td><ul><li>prod</li></ul></td></tr></table></div></li><li><div>unroll<table style=\"border:1px\"><tr><td><b>expr</b></td><td>(expr_ty_1274 (Comp_1249 (Prod_1234 (Sum_1235 One_1233 One_1233) One_1233)\n",
       "                         (Pair_1251 Iden_1245 Unit_1246)\n",
       "                         (Case_1250 (Inj_r_1248 Unit_1246)\n",
       "                                    (Inj_l_1247 Unit_1246)))\n",
       "              (|tuple_mk.`(ty * ty)`_1362_1363|\n",
       "                (Prod_1234_ARG_1_1350\n",
       "                  (|tuple_get.`(ty * ty)`_1362.0_1364| |sko:ty_1874|))\n",
       "                (Prod_1234_ARG_1_1350\n",
       "                  (|tuple_get.`(ty * ty)`_1362.1_1365| |sko:ty_1874|))))</td></tr><tr><td><b>expansions</b></td><td><ul><li>prod</li></ul></td></tr></table></div></li><li><div>unroll<table style=\"border:1px\"><tr><td><b>expr</b></td><td>(expr_ty_1274 (Case_1250 (Inj_r_1248 Unit_1246) (Inj_l_1247 Unit_1246))\n",
       "              (|tuple_mk.`(ty * ty)`_1362_1363|\n",
       "                (Prod_1234 (Sum_1235 One_1233 One_1233) One_1233)\n",
       "                (Prod_1234_ARG_1_1350\n",
       "                  (|tuple_get.`(ty * ty)`_1362.1_1365| |sko:ty_1874|))))</td></tr><tr><td><b>expansions</b></td><td><ul><li>prod</li></ul></td></tr></table></div></li><li><div>unroll<table style=\"border:1px\"><tr><td><b>expr</b></td><td>(expr_ty_1274 (Inj_l_1247 Unit_1246)\n",
       "              (|tuple_mk.`(ty * ty)`_1362_1363|\n",
       "                (Prod_1234 One_1233 One_1233)\n",
       "                (Prod_1234_ARG_1_1350\n",
       "                  (|tuple_get.`(ty * ty)`_1362.1_1365| |sko:ty_1874|))))</td></tr><tr><td><b>expansions</b></td><td><ul><li>prod</li></ul></td></tr></table></div></li><li><div>unroll<table style=\"border:1px\"><tr><td><b>expr</b></td><td>(expr_ty_1274 (Pair_1251 Iden_1245 Unit_1246)\n",
       "              (|tuple_mk.`(ty * ty)`_1362_1363|\n",
       "                (Prod_1234_ARG_1_1350\n",
       "                  (|tuple_get.`(ty * ty)`_1362.0_1364| |sko:ty_1874|))\n",
       "                (Prod_1234 (Sum_1235 One_1233 One_1233) One_1233)))</td></tr><tr><td><b>expansions</b></td><td><ul><li>prod</li></ul></td></tr></table></div></li><li><div>unroll<table style=\"border:1px\"><tr><td><b>expr</b></td><td>(let ((a!1 (Pair_1251 Iden_1245\n",
       "                      (Comp_1249 (Prod_1234 (Sum_1235 One_1233 One_1233)\n",
       "                                            One_1233)\n",
       "                                 (Pair_1251 Iden_1245 Unit_1246)\n",
       "                                 (Case_1250 (Inj_r_1248 Unit_1246)\n",
       "                                            (Inj_l_1247 Unit_1246))))))\n",
       "(let ((a!2 (Case_1250 (Drop_1253 (Pair_1251 (Inj_l_1247 Unit_1246) Iden_1245))\n",
       "                      (Drop_1253 a!1))))\n",
       "  (expr_ty_1274 (Comp_1249_ARG_2_1355 a!2)\n",
       "                (|tuple_mk.`(ty * ty)`_1362_1363|\n",
       "                  (Comp_1249_ARG_0_1353 a!2)\n",
       "                  (|tuple_get.`(ty * ty)`_1362.1_1365| |sko:ty_1874|)))))</td></tr><tr><td><b>expansions</b></td><td><ul><li>prod</li></ul></td></tr></table></div></li><li><div>unroll<table style=\"border:1px\"><tr><td><b>expr</b></td><td>(expr_ty_1274 Unit_1246\n",
       "              (|tuple_mk.`(ty * ty)`_1362_1363|\n",
       "                (Prod_1234_ARG_1_1350\n",
       "                  (|tuple_get.`(ty * ty)`_1362.0_1364| |sko:ty_1874|))\n",
       "                One_1233))</td></tr><tr><td><b>expansions</b></td><td><ul><li>prod</li></ul></td></tr></table></div></li><li><div>unroll<table style=\"border:1px\"><tr><td><b>expr</b></td><td>(expr_ty_1274 Iden_1245\n",
       "              (|tuple_mk.`(ty * ty)`_1362_1363|\n",
       "                (Prod_1234_ARG_1_1350\n",
       "                  (|tuple_get.`(ty * ty)`_1362.0_1364| |sko:ty_1874|))\n",
       "                (Sum_1235 One_1233 One_1233)))</td></tr><tr><td><b>expansions</b></td><td><ul><li>prod</li></ul></td></tr></table></div></li><li><div>unroll<table style=\"border:1px\"><tr><td><b>expr</b></td><td>(expr_ty_1274 (Inj_r_1248 Unit_1246)\n",
       "              (|tuple_mk.`(ty * ty)`_1362_1363|\n",
       "                (Prod_1234 One_1233 One_1233)\n",
       "                (Prod_1234_ARG_1_1350\n",
       "                  (|tuple_get.`(ty * ty)`_1362.1_1365| |sko:ty_1874|))))</td></tr><tr><td><b>expansions</b></td><td><ul><li>prod</li></ul></td></tr></table></div></li><li><div>unroll<table style=\"border:1px\"><tr><td><b>expr</b></td><td>(let ((a!1 (|tuple_mk.`(ty * ty)`_1362_1363|\n",
       "             (Prod_1234 One_1233 One_1233)\n",
       "             (Sum_1235_ARG_1_1352\n",
       "               (Prod_1234_ARG_1_1350\n",
       "                 (|tuple_get.`(ty * ty)`_1362.1_1365| |sko:ty_1874|))))))\n",
       "  (expr_ty_1274 Unit_1246 a!1))</td></tr><tr><td><b>expansions</b></td><td><ul><li>prod</li></ul></td></tr></table></div></li><li><div>unroll<table style=\"border:1px\"><tr><td><b>expr</b></td><td>(let ((a!1 (Pair_1251 Iden_1245\n",
       "                      (Comp_1249 (Prod_1234 (Sum_1235 One_1233 One_1233)\n",
       "                                            One_1233)\n",
       "                                 (Pair_1251 Iden_1245 Unit_1246)\n",
       "                                 (Case_1250 (Inj_r_1248 Unit_1246)\n",
       "                                            (Inj_l_1247 Unit_1246))))))\n",
       "(let ((a!2 (Case_1250 (Drop_1253 (Pair_1251 (Inj_l_1247 Unit_1246) Iden_1245))\n",
       "                      (Drop_1253 a!1))))\n",
       "  (expr_ty_1274 (Pair_1251_ARG_0_1358 a!2)\n",
       "                (|tuple_mk.`(ty * ty)`_1362_1363|\n",
       "                  (|tuple_get.`(ty * ty)`_1362.0_1364| |sko:ty_1874|)\n",
       "                  (Prod_1234_ARG_0_1349\n",
       "                    (|tuple_get.`(ty * ty)`_1362.1_1365| |sko:ty_1874|))))))</td></tr><tr><td><b>expansions</b></td><td><ul><li>prod</li></ul></td></tr></table></div></li><li><div>unroll<table style=\"border:1px\"><tr><td><b>expr</b></td><td>(let ((a!1 (|tuple_mk.`(ty * ty)`_1362_1363|\n",
       "             (Prod_1234 One_1233 One_1233)\n",
       "             (Sum_1235_ARG_0_1351\n",
       "               (Prod_1234_ARG_1_1350\n",
       "                 (|tuple_get.`(ty * ty)`_1362.1_1365| |sko:ty_1874|))))))\n",
       "  (expr_ty_1274 Unit_1246 a!1))</td></tr><tr><td><b>expansions</b></td><td><ul><li>prod</li></ul></td></tr></table></div></li><li><div>unroll<table style=\"border:1px\"><tr><td><b>expr</b></td><td>(expr_ty_1274 (Pair_1251 (Inj_l_1247 Unit_1246) Iden_1245)\n",
       "              (|tuple_mk.`(ty * ty)`_1362_1363|\n",
       "                (Prod_1234_ARG_1_1350\n",
       "                  (|tuple_get.`(ty * ty)`_1362.0_1364| |sko:ty_1874|))\n",
       "                (|tuple_get.`(ty * ty)`_1362.1_1365| |sko:ty_1874|)))</td></tr><tr><td><b>expansions</b></td><td><ul><li>prod</li></ul></td></tr></table></div></li><li><div>unroll<table style=\"border:1px\"><tr><td><b>expr</b></td><td>(expr_ty_1274 (Inj_l_1247 Unit_1246)\n",
       "              (|tuple_mk.`(ty * ty)`_1362_1363|\n",
       "                (Prod_1234_ARG_1_1350\n",
       "                  (|tuple_get.`(ty * ty)`_1362.0_1364| |sko:ty_1874|))\n",
       "                (Prod_1234_ARG_0_1349\n",
       "                  (|tuple_get.`(ty * ty)`_1362.1_1365| |sko:ty_1874|))))</td></tr><tr><td><b>expansions</b></td><td><ul><li>prod</li></ul></td></tr></table></div></li><li><div>unroll<table style=\"border:1px\"><tr><td><b>expr</b></td><td>(let ((a!1 (|tuple_mk.`(ty * ty)`_1362_1363|\n",
       "             (Prod_1234_ARG_1_1350\n",
       "               (|tuple_get.`(ty * ty)`_1362.0_1364| |sko:ty_1874|))\n",
       "             (Sum_1235_ARG_0_1351\n",
       "               (Prod_1234_ARG_0_1349\n",
       "                 (|tuple_get.`(ty * ty)`_1362.1_1365| |sko:ty_1874|))))))\n",
       "  (expr_ty_1274 Unit_1246 a!1))</td></tr><tr><td><b>expansions</b></td><td><ul><li>prod</li></ul></td></tr></table></div></li><li><div>unroll<table style=\"border:1px\"><tr><td><b>expr</b></td><td>(let ((a!1 (Pair_1251 Iden_1245\n",
       "                      (Comp_1249 (Prod_1234 (Sum_1235 One_1233 One_1233)\n",
       "                                            One_1233)\n",
       "                                 (Pair_1251 Iden_1245 Unit_1246)\n",
       "                                 (Case_1250 (Inj_r_1248 Unit_1246)\n",
       "                                            (Inj_l_1247 Unit_1246))))))\n",
       "(let ((a!2 (Case_1250 (Drop_1253 (Pair_1251 (Inj_l_1247 Unit_1246) Iden_1245))\n",
       "                      (Drop_1253 a!1))))\n",
       "  (expr_ty_1274 (Pair_1251_ARG_1_1359 a!2)\n",
       "                (|tuple_mk.`(ty * ty)`_1362_1363|\n",
       "                  (|tuple_get.`(ty * ty)`_1362.0_1364| |sko:ty_1874|)\n",
       "                  (Prod_1234_ARG_1_1350\n",
       "                    (|tuple_get.`(ty * ty)`_1362.1_1365| |sko:ty_1874|))))))</td></tr><tr><td><b>expansions</b></td><td><ul><li>prod</li></ul></td></tr></table></div></li><li><div>unroll<table style=\"border:1px\"><tr><td><b>expr</b></td><td>(expr_ty_1274 Iden_1245\n",
       "              (|tuple_mk.`(ty * ty)`_1362_1363|\n",
       "                (Prod_1234_ARG_1_1350\n",
       "                  (|tuple_get.`(ty * ty)`_1362.0_1364| |sko:ty_1874|))\n",
       "                (Prod_1234_ARG_1_1350\n",
       "                  (|tuple_get.`(ty * ty)`_1362.1_1365| |sko:ty_1874|))))</td></tr><tr><td><b>expansions</b></td><td><ul><li>prod</li></ul></td></tr></table></div></li><li>Sat (Some  let ty = (Prod (Sum (One, One), Sum (One, One)), Prod (Sum (One, One), Sum (One, One))))</li></ul></div><img src=\"data:image/svg+xml;base64,PD94bWwgdmVyc2lvbj0iMS4wIiBlbmNvZGluZz0iVVRGLTgiIHN0YW5kYWxvbmU9Im5vIj8+CjwhRE9DVFlQRSBzdmcgUFVCTElDICItLy9XM0MvL0RURCBTVkcgMS4xLy9FTiIKICJodHRwOi8vd3d3LnczLm9yZy9HcmFwaGljcy9TVkcvMS4xL0RURC9zdmcxMS5kdGQiPgo8IS0tIEdlbmVyYXRlZCBieSBncmFwaHZpeiB2ZXJzaW9uIDIuNDAuMSAoMjAxNjEyMjUuMDMwNCkKIC0tPgo8IS0tIFRpdGxlOiBwcm9vZiBQYWdlczogMSAtLT4KPHN2ZyB3aWR0aD0iNzY1cHQiIGhlaWdodD0iMzA5MnB0Igogdmlld0JveD0iMC4wMCAwLjAwIDc2NS4wMCAzMDkyLjAwIiB4bWxucz0iaHR0cDovL3d3dy53My5vcmcvMjAwMC9zdmciIHhtbG5zOnhsaW5rPSJodHRwOi8vd3d3LnczLm9yZy8xOTk5L3hsaW5rIj4KPGcgaWQ9ImdyYXBoMCIgY2xhc3M9ImdyYXBoIiB0cmFuc2Zvcm09InNjYWxlKDEgMSkgcm90YXRlKDApIHRyYW5zbGF0ZSg0IDMwODgpIj4KPHRpdGxlPnByb29mPC90aXRsZT4KPHBvbHlnb24gZmlsbD0iI2ZmZmZmZiIgc3Ryb2tlPSJ0cmFuc3BhcmVudCIgcG9pbnRzPSItNCw0IC00LC0zMDg4IDc2MSwtMzA4OCA3NjEsNCAtNCw0Ii8+CjwhLS0gcF8xMjk5IC0tPgo8ZyBpZD0ibm9kZTEiIGNsYXNzPSJub2RlIj4KPHRpdGxlPnBfMTI5OTwvdGl0bGU+Cjxwb2x5Z29uIGZpbGw9IiNkM2QzZDMiIHN0cm9rZT0iIzAwMDAwMCIgcG9pbnRzPSI3NTcsLTM2IDAsLTM2IDAsMCA3NTcsMCA3NTcsLTM2Ii8+Cjx0ZXh0IHRleHQtYW5jaG9yPSJtaWRkbGUiIHg9IjM3OC41IiB5PSItMTQuMyIgZm9udC1mYW1pbHk9IlRpbWVzLHNlcmlmIiBmb250LXNpemU9IjE0LjAwIiBmaWxsPSIjMDAwMDAwIj5TYXQgKFNvbWUgJiMxNjA7bGV0IHR5ID0gKFByb2QgKFN1bSAoT25lLCBPbmUpLCBTdW0gKE9uZSwgT25lKSksIFByb2QgKFN1bSAoT25lLCBPbmUpLCBTdW0gKE9uZSwgT25lKSkpKTwvdGV4dD4KPC9nPgo8IS0tIHBfMTI3NiAtLT4KPGcgaWQ9Im5vZGUyIiBjbGFzcz0ibm9kZSI+Cjx0aXRsZT5wXzEyNzY8L3RpdGxlPgo8cG9seWdvbiBmaWxsPSIjZDNkM2QzIiBzdHJva2U9IiMwMDAwMDAiIHBvaW50cz0iNjQ1LC0xMjUgMTEyLC0xMjUgMTEyLC04NyA2NDUsLTg3IDY0NSwtMTI1Ii8+Cjx0ZXh0IHRleHQtYW5jaG9yPSJzdGFydCIgeD0iMTIwIiB5PSItMTA5LjgiIGZvbnQtZmFtaWx5PSJUaW1lcyxzZXJpZiIgZm9udC1zaXplPSIxNC4wMCIgZmlsbD0iIzAwMDAwMCI+VW5yb2xsIChbKGV4cHJfdHkgSWRlbiAoRGVzdHJ1Y3QoUHJvZCwgMSwgdHkuMCksIERlc3RydWN0KFByb2QsIDEsIHR5LjEpKSldLDwvdGV4dD4KPHRleHQgdGV4dC1hbmNob3I9Im1pZGRsZSIgeD0iMzc4LjUiIHk9Ii05NC44IiBmb250LWZhbWlseT0iVGltZXMsc2VyaWYiIGZvbnQtc2l6ZT0iMTQuMDAiIGZpbGw9IiMwMDAwMDAiPiAmIzE2MDsmIzE2MDsmIzE2MDsmIzE2MDsmIzE2MDsmIzE2MDsmIzE2MDtbW3Byb2RdXSk8L3RleHQ+CjwvZz4KPCEtLSBwXzEyNzYmIzQ1OyZndDtwXzEyOTkgLS0+CjxnIGlkPSJlZGdlMSIgY2xhc3M9ImVkZ2UiPgo8dGl0bGU+cF8xMjc2JiM0NTsmZ3Q7cF8xMjk5PC90aXRsZT4KPHBhdGggZmlsbD0ibm9uZSIgc3Ryb2tlPSIjMDAwMDAwIiBkPSJNMzc4LjUsLTg2LjkwNTNDMzc4LjUsLTc1LjAxOSAzNzguNSwtNTkuNTE3IDM3OC41LC00Ni4yMjc1Ii8+Cjxwb2x5Z29uIGZpbGw9IiMwMDAwMDAiIHN0cm9rZT0iIzAwMDAwMCIgcG9pbnRzPSIzODIuMDAwMSwtNDYuMTU1MiAzNzguNSwtMzYuMTU1MyAzNzUuMDAwMSwtNDYuMTU1MyAzODIuMDAwMSwtNDYuMTU1MiIvPgo8dGV4dCB0ZXh0LWFuY2hvcj0ibWlkZGxlIiB4PSIzOTUiIHk9Ii01Ny44IiBmb250LWZhbWlseT0iVGltZXMsc2VyaWYiIGZvbnQtc2l6ZT0iMTQuMDAiIGZpbGw9IiMwMDAwMDAiPnRoZW48L3RleHQ+CjwvZz4KPCEtLSBwXzEyNTQgLS0+CjxnIGlkPSJub2RlMyIgY2xhc3M9Im5vZGUiPgo8dGl0bGU+cF8xMjU0PC90aXRsZT4KPHBvbHlnb24gZmlsbD0iI2QzZDNkMyIgc3Ryb2tlPSIjMDAwMDAwIiBwb2ludHM9IjYyNS41LC0zMDQgMTMxLjUsLTMwNCAxMzEuNSwtMTc2IDYyNS41LC0xNzYgNjI1LjUsLTMwNCIvPgo8dGV4dCB0ZXh0LWFuY2hvcj0ic3RhcnQiIHg9IjEzOS41IiB5PSItMjg4LjgiIGZvbnQtZmFtaWx5PSJUaW1lcyxzZXJpZiIgZm9udC1zaXplPSIxNC4wMCIgZmlsbD0iIzAwMDAwMCI+VW5yb2xsIChbKGV4cHJfdHk8L3RleHQ+Cjx0ZXh0IHRleHQtYW5jaG9yPSJzdGFydCIgeD0iMTM5LjUiIHk9Ii0yNzMuOCIgZm9udC1mYW1pbHk9IlRpbWVzLHNlcmlmIiBmb250LXNpemU9IjE0LjAwIiBmaWxsPSIjMDAwMDAwIj4gJiMxNjA7JiMxNjA7JiMxNjA7JiMxNjA7JiMxNjA7JiMxNjA7JiMxNjA7JiMxNjA7JiMxNjA7RGVzdHJ1Y3QoUGFpciwgMSw8L3RleHQ+Cjx0ZXh0IHRleHQtYW5jaG9yPSJzdGFydCIgeD0iMTM5LjUiIHk9Ii0yNTguOCIgZm9udC1mYW1pbHk9IlRpbWVzLHNlcmlmIiBmb250LXNpemU9IjE0LjAwIiBmaWxsPSIjMDAwMDAwIj4gJiMxNjA7JiMxNjA7JiMxNjA7JiMxNjA7JiMxNjA7JiMxNjA7JiMxNjA7JiMxNjA7JiMxNjA7JiMxNjA7JiMxNjA7JiMxNjA7JiMxNjA7JiMxNjA7JiMxNjA7JiMxNjA7JiMxNjA7JiMxNjA7Q2FzZSgoRHJvcChQYWlyKChJbmpfbChVbml0KSksIElkZW4pKSksPC90ZXh0Pgo8dGV4dCB0ZXh0LWFuY2hvcj0ic3RhcnQiIHg9IjEzOS41IiB5PSItMjQzLjgiIGZvbnQtZmFtaWx5PSJUaW1lcyxzZXJpZiIgZm9udC1zaXplPSIxNC4wMCIgZmlsbD0iIzAwMDAwMCI+ICYjMTYwOyYjMTYwOyYjMTYwOyYjMTYwOyYjMTYwOyYjMTYwOyYjMTYwOyYjMTYwOyYjMTYwOyYjMTYwOyYjMTYwOyYjMTYwOyYjMTYwOyYjMTYwOyYjMTYwOyYjMTYwOyYjMTYwOyYjMTYwOyhEcm9wKFBhaXIoSWRlbiw8L3RleHQ+Cjx0ZXh0IHRleHQtYW5jaG9yPSJzdGFydCIgeD0iMTM5LjUiIHk9Ii0yMjguOCIgZm9udC1mYW1pbHk9IlRpbWVzLHNlcmlmIiBmb250LXNpemU9IjE0LjAwIiBmaWxsPSIjMDAwMDAwIj4gJiMxNjA7JiMxNjA7JiMxNjA7JiMxNjA7JiMxNjA7JiMxNjA7JiMxNjA7JiMxNjA7JiMxNjA7JiMxNjA7JiMxNjA7JiMxNjA7JiMxNjA7JiMxNjA7JiMxNjA7JiMxNjA7JiMxNjA7JiMxNjA7JiMxNjA7JiMxNjA7JiMxNjA7JiMxNjA7JiMxNjA7JiMxNjA7Q29tcChQcm9kKFN1bShPbmUsIE9uZSksIE9uZSksIFBhaXIoSWRlbiwgVW5pdCksPC90ZXh0Pgo8dGV4dCB0ZXh0LWFuY2hvcj0ic3RhcnQiIHg9IjEzOS41IiB5PSItMjEzLjgiIGZvbnQtZmFtaWx5PSJUaW1lcyxzZXJpZiIgZm9udC1zaXplPSIxNC4wMCIgZmlsbD0iIzAwMDAwMCI+ICYjMTYwOyYjMTYwOyYjMTYwOyYjMTYwOyYjMTYwOyYjMTYwOyYjMTYwOyYjMTYwOyYjMTYwOyYjMTYwOyYjMTYwOyYjMTYwOyYjMTYwOyYjMTYwOyYjMTYwOyYjMTYwOyYjMTYwOyYjMTYwOyYjMTYwOyYjMTYwOyYjMTYwOyYjMTYwOyYjMTYwOyYjMTYwO0Nhc2UoKElual9yKFVuaXQpKSwgKElual9sKFVuaXQpKSkpKSkpKSk8L3RleHQ+Cjx0ZXh0IHRleHQtYW5jaG9yPSJzdGFydCIgeD0iMTM5LjUiIHk9Ii0xOTguOCIgZm9udC1mYW1pbHk9IlRpbWVzLHNlcmlmIiBmb250LXNpemU9IjE0LjAwIiBmaWxsPSIjMDAwMDAwIj4gJiMxNjA7JiMxNjA7JiMxNjA7JiMxNjA7JiMxNjA7JiMxNjA7JiMxNjA7JiMxNjA7JiMxNjA7KHR5LjAsIERlc3RydWN0KFByb2QsIDEsIHR5LjEpKSldLDwvdGV4dD4KPHRleHQgdGV4dC1hbmNob3I9Im1pZGRsZSIgeD0iMzc4LjUiIHk9Ii0xODMuOCIgZm9udC1mYW1pbHk9IlRpbWVzLHNlcmlmIiBmb250LXNpemU9IjE0LjAwIiBmaWxsPSIjMDAwMDAwIj4gJiMxNjA7JiMxNjA7JiMxNjA7JiMxNjA7JiMxNjA7JiMxNjA7JiMxNjA7W1twcm9kXV0pPC90ZXh0Pgo8L2c+CjwhLS0gcF8xMjU0JiM0NTsmZ3Q7cF8xMjc2IC0tPgo8ZyBpZD0iZWRnZTIiIGNsYXNzPSJlZGdlIj4KPHRpdGxlPnBfMTI1NCYjNDU7Jmd0O3BfMTI3NjwvdGl0bGU+CjxwYXRoIGZpbGw9Im5vbmUiIHN0cm9rZT0iIzAwMDAwMCIgZD0iTTM3OC41LC0xNzUuNzQ3NEMzNzguNSwtMTYxLjY1NjcgMzc4LjUsLTE0Ny40MDM3IDM3OC41LC0xMzUuNDg2OSIvPgo8cG9seWdvbiBmaWxsPSIjMDAwMDAwIiBzdHJva2U9IiMwMDAwMDAiIHBvaW50cz0iMzgyLjAwMDEsLTEzNS4yNzEzIDM3OC41LC0xMjUuMjcxNCAzNzUuMDAwMSwtMTM1LjI3MTQgMzgyLjAwMDEsLTEzNS4yNzEzIi8+Cjx0ZXh0IHRleHQtYW5jaG9yPSJtaWRkbGUiIHg9IjM5NSIgeT0iLTE0Ni44IiBmb250LWZhbWlseT0iVGltZXMsc2VyaWYiIGZvbnQtc2l6ZT0iMTQuMDAiIGZpbGw9IiMwMDAwMDAiPnRoZW48L3RleHQ+CjwvZz4KPCEtLSBwXzEyMzMgLS0+CjxnIGlkPSJub2RlNCIgY2xhc3M9Im5vZGUiPgo8dGl0bGU+cF8xMjMzPC90aXRsZT4KPHBvbHlnb24gZmlsbD0iI2QzZDNkMyIgc3Ryb2tlPSIjMDAwMDAwIiBwb2ludHM9IjY1My41LC00MDggMTAzLjUsLTQwOCAxMDMuNSwtMzU1IDY1My41LC0zNTUgNjUzLjUsLTQwOCIvPgo8dGV4dCB0ZXh0LWFuY2hvcj0ic3RhcnQiIHg9IjExMS41IiB5PSItMzkyLjgiIGZvbnQtZmFtaWx5PSJUaW1lcyxzZXJpZiIgZm9udC1zaXplPSIxNC4wMCIgZmlsbD0iIzAwMDAwMCI+VW5yb2xsIChbKGV4cHJfdHkgVW5pdDwvdGV4dD4KPHRleHQgdGV4dC1hbmNob3I9InN0YXJ0IiB4PSIxMTEuNSIgeT0iLTM3Ny44IiBmb250LWZhbWlseT0iVGltZXMsc2VyaWYiIGZvbnQtc2l6ZT0iMTQuMDAiIGZpbGw9IiMwMDAwMDAiPiAmIzE2MDsmIzE2MDsmIzE2MDsmIzE2MDsmIzE2MDsmIzE2MDsmIzE2MDsmIzE2MDsmIzE2MDsoRGVzdHJ1Y3QoUHJvZCwgMSwgdHkuMCksIERlc3RydWN0KFN1bSwgMCwgRGVzdHJ1Y3QoUHJvZCwgMCwgdHkuMSkpKSldLDwvdGV4dD4KPHRleHQgdGV4dC1hbmNob3I9Im1pZGRsZSIgeD0iMzc4LjUiIHk9Ii0zNjIuOCIgZm9udC1mYW1pbHk9IlRpbWVzLHNlcmlmIiBmb250LXNpemU9IjE0LjAwIiBmaWxsPSIjMDAwMDAwIj4gJiMxNjA7JiMxNjA7JiMxNjA7JiMxNjA7JiMxNjA7JiMxNjA7JiMxNjA7W1twcm9kXV0pPC90ZXh0Pgo8L2c+CjwhLS0gcF8xMjMzJiM0NTsmZ3Q7cF8xMjU0IC0tPgo8ZyBpZD0iZWRnZTMiIGNsYXNzPSJlZGdlIj4KPHRpdGxlPnBfMTIzMyYjNDU7Jmd0O3BfMTI1NDwvdGl0bGU+CjxwYXRoIGZpbGw9Im5vbmUiIHN0cm9rZT0iIzAwMDAwMCIgZD0iTTM3OC41LC0zNTQuODg0OUMzNzguNSwtMzQzLjE3NjYgMzc4LjUsLTMyOC43ODM0IDM3OC41LC0zMTQuMTk0MyIvPgo8cG9seWdvbiBmaWxsPSIjMDAwMDAwIiBzdHJva2U9IiMwMDAwMDAiIHBvaW50cz0iMzgyLjAwMDEsLTMxNC4wOTM1IDM3OC41LC0zMDQuMDkzNiAzNzUuMDAwMSwtMzE0LjA5MzYgMzgyLjAwMDEsLTMxNC4wOTM1Ii8+Cjx0ZXh0IHRleHQtYW5jaG9yPSJtaWRkbGUiIHg9IjM5NSIgeT0iLTMyNS44IiBmb250LWZhbWlseT0iVGltZXMsc2VyaWYiIGZvbnQtc2l6ZT0iMTQuMDAiIGZpbGw9IiMwMDAwMDAiPnRoZW48L3RleHQ+CjwvZz4KPCEtLSBwXzEyMTMgLS0+CjxnIGlkPSJub2RlNSIgY2xhc3M9Im5vZGUiPgo8dGl0bGU+cF8xMjEzPC90aXRsZT4KPHBvbHlnb24gZmlsbD0iI2QzZDNkMyIgc3Ryb2tlPSIjMDAwMDAwIiBwb2ludHM9IjU4NywtNTEyIDE3MCwtNTEyIDE3MCwtNDU5IDU4NywtNDU5IDU4NywtNTEyIi8+Cjx0ZXh0IHRleHQtYW5jaG9yPSJzdGFydCIgeD0iMTc4IiB5PSItNDk2LjgiIGZvbnQtZmFtaWx5PSJUaW1lcyxzZXJpZiIgZm9udC1zaXplPSIxNC4wMCIgZmlsbD0iIzAwMDAwMCI+VW5yb2xsIChbKGV4cHJfdHkgKElual9sKFVuaXQpKTwvdGV4dD4KPHRleHQgdGV4dC1hbmNob3I9InN0YXJ0IiB4PSIxNzgiIHk9Ii00ODEuOCIgZm9udC1mYW1pbHk9IlRpbWVzLHNlcmlmIiBmb250LXNpemU9IjE0LjAwIiBmaWxsPSIjMDAwMDAwIj4gJiMxNjA7JiMxNjA7JiMxNjA7JiMxNjA7JiMxNjA7JiMxNjA7JiMxNjA7JiMxNjA7JiMxNjA7KERlc3RydWN0KFByb2QsIDEsIHR5LjApLCBEZXN0cnVjdChQcm9kLCAwLCB0eS4xKSkpXSw8L3RleHQ+Cjx0ZXh0IHRleHQtYW5jaG9yPSJtaWRkbGUiIHg9IjM3OC41IiB5PSItNDY2LjgiIGZvbnQtZmFtaWx5PSJUaW1lcyxzZXJpZiIgZm9udC1zaXplPSIxNC4wMCIgZmlsbD0iIzAwMDAwMCI+ICYjMTYwOyYjMTYwOyYjMTYwOyYjMTYwOyYjMTYwOyYjMTYwOyYjMTYwO1tbcHJvZF1dKTwvdGV4dD4KPC9nPgo8IS0tIHBfMTIxMyYjNDU7Jmd0O3BfMTIzMyAtLT4KPGcgaWQ9ImVkZ2U0IiBjbGFzcz0iZWRnZSI+Cjx0aXRsZT5wXzEyMTMmIzQ1OyZndDtwXzEyMzM8L3RpdGxlPgo8cGF0aCBmaWxsPSJub25lIiBzdHJva2U9IiMwMDAwMDAiIGQ9Ik0zNzguNSwtNDU4Ljk4NzNDMzc4LjUsLTQ0Ni43MzU4IDM3OC41LC00MzEuOTc2NiAzNzguNSwtNDE4LjY0MDciLz4KPHBvbHlnb24gZmlsbD0iIzAwMDAwMCIgc3Ryb2tlPSIjMDAwMDAwIiBwb2ludHM9IjM4Mi4wMDAxLC00MTguMzI1OSAzNzguNSwtNDA4LjMyNTkgMzc1LjAwMDEsLTQxOC4zMjU5IDM4Mi4wMDAxLC00MTguMzI1OSIvPgo8dGV4dCB0ZXh0LWFuY2hvcj0ibWlkZGxlIiB4PSIzOTUiIHk9Ii00MjkuOCIgZm9udC1mYW1pbHk9IlRpbWVzLHNlcmlmIiBmb250LXNpemU9IjE0LjAwIiBmaWxsPSIjMDAwMDAwIj50aGVuPC90ZXh0Pgo8L2c+CjwhLS0gcF8xMTk0IC0tPgo8ZyBpZD0ibm9kZTYiIGNsYXNzPSJub2RlIj4KPHRpdGxlPnBfMTE5NDwvdGl0bGU+Cjxwb2x5Z29uIGZpbGw9IiNkM2QzZDMiIHN0cm9rZT0iIzAwMDAwMCIgcG9pbnRzPSI2NDMuNSwtNjAxIDExMy41LC02MDEgMTEzLjUsLTU2MyA2NDMuNSwtNTYzIDY0My41LC02MDEiLz4KPHRleHQgdGV4dC1hbmNob3I9InN0YXJ0IiB4PSIxMjEuNSIgeT0iLTU4NS44IiBmb250LWZhbWlseT0iVGltZXMsc2VyaWYiIGZvbnQtc2l6ZT0iMTQuMDAiIGZpbGw9IiMwMDAwMDAiPlVucm9sbCAoWyhleHByX3R5IFBhaXIoKElual9sKFVuaXQpKSwgSWRlbikgKERlc3RydWN0KFByb2QsIDEsIHR5LjApLCB0eS4xKSldLDwvdGV4dD4KPHRleHQgdGV4dC1hbmNob3I9Im1pZGRsZSIgeD0iMzc4LjUiIHk9Ii01NzAuOCIgZm9udC1mYW1pbHk9IlRpbWVzLHNlcmlmIiBmb250LXNpemU9IjE0LjAwIiBmaWxsPSIjMDAwMDAwIj4gJiMxNjA7JiMxNjA7JiMxNjA7JiMxNjA7JiMxNjA7JiMxNjA7JiMxNjA7W1twcm9kXV0pPC90ZXh0Pgo8L2c+CjwhLS0gcF8xMTk0JiM0NTsmZ3Q7cF8xMjEzIC0tPgo8ZyBpZD0iZWRnZTUiIGNsYXNzPSJlZGdlIj4KPHRpdGxlPnBfMTE5NCYjNDU7Jmd0O3BfMTIxMzwvdGl0bGU+CjxwYXRoIGZpbGw9Im5vbmUiIHN0cm9rZT0iIzAwMDAwMCIgZD0iTTM3OC41LC01NjIuOTM0N0MzNzguNSwtNTUxLjM3OTMgMzc4LjUsLTUzNi4yNDY2IDM3OC41LC01MjIuNDI3MiIvPgo8cG9seWdvbiBmaWxsPSIjMDAwMDAwIiBzdHJva2U9IiMwMDAwMDAiIHBvaW50cz0iMzgyLjAwMDEsLTUyMi4xOTY0IDM3OC41LC01MTIuMTk2NSAzNzUuMDAwMSwtNTIyLjE5NjUgMzgyLjAwMDEsLTUyMi4xOTY0Ii8+Cjx0ZXh0IHRleHQtYW5jaG9yPSJtaWRkbGUiIHg9IjM5NSIgeT0iLTUzMy44IiBmb250LWZhbWlseT0iVGltZXMsc2VyaWYiIGZvbnQtc2l6ZT0iMTQuMDAiIGZpbGw9IiMwMDAwMDAiPnRoZW48L3RleHQ+CjwvZz4KPCEtLSBwXzExNzYgLS0+CjxnIGlkPSJub2RlNyIgY2xhc3M9Im5vZGUiPgo8dGl0bGU+cF8xMTc2PC90aXRsZT4KPHBvbHlnb24gZmlsbD0iI2QzZDNkMyIgc3Ryb2tlPSIjMDAwMDAwIiBwb2ludHM9IjYyOSwtNzA1IDEyOCwtNzA1IDEyOCwtNjUyIDYyOSwtNjUyIDYyOSwtNzA1Ii8+Cjx0ZXh0IHRleHQtYW5jaG9yPSJzdGFydCIgeD0iMTM2IiB5PSItNjg5LjgiIGZvbnQtZmFtaWx5PSJUaW1lcyxzZXJpZiIgZm9udC1zaXplPSIxNC4wMCIgZmlsbD0iIzAwMDAwMCI+VW5yb2xsIChbKGV4cHJfdHkgVW5pdDwvdGV4dD4KPHRleHQgdGV4dC1hbmNob3I9InN0YXJ0IiB4PSIxMzYiIHk9Ii02NzQuOCIgZm9udC1mYW1pbHk9IlRpbWVzLHNlcmlmIiBmb250LXNpemU9IjE0LjAwIiBmaWxsPSIjMDAwMDAwIj4gJiMxNjA7JiMxNjA7JiMxNjA7JiMxNjA7JiMxNjA7JiMxNjA7JiMxNjA7JiMxNjA7JiMxNjA7KFByb2QoT25lLCBPbmUpLCBEZXN0cnVjdChTdW0sIDAsIERlc3RydWN0KFByb2QsIDEsIHR5LjEpKSkpXSw8L3RleHQ+Cjx0ZXh0IHRleHQtYW5jaG9yPSJtaWRkbGUiIHg9IjM3OC41IiB5PSItNjU5LjgiIGZvbnQtZmFtaWx5PSJUaW1lcyxzZXJpZiIgZm9udC1zaXplPSIxNC4wMCIgZmlsbD0iIzAwMDAwMCI+ICYjMTYwOyYjMTYwOyYjMTYwOyYjMTYwOyYjMTYwOyYjMTYwOyYjMTYwO1tbcHJvZF1dKTwvdGV4dD4KPC9nPgo8IS0tIHBfMTE3NiYjNDU7Jmd0O3BfMTE5NCAtLT4KPGcgaWQ9ImVkZ2U2IiBjbGFzcz0iZWRnZSI+Cjx0aXRsZT5wXzExNzYmIzQ1OyZndDtwXzExOTQ8L3RpdGxlPgo8cGF0aCBmaWxsPSJub25lIiBzdHJva2U9IiMwMDAwMDAiIGQ9Ik0zNzguNSwtNjUxLjg3NTVDMzc4LjUsLTYzOS4zMjMyIDM3OC41LC02MjQuMzA4OSAzNzguNSwtNjExLjQyMDYiLz4KPHBvbHlnb24gZmlsbD0iIzAwMDAwMCIgc3Ryb2tlPSIjMDAwMDAwIiBwb2ludHM9IjM4Mi4wMDAxLC02MTEuMTk1MSAzNzguNSwtNjAxLjE5NTEgMzc1LjAwMDEsLTYxMS4xOTUxIDM4Mi4wMDAxLC02MTEuMTk1MSIvPgo8dGV4dCB0ZXh0LWFuY2hvcj0ibWlkZGxlIiB4PSIzOTUiIHk9Ii02MjIuOCIgZm9udC1mYW1pbHk9IlRpbWVzLHNlcmlmIiBmb250LXNpemU9IjE0LjAwIiBmaWxsPSIjMDAwMDAwIj50aGVuPC90ZXh0Pgo8L2c+CjwhLS0gcF8xMTU5IC0tPgo8ZyBpZD0ibm9kZTgiIGNsYXNzPSJub2RlIj4KPHRpdGxlPnBfMTE1OTwvdGl0bGU+Cjxwb2x5Z29uIGZpbGw9IiNkM2QzZDMiIHN0cm9rZT0iIzAwMDAwMCIgcG9pbnRzPSI2MjUuNSwtODg0IDEzMS41LC04ODQgMTMxLjUsLTc1NiA2MjUuNSwtNzU2IDYyNS41LC04ODQiLz4KPHRleHQgdGV4dC1hbmNob3I9InN0YXJ0IiB4PSIxMzkuNSIgeT0iLTg2OC44IiBmb250LWZhbWlseT0iVGltZXMsc2VyaWYiIGZvbnQtc2l6ZT0iMTQuMDAiIGZpbGw9IiMwMDAwMDAiPlVucm9sbCAoWyhleHByX3R5PC90ZXh0Pgo8dGV4dCB0ZXh0LWFuY2hvcj0ic3RhcnQiIHg9IjEzOS41IiB5PSItODUzLjgiIGZvbnQtZmFtaWx5PSJUaW1lcyxzZXJpZiIgZm9udC1zaXplPSIxNC4wMCIgZmlsbD0iIzAwMDAwMCI+ICYjMTYwOyYjMTYwOyYjMTYwOyYjMTYwOyYjMTYwOyYjMTYwOyYjMTYwOyYjMTYwOyYjMTYwO0Rlc3RydWN0KFBhaXIsIDAsPC90ZXh0Pgo8dGV4dCB0ZXh0LWFuY2hvcj0ic3RhcnQiIHg9IjEzOS41IiB5PSItODM4LjgiIGZvbnQtZmFtaWx5PSJUaW1lcyxzZXJpZiIgZm9udC1zaXplPSIxNC4wMCIgZmlsbD0iIzAwMDAwMCI+ICYjMTYwOyYjMTYwOyYjMTYwOyYjMTYwOyYjMTYwOyYjMTYwOyYjMTYwOyYjMTYwOyYjMTYwOyYjMTYwOyYjMTYwOyYjMTYwOyYjMTYwOyYjMTYwOyYjMTYwOyYjMTYwOyYjMTYwOyYjMTYwO0Nhc2UoKERyb3AoUGFpcigoSW5qX2woVW5pdCkpLCBJZGVuKSkpLDwvdGV4dD4KPHRleHQgdGV4dC1hbmNob3I9InN0YXJ0IiB4PSIxMzkuNSIgeT0iLTgyMy44IiBmb250LWZhbWlseT0iVGltZXMsc2VyaWYiIGZvbnQtc2l6ZT0iMTQuMDAiIGZpbGw9IiMwMDAwMDAiPiAmIzE2MDsmIzE2MDsmIzE2MDsmIzE2MDsmIzE2MDsmIzE2MDsmIzE2MDsmIzE2MDsmIzE2MDsmIzE2MDsmIzE2MDsmIzE2MDsmIzE2MDsmIzE2MDsmIzE2MDsmIzE2MDsmIzE2MDsmIzE2MDsoRHJvcChQYWlyKElkZW4sPC90ZXh0Pgo8dGV4dCB0ZXh0LWFuY2hvcj0ic3RhcnQiIHg9IjEzOS41IiB5PSItODA4LjgiIGZvbnQtZmFtaWx5PSJUaW1lcyxzZXJpZiIgZm9udC1zaXplPSIxNC4wMCIgZmlsbD0iIzAwMDAwMCI+ICYjMTYwOyYjMTYwOyYjMTYwOyYjMTYwOyYjMTYwOyYjMTYwOyYjMTYwOyYjMTYwOyYjMTYwOyYjMTYwOyYjMTYwOyYjMTYwOyYjMTYwOyYjMTYwOyYjMTYwOyYjMTYwOyYjMTYwOyYjMTYwOyYjMTYwOyYjMTYwOyYjMTYwOyYjMTYwOyYjMTYwOyYjMTYwO0NvbXAoUHJvZChTdW0oT25lLCBPbmUpLCBPbmUpLCBQYWlyKElkZW4sIFVuaXQpLDwvdGV4dD4KPHRleHQgdGV4dC1hbmNob3I9InN0YXJ0IiB4PSIxMzkuNSIgeT0iLTc5My44IiBmb250LWZhbWlseT0iVGltZXMsc2VyaWYiIGZvbnQtc2l6ZT0iMTQuMDAiIGZpbGw9IiMwMDAwMDAiPiAmIzE2MDsmIzE2MDsmIzE2MDsmIzE2MDsmIzE2MDsmIzE2MDsmIzE2MDsmIzE2MDsmIzE2MDsmIzE2MDsmIzE2MDsmIzE2MDsmIzE2MDsmIzE2MDsmIzE2MDsmIzE2MDsmIzE2MDsmIzE2MDsmIzE2MDsmIzE2MDsmIzE2MDsmIzE2MDsmIzE2MDsmIzE2MDtDYXNlKChJbmpfcihVbml0KSksIChJbmpfbChVbml0KSkpKSkpKSkpPC90ZXh0Pgo8dGV4dCB0ZXh0LWFuY2hvcj0ic3RhcnQiIHg9IjEzOS41IiB5PSItNzc4LjgiIGZvbnQtZmFtaWx5PSJUaW1lcyxzZXJpZiIgZm9udC1zaXplPSIxNC4wMCIgZmlsbD0iIzAwMDAwMCI+ICYjMTYwOyYjMTYwOyYjMTYwOyYjMTYwOyYjMTYwOyYjMTYwOyYjMTYwOyYjMTYwOyYjMTYwOyh0eS4wLCBEZXN0cnVjdChQcm9kLCAwLCB0eS4xKSkpXSw8L3RleHQ+Cjx0ZXh0IHRleHQtYW5jaG9yPSJtaWRkbGUiIHg9IjM3OC41IiB5PSItNzYzLjgiIGZvbnQtZmFtaWx5PSJUaW1lcyxzZXJpZiIgZm9udC1zaXplPSIxNC4wMCIgZmlsbD0iIzAwMDAwMCI+ICYjMTYwOyYjMTYwOyYjMTYwOyYjMTYwOyYjMTYwOyYjMTYwOyYjMTYwO1tbcHJvZF1dKTwvdGV4dD4KPC9nPgo8IS0tIHBfMTE1OSYjNDU7Jmd0O3BfMTE3NiAtLT4KPGcgaWQ9ImVkZ2U3IiBjbGFzcz0iZWRnZSI+Cjx0aXRsZT5wXzExNTkmIzQ1OyZndDtwXzExNzY8L3RpdGxlPgo8cGF0aCBmaWxsPSJub25lIiBzdHJva2U9IiMwMDAwMDAiIGQ9Ik0zNzguNSwtNzU1Ljg3NDJDMzc4LjUsLTc0Mi4wNzQ0IDM3OC41LC03MjcuOTM1NiAzNzguNSwtNzE1LjU4MjUiLz4KPHBvbHlnb24gZmlsbD0iIzAwMDAwMCIgc3Ryb2tlPSIjMDAwMDAwIiBwb2ludHM9IjM4Mi4wMDAxLC03MTUuMjM5OCAzNzguNSwtNzA1LjIzOTggMzc1LjAwMDEsLTcxNS4yMzk4IDM4Mi4wMDAxLC03MTUuMjM5OCIvPgo8dGV4dCB0ZXh0LWFuY2hvcj0ibWlkZGxlIiB4PSIzOTUiIHk9Ii03MjYuOCIgZm9udC1mYW1pbHk9IlRpbWVzLHNlcmlmIiBmb250LXNpemU9IjE0LjAwIiBmaWxsPSIjMDAwMDAwIj50aGVuPC90ZXh0Pgo8L2c+CjwhLS0gcF8xMTQzIC0tPgo8ZyBpZD0ibm9kZTkiIGNsYXNzPSJub2RlIj4KPHRpdGxlPnBfMTE0MzwvdGl0bGU+Cjxwb2x5Z29uIGZpbGw9IiNkM2QzZDMiIHN0cm9rZT0iIzAwMDAwMCIgcG9pbnRzPSI2MjksLTk4OCAxMjgsLTk4OCAxMjgsLTkzNSA2MjksLTkzNSA2MjksLTk4OCIvPgo8dGV4dCB0ZXh0LWFuY2hvcj0ic3RhcnQiIHg9IjEzNiIgeT0iLTk3Mi44IiBmb250LWZhbWlseT0iVGltZXMsc2VyaWYiIGZvbnQtc2l6ZT0iMTQuMDAiIGZpbGw9IiMwMDAwMDAiPlVucm9sbCAoWyhleHByX3R5IFVuaXQ8L3RleHQ+Cjx0ZXh0IHRleHQtYW5jaG9yPSJzdGFydCIgeD0iMTM2IiB5PSItOTU3LjgiIGZvbnQtZmFtaWx5PSJUaW1lcyxzZXJpZiIgZm9udC1zaXplPSIxNC4wMCIgZmlsbD0iIzAwMDAwMCI+ICYjMTYwOyYjMTYwOyYjMTYwOyYjMTYwOyYjMTYwOyYjMTYwOyYjMTYwOyYjMTYwOyYjMTYwOyhQcm9kKE9uZSwgT25lKSwgRGVzdHJ1Y3QoU3VtLCAxLCBEZXN0cnVjdChQcm9kLCAxLCB0eS4xKSkpKV0sPC90ZXh0Pgo8dGV4dCB0ZXh0LWFuY2hvcj0ibWlkZGxlIiB4PSIzNzguNSIgeT0iLTk0Mi44IiBmb250LWZhbWlseT0iVGltZXMsc2VyaWYiIGZvbnQtc2l6ZT0iMTQuMDAiIGZpbGw9IiMwMDAwMDAiPiAmIzE2MDsmIzE2MDsmIzE2MDsmIzE2MDsmIzE2MDsmIzE2MDsmIzE2MDtbW3Byb2RdXSk8L3RleHQ+CjwvZz4KPCEtLSBwXzExNDMmIzQ1OyZndDtwXzExNTkgLS0+CjxnIGlkPSJlZGdlOCIgY2xhc3M9ImVkZ2UiPgo8dGl0bGU+cF8xMTQzJiM0NTsmZ3Q7cF8xMTU5PC90aXRsZT4KPHBhdGggZmlsbD0ibm9uZSIgc3Ryb2tlPSIjMDAwMDAwIiBkPSJNMzc4LjUsLTkzNC44ODQ5QzM3OC41LC05MjMuMTc2NiAzNzguNSwtOTA4Ljc4MzQgMzc4LjUsLTg5NC4xOTQzIi8+Cjxwb2x5Z29uIGZpbGw9IiMwMDAwMDAiIHN0cm9rZT0iIzAwMDAwMCIgcG9pbnRzPSIzODIuMDAwMSwtODk0LjA5MzUgMzc4LjUsLTg4NC4wOTM2IDM3NS4wMDAxLC04OTQuMDkzNiAzODIuMDAwMSwtODk0LjA5MzUiLz4KPHRleHQgdGV4dC1hbmNob3I9Im1pZGRsZSIgeD0iMzk1IiB5PSItOTA1LjgiIGZvbnQtZmFtaWx5PSJUaW1lcyxzZXJpZiIgZm9udC1zaXplPSIxNC4wMCIgZmlsbD0iIzAwMDAwMCI+dGhlbjwvdGV4dD4KPC9nPgo8IS0tIHBfMTEyOCAtLT4KPGcgaWQ9Im5vZGUxMCIgY2xhc3M9Im5vZGUiPgo8dGl0bGU+cF8xMTI4PC90aXRsZT4KPHBvbHlnb24gZmlsbD0iI2QzZDNkMyIgc3Ryb2tlPSIjMDAwMDAwIiBwb2ludHM9IjY0Ny41LC0xMDc3IDEwOS41LC0xMDc3IDEwOS41LC0xMDM5IDY0Ny41LC0xMDM5IDY0Ny41LC0xMDc3Ii8+Cjx0ZXh0IHRleHQtYW5jaG9yPSJzdGFydCIgeD0iMTE3LjUiIHk9Ii0xMDYxLjgiIGZvbnQtZmFtaWx5PSJUaW1lcyxzZXJpZiIgZm9udC1zaXplPSIxNC4wMCIgZmlsbD0iIzAwMDAwMCI+VW5yb2xsIChbKGV4cHJfdHkgKElual9yKFVuaXQpKSAoUHJvZChPbmUsIE9uZSksIERlc3RydWN0KFByb2QsIDEsIHR5LjEpKSldLDwvdGV4dD4KPHRleHQgdGV4dC1hbmNob3I9Im1pZGRsZSIgeD0iMzc4LjUiIHk9Ii0xMDQ2LjgiIGZvbnQtZmFtaWx5PSJUaW1lcyxzZXJpZiIgZm9udC1zaXplPSIxNC4wMCIgZmlsbD0iIzAwMDAwMCI+ICYjMTYwOyYjMTYwOyYjMTYwOyYjMTYwOyYjMTYwOyYjMTYwOyYjMTYwO1tbcHJvZF1dKTwvdGV4dD4KPC9nPgo8IS0tIHBfMTEyOCYjNDU7Jmd0O3BfMTE0MyAtLT4KPGcgaWQ9ImVkZ2U5IiBjbGFzcz0iZWRnZSI+Cjx0aXRsZT5wXzExMjgmIzQ1OyZndDtwXzExNDM8L3RpdGxlPgo8cGF0aCBmaWxsPSJub25lIiBzdHJva2U9IiMwMDAwMDAiIGQ9Ik0zNzguNSwtMTAzOC45MzQ3QzM3OC41LC0xMDI3LjM3OTMgMzc4LjUsLTEwMTIuMjQ2NiAzNzguNSwtOTk4LjQyNzIiLz4KPHBvbHlnb24gZmlsbD0iIzAwMDAwMCIgc3Ryb2tlPSIjMDAwMDAwIiBwb2ludHM9IjM4Mi4wMDAxLC05OTguMTk2NCAzNzguNSwtOTg4LjE5NjUgMzc1LjAwMDEsLTk5OC4xOTY1IDM4Mi4wMDAxLC05OTguMTk2NCIvPgo8dGV4dCB0ZXh0LWFuY2hvcj0ibWlkZGxlIiB4PSIzOTUiIHk9Ii0xMDA5LjgiIGZvbnQtZmFtaWx5PSJUaW1lcyxzZXJpZiIgZm9udC1zaXplPSIxNC4wMCIgZmlsbD0iIzAwMDAwMCI+dGhlbjwvdGV4dD4KPC9nPgo8IS0tIHBfMTExNCAtLT4KPGcgaWQ9Im5vZGUxMSIgY2xhc3M9Im5vZGUiPgo8dGl0bGU+cF8xMTE0PC90aXRsZT4KPHBvbHlnb24gZmlsbD0iI2QzZDNkMyIgc3Ryb2tlPSIjMDAwMDAwIiBwb2ludHM9IjY1MS41LC0xMTY0IDEwNS41LC0xMTY0IDEwNS41LC0xMTI4IDY1MS41LC0xMTI4IDY1MS41LC0xMTY0Ii8+Cjx0ZXh0IHRleHQtYW5jaG9yPSJtaWRkbGUiIHg9IjM3OC41IiB5PSItMTE0Mi4zIiBmb250LWZhbWlseT0iVGltZXMsc2VyaWYiIGZvbnQtc2l6ZT0iMTQuMDAiIGZpbGw9IiMwMDAwMDAiPlVucm9sbCAoWyhleHByX3R5IElkZW4gKERlc3RydWN0KFByb2QsIDEsIHR5LjApLCBTdW0oT25lLCBPbmUpKSldLCBbW3Byb2RdXSk8L3RleHQ+CjwvZz4KPCEtLSBwXzExMTQmIzQ1OyZndDtwXzExMjggLS0+CjxnIGlkPSJlZGdlMTAiIGNsYXNzPSJlZGdlIj4KPHRpdGxlPnBfMTExNCYjNDU7Jmd0O3BfMTEyODwvdGl0bGU+CjxwYXRoIGZpbGw9Im5vbmUiIHN0cm9rZT0iIzAwMDAwMCIgZD0iTTM3OC41LC0xMTI3Ljc2NjNDMzc4LjUsLTExMTYuMDg3NSAzNzguNSwtMTEwMC42NjkyIDM3OC41LC0xMDg3LjI5NzgiLz4KPHBvbHlnb24gZmlsbD0iIzAwMDAwMCIgc3Ryb2tlPSIjMDAwMDAwIiBwb2ludHM9IjM4Mi4wMDAxLC0xMDg3LjEyMzUgMzc4LjUsLTEwNzcuMTIzNSAzNzUuMDAwMSwtMTA4Ny4xMjM1IDM4Mi4wMDAxLC0xMDg3LjEyMzUiLz4KPHRleHQgdGV4dC1hbmNob3I9Im1pZGRsZSIgeD0iMzk1IiB5PSItMTA5OC44IiBmb250LWZhbWlseT0iVGltZXMsc2VyaWYiIGZvbnQtc2l6ZT0iMTQuMDAiIGZpbGw9IiMwMDAwMDAiPnRoZW48L3RleHQ+CjwvZz4KPCEtLSBwXzExMDEgLS0+CjxnIGlkPSJub2RlMTIiIGNsYXNzPSJub2RlIj4KPHRpdGxlPnBfMTEwMTwvdGl0bGU+Cjxwb2x5Z29uIGZpbGw9IiNkM2QzZDMiIHN0cm9rZT0iIzAwMDAwMCIgcG9pbnRzPSI2MTAuNSwtMTI1MSAxNDYuNSwtMTI1MSAxNDYuNSwtMTIxNSA2MTAuNSwtMTIxNSA2MTAuNSwtMTI1MSIvPgo8dGV4dCB0ZXh0LWFuY2hvcj0ibWlkZGxlIiB4PSIzNzguNSIgeT0iLTEyMjkuMyIgZm9udC1mYW1pbHk9IlRpbWVzLHNlcmlmIiBmb250LXNpemU9IjE0LjAwIiBmaWxsPSIjMDAwMDAwIj5VbnJvbGwgKFsoZXhwcl90eSBVbml0IChEZXN0cnVjdChQcm9kLCAxLCB0eS4wKSwgT25lKSldLCBbW3Byb2RdXSk8L3RleHQ+CjwvZz4KPCEtLSBwXzExMDEmIzQ1OyZndDtwXzExMTQgLS0+CjxnIGlkPSJlZGdlMTEiIGNsYXNzPSJlZGdlIj4KPHRpdGxlPnBfMTEwMSYjNDU7Jmd0O3BfMTExNDwvdGl0bGU+CjxwYXRoIGZpbGw9Im5vbmUiIHN0cm9rZT0iIzAwMDAwMCIgZD0iTTM3OC41LC0xMjE0Ljk3MzVDMzc4LjUsLTEyMDMuMTkxOCAzNzguNSwtMTE4Ny41NjA3IDM3OC41LC0xMTc0LjE1ODEiLz4KPHBvbHlnb24gZmlsbD0iIzAwMDAwMCIgc3Ryb2tlPSIjMDAwMDAwIiBwb2ludHM9IjM4Mi4wMDAxLC0xMTc0LjAwMzMgMzc4LjUsLTExNjQuMDAzNCAzNzUuMDAwMSwtMTE3NC4wMDM0IDM4Mi4wMDAxLC0xMTc0LjAwMzMiLz4KPHRleHQgdGV4dC1hbmNob3I9Im1pZGRsZSIgeD0iMzk1IiB5PSItMTE4NS44IiBmb250LWZhbWlseT0iVGltZXMsc2VyaWYiIGZvbnQtc2l6ZT0iMTQuMDAiIGZpbGw9IiMwMDAwMDAiPnRoZW48L3RleHQ+CjwvZz4KPCEtLSBwXzEwODkgLS0+CjxnIGlkPSJub2RlMTMiIGNsYXNzPSJub2RlIj4KPHRpdGxlPnBfMTA4OTwvdGl0bGU+Cjxwb2x5Z29uIGZpbGw9IiNkM2QzZDMiIHN0cm9rZT0iIzAwMDAwMCIgcG9pbnRzPSI2MjgsLTE1MDUgMTI5LC0xNTA1IDEyOSwtMTMwMiA2MjgsLTEzMDIgNjI4LC0xNTA1Ii8+Cjx0ZXh0IHRleHQtYW5jaG9yPSJzdGFydCIgeD0iMTM3IiB5PSItMTQ4OS44IiBmb250LWZhbWlseT0iVGltZXMsc2VyaWYiIGZvbnQtc2l6ZT0iMTQuMDAiIGZpbGw9IiMwMDAwMDAiPlVucm9sbCAoWyhleHByX3R5PC90ZXh0Pgo8dGV4dCB0ZXh0LWFuY2hvcj0ic3RhcnQiIHg9IjEzNyIgeT0iLTE0NzQuOCIgZm9udC1mYW1pbHk9IlRpbWVzLHNlcmlmIiBmb250LXNpemU9IjE0LjAwIiBmaWxsPSIjMDAwMDAwIj4gJiMxNjA7JiMxNjA7JiMxNjA7JiMxNjA7JiMxNjA7JiMxNjA7JiMxNjA7JiMxNjA7JiMxNjA7RGVzdHJ1Y3QoQ29tcCwgMiw8L3RleHQ+Cjx0ZXh0IHRleHQtYW5jaG9yPSJzdGFydCIgeD0iMTM3IiB5PSItMTQ1OS44IiBmb250LWZhbWlseT0iVGltZXMsc2VyaWYiIGZvbnQtc2l6ZT0iMTQuMDAiIGZpbGw9IiMwMDAwMDAiPiAmIzE2MDsmIzE2MDsmIzE2MDsmIzE2MDsmIzE2MDsmIzE2MDsmIzE2MDsmIzE2MDsmIzE2MDsmIzE2MDsmIzE2MDsmIzE2MDsmIzE2MDsmIzE2MDsmIzE2MDsmIzE2MDsmIzE2MDsmIzE2MDtDYXNlKChEcm9wKFBhaXIoKElual9sKFVuaXQpKSwgSWRlbikpKSw8L3RleHQ+Cjx0ZXh0IHRleHQtYW5jaG9yPSJzdGFydCIgeD0iMTM3IiB5PSItMTQ0NC44IiBmb250LWZhbWlseT0iVGltZXMsc2VyaWYiIGZvbnQtc2l6ZT0iMTQuMDAiIGZpbGw9IiMwMDAwMDAiPiAmIzE2MDsmIzE2MDsmIzE2MDsmIzE2MDsmIzE2MDsmIzE2MDsmIzE2MDsmIzE2MDsmIzE2MDsmIzE2MDsmIzE2MDsmIzE2MDsmIzE2MDsmIzE2MDsmIzE2MDsmIzE2MDsmIzE2MDsmIzE2MDsoRHJvcChQYWlyKElkZW4sPC90ZXh0Pgo8dGV4dCB0ZXh0LWFuY2hvcj0ic3RhcnQiIHg9IjEzNyIgeT0iLTE0MjkuOCIgZm9udC1mYW1pbHk9IlRpbWVzLHNlcmlmIiBmb250LXNpemU9IjE0LjAwIiBmaWxsPSIjMDAwMDAwIj4gJiMxNjA7JiMxNjA7JiMxNjA7JiMxNjA7JiMxNjA7JiMxNjA7JiMxNjA7JiMxNjA7JiMxNjA7JiMxNjA7JiMxNjA7JiMxNjA7JiMxNjA7JiMxNjA7JiMxNjA7JiMxNjA7JiMxNjA7JiMxNjA7JiMxNjA7JiMxNjA7JiMxNjA7JiMxNjA7JiMxNjA7JiMxNjA7Q29tcChQcm9kKFN1bShPbmUsIE9uZSksIE9uZSksIFBhaXIoSWRlbiwgVW5pdCksPC90ZXh0Pgo8dGV4dCB0ZXh0LWFuY2hvcj0ic3RhcnQiIHg9IjEzNyIgeT0iLTE0MTQuOCIgZm9udC1mYW1pbHk9IlRpbWVzLHNlcmlmIiBmb250LXNpemU9IjE0LjAwIiBmaWxsPSIjMDAwMDAwIj4gJiMxNjA7JiMxNjA7JiMxNjA7JiMxNjA7JiMxNjA7JiMxNjA7JiMxNjA7JiMxNjA7JiMxNjA7JiMxNjA7JiMxNjA7JiMxNjA7JiMxNjA7JiMxNjA7JiMxNjA7JiMxNjA7JiMxNjA7JiMxNjA7JiMxNjA7JiMxNjA7JiMxNjA7JiMxNjA7JiMxNjA7JiMxNjA7Q2FzZSgoSW5qX3IoVW5pdCkpLCAoSW5qX2woVW5pdCkpKSkpKSkpKTwvdGV4dD4KPHRleHQgdGV4dC1hbmNob3I9InN0YXJ0IiB4PSIxMzciIHk9Ii0xMzk5LjgiIGZvbnQtZmFtaWx5PSJUaW1lcyxzZXJpZiIgZm9udC1zaXplPSIxNC4wMCIgZmlsbD0iIzAwMDAwMCI+ICYjMTYwOyYjMTYwOyYjMTYwOyYjMTYwOyYjMTYwOyYjMTYwOyYjMTYwOyYjMTYwOyYjMTYwOyhEZXN0cnVjdChDb21wLCAwLDwvdGV4dD4KPHRleHQgdGV4dC1hbmNob3I9InN0YXJ0IiB4PSIxMzciIHk9Ii0xMzg0LjgiIGZvbnQtZmFtaWx5PSJUaW1lcyxzZXJpZiIgZm9udC1zaXplPSIxNC4wMCIgZmlsbD0iIzAwMDAwMCI+ICYjMTYwOyYjMTYwOyYjMTYwOyYjMTYwOyYjMTYwOyYjMTYwOyYjMTYwOyYjMTYwOyYjMTYwOyYjMTYwOyYjMTYwOyYjMTYwOyYjMTYwOyYjMTYwOyYjMTYwOyYjMTYwOyYjMTYwOyYjMTYwOyYjMTYwO0Nhc2UoKERyb3AoUGFpcigoSW5qX2woVW5pdCkpLCBJZGVuKSkpLDwvdGV4dD4KPHRleHQgdGV4dC1hbmNob3I9InN0YXJ0IiB4PSIxMzciIHk9Ii0xMzY5LjgiIGZvbnQtZmFtaWx5PSJUaW1lcyxzZXJpZiIgZm9udC1zaXplPSIxNC4wMCIgZmlsbD0iIzAwMDAwMCI+ICYjMTYwOyYjMTYwOyYjMTYwOyYjMTYwOyYjMTYwOyYjMTYwOyYjMTYwOyYjMTYwOyYjMTYwOyYjMTYwOyYjMTYwOyYjMTYwOyYjMTYwOyYjMTYwOyYjMTYwOyYjMTYwOyYjMTYwOyYjMTYwOyYjMTYwOyhEcm9wKFBhaXIoSWRlbiw8L3RleHQ+Cjx0ZXh0IHRleHQtYW5jaG9yPSJzdGFydCIgeD0iMTM3IiB5PSItMTM1NC44IiBmb250LWZhbWlseT0iVGltZXMsc2VyaWYiIGZvbnQtc2l6ZT0iMTQuMDAiIGZpbGw9IiMwMDAwMDAiPiAmIzE2MDsmIzE2MDsmIzE2MDsmIzE2MDsmIzE2MDsmIzE2MDsmIzE2MDsmIzE2MDsmIzE2MDsmIzE2MDsmIzE2MDsmIzE2MDsmIzE2MDsmIzE2MDsmIzE2MDsmIzE2MDsmIzE2MDsmIzE2MDsmIzE2MDsmIzE2MDsmIzE2MDsmIzE2MDsmIzE2MDsmIzE2MDsmIzE2MDtDb21wKFByb2QoU3VtKE9uZSwgT25lKSwgT25lKSwgUGFpcihJZGVuLCBVbml0KSw8L3RleHQ+Cjx0ZXh0IHRleHQtYW5jaG9yPSJzdGFydCIgeD0iMTM3IiB5PSItMTMzOS44IiBmb250LWZhbWlseT0iVGltZXMsc2VyaWYiIGZvbnQtc2l6ZT0iMTQuMDAiIGZpbGw9IiMwMDAwMDAiPiAmIzE2MDsmIzE2MDsmIzE2MDsmIzE2MDsmIzE2MDsmIzE2MDsmIzE2MDsmIzE2MDsmIzE2MDsmIzE2MDsmIzE2MDsmIzE2MDsmIzE2MDsmIzE2MDsmIzE2MDsmIzE2MDsmIzE2MDsmIzE2MDsmIzE2MDsmIzE2MDsmIzE2MDsmIzE2MDsmIzE2MDsmIzE2MDsmIzE2MDtDYXNlKChJbmpfcihVbml0KSksIChJbmpfbChVbml0KSkpKSkpKSkpLDwvdGV4dD4KPHRleHQgdGV4dC1hbmNob3I9InN0YXJ0IiB4PSIxMzciIHk9Ii0xMzI0LjgiIGZvbnQtZmFtaWx5PSJUaW1lcyxzZXJpZiIgZm9udC1zaXplPSIxNC4wMCIgZmlsbD0iIzAwMDAwMCI+ICYjMTYwOyYjMTYwOyYjMTYwOyYjMTYwOyYjMTYwOyYjMTYwOyYjMTYwOyYjMTYwOyYjMTYwOyYjMTYwO3R5LjEpKV0sPC90ZXh0Pgo8dGV4dCB0ZXh0LWFuY2hvcj0ibWlkZGxlIiB4PSIzNzguNSIgeT0iLTEzMDkuOCIgZm9udC1mYW1pbHk9IlRpbWVzLHNlcmlmIiBmb250LXNpemU9IjE0LjAwIiBmaWxsPSIjMDAwMDAwIj4gJiMxNjA7JiMxNjA7JiMxNjA7JiMxNjA7JiMxNjA7JiMxNjA7JiMxNjA7W1twcm9kXV0pPC90ZXh0Pgo8L2c+CjwhLS0gcF8xMDg5JiM0NTsmZ3Q7cF8xMTAxIC0tPgo8ZyBpZD0iZWRnZTEyIiBjbGFzcz0iZWRnZSI+Cjx0aXRsZT5wXzEwODkmIzQ1OyZndDtwXzExMDE8L3RpdGxlPgo8cGF0aCBmaWxsPSJub25lIiBzdHJva2U9IiMwMDAwMDAiIGQ9Ik0zNzguNSwtMTMwMS44NTc0QzM3OC41LC0xMjg3LjA0OTUgMzc4LjUsLTEyNzIuOTI3MyAzNzguNSwtMTI2MS4zNzAxIi8+Cjxwb2x5Z29uIGZpbGw9IiMwMDAwMDAiIHN0cm9rZT0iIzAwMDAwMCIgcG9pbnRzPSIzODIuMDAwMSwtMTI2MS4xMzY3IDM3OC41LC0xMjUxLjEzNjcgMzc1LjAwMDEsLTEyNjEuMTM2NyAzODIuMDAwMSwtMTI2MS4xMzY3Ii8+Cjx0ZXh0IHRleHQtYW5jaG9yPSJtaWRkbGUiIHg9IjM5NSIgeT0iLTEyNzIuOCIgZm9udC1mYW1pbHk9IlRpbWVzLHNlcmlmIiBmb250LXNpemU9IjE0LjAwIiBmaWxsPSIjMDAwMDAwIj50aGVuPC90ZXh0Pgo8L2c+CjwhLS0gcF8xMDc4IC0tPgo8ZyBpZD0ibm9kZTE0IiBjbGFzcz0ibm9kZSI+Cjx0aXRsZT5wXzEwNzg8L3RpdGxlPgo8cG9seWdvbiBmaWxsPSIjZDNkM2QzIiBzdHJva2U9IiMwMDAwMDAiIHBvaW50cz0iNjAzLC0xNjA5IDE1NCwtMTYwOSAxNTQsLTE1NTYgNjAzLC0xNTU2IDYwMywtMTYwOSIvPgo8dGV4dCB0ZXh0LWFuY2hvcj0ic3RhcnQiIHg9IjE2MiIgeT0iLTE1OTMuOCIgZm9udC1mYW1pbHk9IlRpbWVzLHNlcmlmIiBmb250LXNpemU9IjE0LjAwIiBmaWxsPSIjMDAwMDAwIj5VbnJvbGwgKFsoZXhwcl90eSBQYWlyKElkZW4sIFVuaXQpPC90ZXh0Pgo8dGV4dCB0ZXh0LWFuY2hvcj0ic3RhcnQiIHg9IjE2MiIgeT0iLTE1NzguOCIgZm9udC1mYW1pbHk9IlRpbWVzLHNlcmlmIiBmb250LXNpemU9IjE0LjAwIiBmaWxsPSIjMDAwMDAwIj4gJiMxNjA7JiMxNjA7JiMxNjA7JiMxNjA7JiMxNjA7JiMxNjA7JiMxNjA7JiMxNjA7JiMxNjA7KERlc3RydWN0KFByb2QsIDEsIHR5LjApLCBQcm9kKFN1bShPbmUsIE9uZSksIE9uZSkpKV0sPC90ZXh0Pgo8dGV4dCB0ZXh0LWFuY2hvcj0ibWlkZGxlIiB4PSIzNzguNSIgeT0iLTE1NjMuOCIgZm9udC1mYW1pbHk9IlRpbWVzLHNlcmlmIiBmb250LXNpemU9IjE0LjAwIiBmaWxsPSIjMDAwMDAwIj4gJiMxNjA7JiMxNjA7JiMxNjA7JiMxNjA7JiMxNjA7JiMxNjA7JiMxNjA7W1twcm9kXV0pPC90ZXh0Pgo8L2c+CjwhLS0gcF8xMDc4JiM0NTsmZ3Q7cF8xMDg5IC0tPgo8ZyBpZD0iZWRnZTEzIiBjbGFzcz0iZWRnZSI+Cjx0aXRsZT5wXzEwNzgmIzQ1OyZndDtwXzEwODk8L3RpdGxlPgo8cGF0aCBmaWxsPSJub25lIiBzdHJva2U9IiMwMDAwMDAiIGQ9Ik0zNzguNSwtMTU1NS43MDE5QzM3OC41LC0xNTQ0LjQ0OTQgMzc4LjUsLTE1MzAuNTM5NiAzNzguNSwtMTUxNS43NDE1Ii8+Cjxwb2x5Z29uIGZpbGw9IiMwMDAwMDAiIHN0cm9rZT0iIzAwMDAwMCIgcG9pbnRzPSIzODIuMDAwMSwtMTUxNS4zNzY0IDM3OC41LC0xNTA1LjM3NjUgMzc1LjAwMDEsLTE1MTUuMzc2NSAzODIuMDAwMSwtMTUxNS4zNzY0Ii8+Cjx0ZXh0IHRleHQtYW5jaG9yPSJtaWRkbGUiIHg9IjM5NSIgeT0iLTE1MjYuOCIgZm9udC1mYW1pbHk9IlRpbWVzLHNlcmlmIiBmb250LXNpemU9IjE0LjAwIiBmaWxsPSIjMDAwMDAwIj50aGVuPC90ZXh0Pgo8L2c+CjwhLS0gcF8xMDY4IC0tPgo8ZyBpZD0ibm9kZTE1IiBjbGFzcz0ibm9kZSI+Cjx0aXRsZT5wXzEwNjg8L3RpdGxlPgo8cG9seWdvbiBmaWxsPSIjZDNkM2QzIiBzdHJva2U9IiMwMDAwMDAiIHBvaW50cz0iNjQ2LjUsLTE2OTggMTEwLjUsLTE2OTggMTEwLjUsLTE2NjAgNjQ2LjUsLTE2NjAgNjQ2LjUsLTE2OTgiLz4KPHRleHQgdGV4dC1hbmNob3I9InN0YXJ0IiB4PSIxMTguNSIgeT0iLTE2ODIuOCIgZm9udC1mYW1pbHk9IlRpbWVzLHNlcmlmIiBmb250LXNpemU9IjE0LjAwIiBmaWxsPSIjMDAwMDAwIj5VbnJvbGwgKFsoZXhwcl90eSAoSW5qX2woVW5pdCkpIChQcm9kKE9uZSwgT25lKSwgRGVzdHJ1Y3QoUHJvZCwgMSwgdHkuMSkpKV0sPC90ZXh0Pgo8dGV4dCB0ZXh0LWFuY2hvcj0ibWlkZGxlIiB4PSIzNzguNSIgeT0iLTE2NjcuOCIgZm9udC1mYW1pbHk9IlRpbWVzLHNlcmlmIiBmb250LXNpemU9IjE0LjAwIiBmaWxsPSIjMDAwMDAwIj4gJiMxNjA7JiMxNjA7JiMxNjA7JiMxNjA7JiMxNjA7JiMxNjA7JiMxNjA7W1twcm9kXV0pPC90ZXh0Pgo8L2c+CjwhLS0gcF8xMDY4JiM0NTsmZ3Q7cF8xMDc4IC0tPgo8ZyBpZD0iZWRnZTE0IiBjbGFzcz0iZWRnZSI+Cjx0aXRsZT5wXzEwNjgmIzQ1OyZndDtwXzEwNzg8L3RpdGxlPgo8cGF0aCBmaWxsPSJub25lIiBzdHJva2U9IiMwMDAwMDAiIGQ9Ik0zNzguNSwtMTY1OS45MzQ3QzM3OC41LC0xNjQ4LjM3OTMgMzc4LjUsLTE2MzMuMjQ2NiAzNzguNSwtMTYxOS40MjcyIi8+Cjxwb2x5Z29uIGZpbGw9IiMwMDAwMDAiIHN0cm9rZT0iIzAwMDAwMCIgcG9pbnRzPSIzODIuMDAwMSwtMTYxOS4xOTY0IDM3OC41LC0xNjA5LjE5NjUgMzc1LjAwMDEsLTE2MTkuMTk2NSAzODIuMDAwMSwtMTYxOS4xOTY0Ii8+Cjx0ZXh0IHRleHQtYW5jaG9yPSJtaWRkbGUiIHg9IjM5NSIgeT0iLTE2MzAuOCIgZm9udC1mYW1pbHk9IlRpbWVzLHNlcmlmIiBmb250LXNpemU9IjE0LjAwIiBmaWxsPSIjMDAwMDAwIj50aGVuPC90ZXh0Pgo8L2c+CjwhLS0gcF8xMDU5IC0tPgo8ZyBpZD0ibm9kZTE2IiBjbGFzcz0ibm9kZSI+Cjx0aXRsZT5wXzEwNTk8L3RpdGxlPgo8cG9seWdvbiBmaWxsPSIjZDNkM2QzIiBzdHJva2U9IiMwMDAwMDAiIHBvaW50cz0iNjAzLC0xODAyIDE1NCwtMTgwMiAxNTQsLTE3NDkgNjAzLC0xNzQ5IDYwMywtMTgwMiIvPgo8dGV4dCB0ZXh0LWFuY2hvcj0ic3RhcnQiIHg9IjE2MiIgeT0iLTE3ODYuOCIgZm9udC1mYW1pbHk9IlRpbWVzLHNlcmlmIiBmb250LXNpemU9IjE0LjAwIiBmaWxsPSIjMDAwMDAwIj5VbnJvbGwgKFsoZXhwcl90eSBDYXNlKChJbmpfcihVbml0KSksIChJbmpfbChVbml0KSkpPC90ZXh0Pgo8dGV4dCB0ZXh0LWFuY2hvcj0ic3RhcnQiIHg9IjE2MiIgeT0iLTE3NzEuOCIgZm9udC1mYW1pbHk9IlRpbWVzLHNlcmlmIiBmb250LXNpemU9IjE0LjAwIiBmaWxsPSIjMDAwMDAwIj4gJiMxNjA7JiMxNjA7JiMxNjA7JiMxNjA7JiMxNjA7JiMxNjA7JiMxNjA7JiMxNjA7JiMxNjA7KFByb2QoU3VtKE9uZSwgT25lKSwgT25lKSwgRGVzdHJ1Y3QoUHJvZCwgMSwgdHkuMSkpKV0sPC90ZXh0Pgo8dGV4dCB0ZXh0LWFuY2hvcj0ibWlkZGxlIiB4PSIzNzguNSIgeT0iLTE3NTYuOCIgZm9udC1mYW1pbHk9IlRpbWVzLHNlcmlmIiBmb250LXNpemU9IjE0LjAwIiBmaWxsPSIjMDAwMDAwIj4gJiMxNjA7JiMxNjA7JiMxNjA7JiMxNjA7JiMxNjA7JiMxNjA7JiMxNjA7W1twcm9kXV0pPC90ZXh0Pgo8L2c+CjwhLS0gcF8xMDU5JiM0NTsmZ3Q7cF8xMDY4IC0tPgo8ZyBpZD0iZWRnZTE1IiBjbGFzcz0iZWRnZSI+Cjx0aXRsZT5wXzEwNTkmIzQ1OyZndDtwXzEwNjg8L3RpdGxlPgo8cGF0aCBmaWxsPSJub25lIiBzdHJva2U9IiMwMDAwMDAiIGQ9Ik0zNzguNSwtMTc0OC44NzU1QzM3OC41LC0xNzM2LjMyMzIgMzc4LjUsLTE3MjEuMzA4OSAzNzguNSwtMTcwOC40MjA2Ii8+Cjxwb2x5Z29uIGZpbGw9IiMwMDAwMDAiIHN0cm9rZT0iIzAwMDAwMCIgcG9pbnRzPSIzODIuMDAwMSwtMTcwOC4xOTUxIDM3OC41LC0xNjk4LjE5NTEgMzc1LjAwMDEsLTE3MDguMTk1MSAzODIuMDAwMSwtMTcwOC4xOTUxIi8+Cjx0ZXh0IHRleHQtYW5jaG9yPSJtaWRkbGUiIHg9IjM5NSIgeT0iLTE3MTkuOCIgZm9udC1mYW1pbHk9IlRpbWVzLHNlcmlmIiBmb250LXNpemU9IjE0LjAwIiBmaWxsPSIjMDAwMDAwIj50aGVuPC90ZXh0Pgo8L2c+CjwhLS0gcF8xMDUxIC0tPgo8ZyBpZD0ibm9kZTE3IiBjbGFzcz0ibm9kZSI+Cjx0aXRsZT5wXzEwNTE8L3RpdGxlPgo8cG9seWdvbiBmaWxsPSIjZDNkM2QzIiBzdHJva2U9IiMwMDAwMDAiIHBvaW50cz0iNTkyLC0xOTM2IDE2NSwtMTkzNiAxNjUsLTE4NTMgNTkyLC0xODUzIDU5MiwtMTkzNiIvPgo8dGV4dCB0ZXh0LWFuY2hvcj0ic3RhcnQiIHg9IjE3MyIgeT0iLTE5MjAuOCIgZm9udC1mYW1pbHk9IlRpbWVzLHNlcmlmIiBmb250LXNpemU9IjE0LjAwIiBmaWxsPSIjMDAwMDAwIj5VbnJvbGwgKFsoZXhwcl90eTwvdGV4dD4KPHRleHQgdGV4dC1hbmNob3I9InN0YXJ0IiB4PSIxNzMiIHk9Ii0xOTA1LjgiIGZvbnQtZmFtaWx5PSJUaW1lcyxzZXJpZiIgZm9udC1zaXplPSIxNC4wMCIgZmlsbD0iIzAwMDAwMCI+ICYjMTYwOyYjMTYwOyYjMTYwOyYjMTYwOyYjMTYwOyYjMTYwOyYjMTYwOyYjMTYwOyYjMTYwO0NvbXAoUHJvZChTdW0oT25lLCBPbmUpLCBPbmUpLCBQYWlyKElkZW4sIFVuaXQpLDwvdGV4dD4KPHRleHQgdGV4dC1hbmNob3I9InN0YXJ0IiB4PSIxNzMiIHk9Ii0xODkwLjgiIGZvbnQtZmFtaWx5PSJUaW1lcyxzZXJpZiIgZm9udC1zaXplPSIxNC4wMCIgZmlsbD0iIzAwMDAwMCI+ICYjMTYwOyYjMTYwOyYjMTYwOyYjMTYwOyYjMTYwOyYjMTYwOyYjMTYwOyYjMTYwOyYjMTYwO0Nhc2UoKElual9yKFVuaXQpKSwgKElual9sKFVuaXQpKSkpPC90ZXh0Pgo8dGV4dCB0ZXh0LWFuY2hvcj0ic3RhcnQiIHg9IjE3MyIgeT0iLTE4NzUuOCIgZm9udC1mYW1pbHk9IlRpbWVzLHNlcmlmIiBmb250LXNpemU9IjE0LjAwIiBmaWxsPSIjMDAwMDAwIj4gJiMxNjA7JiMxNjA7JiMxNjA7JiMxNjA7JiMxNjA7JiMxNjA7JiMxNjA7JiMxNjA7JiMxNjA7KERlc3RydWN0KFByb2QsIDEsIHR5LjApLCBEZXN0cnVjdChQcm9kLCAxLCB0eS4xKSkpXSw8L3RleHQ+Cjx0ZXh0IHRleHQtYW5jaG9yPSJtaWRkbGUiIHg9IjM3OC41IiB5PSItMTg2MC44IiBmb250LWZhbWlseT0iVGltZXMsc2VyaWYiIGZvbnQtc2l6ZT0iMTQuMDAiIGZpbGw9IiMwMDAwMDAiPiAmIzE2MDsmIzE2MDsmIzE2MDsmIzE2MDsmIzE2MDsmIzE2MDsmIzE2MDtbW3Byb2RdXSk8L3RleHQ+CjwvZz4KPCEtLSBwXzEwNTEmIzQ1OyZndDtwXzEwNTkgLS0+CjxnIGlkPSJlZGdlMTYiIGNsYXNzPSJlZGdlIj4KPHRpdGxlPnBfMTA1MSYjNDU7Jmd0O3BfMTA1OTwvdGl0bGU+CjxwYXRoIGZpbGw9Im5vbmUiIHN0cm9rZT0iIzAwMDAwMCIgZD0iTTM3OC41LC0xODUyLjg3OTZDMzc4LjUsLTE4MzkuNjg0MyAzNzguNSwtMTgyNS4xOTU2IDM3OC41LC0xODEyLjM1OTMiLz4KPHBvbHlnb24gZmlsbD0iIzAwMDAwMCIgc3Ryb2tlPSIjMDAwMDAwIiBwb2ludHM9IjM4Mi4wMDAxLC0xODEyLjAzIDM3OC41LC0xODAyLjAzMDEgMzc1LjAwMDEsLTE4MTIuMDMwMSAzODIuMDAwMSwtMTgxMi4wMyIvPgo8dGV4dCB0ZXh0LWFuY2hvcj0ibWlkZGxlIiB4PSIzOTUiIHk9Ii0xODIzLjgiIGZvbnQtZmFtaWx5PSJUaW1lcyxzZXJpZiIgZm9udC1zaXplPSIxNC4wMCIgZmlsbD0iIzAwMDAwMCI+dGhlbjwvdGV4dD4KPC9nPgo8IS0tIHBfMTA0NCAtLT4KPGcgaWQ9Im5vZGUxOCIgY2xhc3M9Im5vZGUiPgo8dGl0bGU+cF8xMDQ0PC90aXRsZT4KPHBvbHlnb24gZmlsbD0iI2QzZDNkMyIgc3Ryb2tlPSIjMDAwMDAwIiBwb2ludHM9IjYyOCwtMjE5MCAxMjksLTIxOTAgMTI5LC0xOTg3IDYyOCwtMTk4NyA2MjgsLTIxOTAiLz4KPHRleHQgdGV4dC1hbmNob3I9InN0YXJ0IiB4PSIxMzciIHk9Ii0yMTc0LjgiIGZvbnQtZmFtaWx5PSJUaW1lcyxzZXJpZiIgZm9udC1zaXplPSIxNC4wMCIgZmlsbD0iIzAwMDAwMCI+VW5yb2xsIChbKGV4cHJfdHk8L3RleHQ+Cjx0ZXh0IHRleHQtYW5jaG9yPSJzdGFydCIgeD0iMTM3IiB5PSItMjE1OS44IiBmb250LWZhbWlseT0iVGltZXMsc2VyaWYiIGZvbnQtc2l6ZT0iMTQuMDAiIGZpbGw9IiMwMDAwMDAiPiAmIzE2MDsmIzE2MDsmIzE2MDsmIzE2MDsmIzE2MDsmIzE2MDsmIzE2MDsmIzE2MDsmIzE2MDtEZXN0cnVjdChDb21wLCAxLDwvdGV4dD4KPHRleHQgdGV4dC1hbmNob3I9InN0YXJ0IiB4PSIxMzciIHk9Ii0yMTQ0LjgiIGZvbnQtZmFtaWx5PSJUaW1lcyxzZXJpZiIgZm9udC1zaXplPSIxNC4wMCIgZmlsbD0iIzAwMDAwMCI+ICYjMTYwOyYjMTYwOyYjMTYwOyYjMTYwOyYjMTYwOyYjMTYwOyYjMTYwOyYjMTYwOyYjMTYwOyYjMTYwOyYjMTYwOyYjMTYwOyYjMTYwOyYjMTYwOyYjMTYwOyYjMTYwOyYjMTYwOyYjMTYwO0Nhc2UoKERyb3AoUGFpcigoSW5qX2woVW5pdCkpLCBJZGVuKSkpLDwvdGV4dD4KPHRleHQgdGV4dC1hbmNob3I9InN0YXJ0IiB4PSIxMzciIHk9Ii0yMTI5LjgiIGZvbnQtZmFtaWx5PSJUaW1lcyxzZXJpZiIgZm9udC1zaXplPSIxNC4wMCIgZmlsbD0iIzAwMDAwMCI+ICYjMTYwOyYjMTYwOyYjMTYwOyYjMTYwOyYjMTYwOyYjMTYwOyYjMTYwOyYjMTYwOyYjMTYwOyYjMTYwOyYjMTYwOyYjMTYwOyYjMTYwOyYjMTYwOyYjMTYwOyYjMTYwOyYjMTYwOyYjMTYwOyhEcm9wKFBhaXIoSWRlbiw8L3RleHQ+Cjx0ZXh0IHRleHQtYW5jaG9yPSJzdGFydCIgeD0iMTM3IiB5PSItMjExNC44IiBmb250LWZhbWlseT0iVGltZXMsc2VyaWYiIGZvbnQtc2l6ZT0iMTQuMDAiIGZpbGw9IiMwMDAwMDAiPiAmIzE2MDsmIzE2MDsmIzE2MDsmIzE2MDsmIzE2MDsmIzE2MDsmIzE2MDsmIzE2MDsmIzE2MDsmIzE2MDsmIzE2MDsmIzE2MDsmIzE2MDsmIzE2MDsmIzE2MDsmIzE2MDsmIzE2MDsmIzE2MDsmIzE2MDsmIzE2MDsmIzE2MDsmIzE2MDsmIzE2MDsmIzE2MDtDb21wKFByb2QoU3VtKE9uZSwgT25lKSwgT25lKSwgUGFpcihJZGVuLCBVbml0KSw8L3RleHQ+Cjx0ZXh0IHRleHQtYW5jaG9yPSJzdGFydCIgeD0iMTM3IiB5PSItMjA5OS44IiBmb250LWZhbWlseT0iVGltZXMsc2VyaWYiIGZvbnQtc2l6ZT0iMTQuMDAiIGZpbGw9IiMwMDAwMDAiPiAmIzE2MDsmIzE2MDsmIzE2MDsmIzE2MDsmIzE2MDsmIzE2MDsmIzE2MDsmIzE2MDsmIzE2MDsmIzE2MDsmIzE2MDsmIzE2MDsmIzE2MDsmIzE2MDsmIzE2MDsmIzE2MDsmIzE2MDsmIzE2MDsmIzE2MDsmIzE2MDsmIzE2MDsmIzE2MDsmIzE2MDsmIzE2MDtDYXNlKChJbmpfcihVbml0KSksIChJbmpfbChVbml0KSkpKSkpKSkpPC90ZXh0Pgo8dGV4dCB0ZXh0LWFuY2hvcj0ic3RhcnQiIHg9IjEzNyIgeT0iLTIwODQuOCIgZm9udC1mYW1pbHk9IlRpbWVzLHNlcmlmIiBmb250LXNpemU9IjE0LjAwIiBmaWxsPSIjMDAwMDAwIj4gJiMxNjA7JiMxNjA7JiMxNjA7JiMxNjA7JiMxNjA7JiMxNjA7JiMxNjA7JiMxNjA7JiMxNjA7KHR5LjAsPC90ZXh0Pgo8dGV4dCB0ZXh0LWFuY2hvcj0ic3RhcnQiIHg9IjEzNyIgeT0iLTIwNjkuOCIgZm9udC1mYW1pbHk9IlRpbWVzLHNlcmlmIiBmb250LXNpemU9IjE0LjAwIiBmaWxsPSIjMDAwMDAwIj4gJiMxNjA7JiMxNjA7JiMxNjA7JiMxNjA7JiMxNjA7JiMxNjA7JiMxNjA7JiMxNjA7JiMxNjA7JiMxNjA7RGVzdHJ1Y3QoQ29tcCwgMCw8L3RleHQ+Cjx0ZXh0IHRleHQtYW5jaG9yPSJzdGFydCIgeD0iMTM3IiB5PSItMjA1NC44IiBmb250LWZhbWlseT0iVGltZXMsc2VyaWYiIGZvbnQtc2l6ZT0iMTQuMDAiIGZpbGw9IiMwMDAwMDAiPiAmIzE2MDsmIzE2MDsmIzE2MDsmIzE2MDsmIzE2MDsmIzE2MDsmIzE2MDsmIzE2MDsmIzE2MDsmIzE2MDsmIzE2MDsmIzE2MDsmIzE2MDsmIzE2MDsmIzE2MDsmIzE2MDsmIzE2MDsmIzE2MDsmIzE2MDtDYXNlKChEcm9wKFBhaXIoKElual9sKFVuaXQpKSwgSWRlbikpKSw8L3RleHQ+Cjx0ZXh0IHRleHQtYW5jaG9yPSJzdGFydCIgeD0iMTM3IiB5PSItMjAzOS44IiBmb250LWZhbWlseT0iVGltZXMsc2VyaWYiIGZvbnQtc2l6ZT0iMTQuMDAiIGZpbGw9IiMwMDAwMDAiPiAmIzE2MDsmIzE2MDsmIzE2MDsmIzE2MDsmIzE2MDsmIzE2MDsmIzE2MDsmIzE2MDsmIzE2MDsmIzE2MDsmIzE2MDsmIzE2MDsmIzE2MDsmIzE2MDsmIzE2MDsmIzE2MDsmIzE2MDsmIzE2MDsmIzE2MDsoRHJvcChQYWlyKElkZW4sPC90ZXh0Pgo8dGV4dCB0ZXh0LWFuY2hvcj0ic3RhcnQiIHg9IjEzNyIgeT0iLTIwMjQuOCIgZm9udC1mYW1pbHk9IlRpbWVzLHNlcmlmIiBmb250LXNpemU9IjE0LjAwIiBmaWxsPSIjMDAwMDAwIj4gJiMxNjA7JiMxNjA7JiMxNjA7JiMxNjA7JiMxNjA7JiMxNjA7JiMxNjA7JiMxNjA7JiMxNjA7JiMxNjA7JiMxNjA7JiMxNjA7JiMxNjA7JiMxNjA7JiMxNjA7JiMxNjA7JiMxNjA7JiMxNjA7JiMxNjA7JiMxNjA7JiMxNjA7JiMxNjA7JiMxNjA7JiMxNjA7JiMxNjA7Q29tcChQcm9kKFN1bShPbmUsIE9uZSksIE9uZSksIFBhaXIoSWRlbiwgVW5pdCksPC90ZXh0Pgo8dGV4dCB0ZXh0LWFuY2hvcj0ic3RhcnQiIHg9IjEzNyIgeT0iLTIwMDkuOCIgZm9udC1mYW1pbHk9IlRpbWVzLHNlcmlmIiBmb250LXNpemU9IjE0LjAwIiBmaWxsPSIjMDAwMDAwIj4gJiMxNjA7JiMxNjA7JiMxNjA7JiMxNjA7JiMxNjA7JiMxNjA7JiMxNjA7JiMxNjA7JiMxNjA7JiMxNjA7JiMxNjA7JiMxNjA7JiMxNjA7JiMxNjA7JiMxNjA7JiMxNjA7JiMxNjA7JiMxNjA7JiMxNjA7JiMxNjA7JiMxNjA7JiMxNjA7JiMxNjA7JiMxNjA7JiMxNjA7Q2FzZSgoSW5qX3IoVW5pdCkpLCAoSW5qX2woVW5pdCkpKSkpKSkpKSkpXSw8L3RleHQ+Cjx0ZXh0IHRleHQtYW5jaG9yPSJtaWRkbGUiIHg9IjM3OC41IiB5PSItMTk5NC44IiBmb250LWZhbWlseT0iVGltZXMsc2VyaWYiIGZvbnQtc2l6ZT0iMTQuMDAiIGZpbGw9IiMwMDAwMDAiPiAmIzE2MDsmIzE2MDsmIzE2MDsmIzE2MDsmIzE2MDsmIzE2MDsmIzE2MDtbW3Byb2RdXSk8L3RleHQ+CjwvZz4KPCEtLSBwXzEwNDQmIzQ1OyZndDtwXzEwNTEgLS0+CjxnIGlkPSJlZGdlMTciIGNsYXNzPSJlZGdlIj4KPHRpdGxlPnBfMTA0NCYjNDU7Jmd0O3BfMTA1MTwvdGl0bGU+CjxwYXRoIGZpbGw9Im5vbmUiIHN0cm9rZT0iIzAwMDAwMCIgZD0iTTM3OC41LC0xOTg2Ljk1NDZDMzc4LjUsLTE5NzIuOTE2NiAzNzguNSwtMTk1OS4wMDU4IDM3OC41LC0xOTQ2LjQwMTgiLz4KPHBvbHlnb24gZmlsbD0iIzAwMDAwMCIgc3Ryb2tlPSIjMDAwMDAwIiBwb2ludHM9IjM4Mi4wMDAxLC0xOTQ2LjE0NzYgMzc4LjUsLTE5MzYuMTQ3NiAzNzUuMDAwMSwtMTk0Ni4xNDc3IDM4Mi4wMDAxLC0xOTQ2LjE0NzYiLz4KPHRleHQgdGV4dC1hbmNob3I9Im1pZGRsZSIgeD0iMzk1IiB5PSItMTk1Ny44IiBmb250LWZhbWlseT0iVGltZXMsc2VyaWYiIGZvbnQtc2l6ZT0iMTQuMDAiIGZpbGw9IiMwMDAwMDAiPnRoZW48L3RleHQ+CjwvZz4KPCEtLSBwXzEwMzggLS0+CjxnIGlkPSJub2RlMTkiIGNsYXNzPSJub2RlIj4KPHRpdGxlPnBfMTAzODwvdGl0bGU+Cjxwb2x5Z29uIGZpbGw9IiNkM2QzZDMiIHN0cm9rZT0iIzAwMDAwMCIgcG9pbnRzPSI2NDUsLTIyNzkgMTEyLC0yMjc5IDExMiwtMjI0MSA2NDUsLTIyNDEgNjQ1LC0yMjc5Ii8+Cjx0ZXh0IHRleHQtYW5jaG9yPSJzdGFydCIgeD0iMTIwIiB5PSItMjI2My44IiBmb250LWZhbWlseT0iVGltZXMsc2VyaWYiIGZvbnQtc2l6ZT0iMTQuMDAiIGZpbGw9IiMwMDAwMDAiPlVucm9sbCAoWyhleHByX3R5IElkZW4gKERlc3RydWN0KFByb2QsIDEsIHR5LjApLCBEZXN0cnVjdChQcm9kLCAwLCB0eS4xKSkpXSw8L3RleHQ+Cjx0ZXh0IHRleHQtYW5jaG9yPSJtaWRkbGUiIHg9IjM3OC41IiB5PSItMjI0OC44IiBmb250LWZhbWlseT0iVGltZXMsc2VyaWYiIGZvbnQtc2l6ZT0iMTQuMDAiIGZpbGw9IiMwMDAwMDAiPiAmIzE2MDsmIzE2MDsmIzE2MDsmIzE2MDsmIzE2MDsmIzE2MDsmIzE2MDtbW3Byb2RdXSk8L3RleHQ+CjwvZz4KPCEtLSBwXzEwMzgmIzQ1OyZndDtwXzEwNDQgLS0+CjxnIGlkPSJlZGdlMTgiIGNsYXNzPSJlZGdlIj4KPHRpdGxlPnBfMTAzOCYjNDU7Jmd0O3BfMTA0NDwvdGl0bGU+CjxwYXRoIGZpbGw9Im5vbmUiIHN0cm9rZT0iIzAwMDAwMCIgZD0iTTM3OC41LC0yMjQwLjk5MTJDMzc4LjUsLTIyMzAuMzMxNyAzNzguNSwtMjIxNi4wNzEyIDM3OC41LC0yMjAwLjUzNjUiLz4KPHBvbHlnb24gZmlsbD0iIzAwMDAwMCIgc3Ryb2tlPSIjMDAwMDAwIiBwb2ludHM9IjM4Mi4wMDAxLC0yMjAwLjE2OSAzNzguNSwtMjE5MC4xNjkgMzc1LjAwMDEsLTIyMDAuMTY5MSAzODIuMDAwMSwtMjIwMC4xNjkiLz4KPHRleHQgdGV4dC1hbmNob3I9Im1pZGRsZSIgeD0iMzk1IiB5PSItMjIxMS44IiBmb250LWZhbWlseT0iVGltZXMsc2VyaWYiIGZvbnQtc2l6ZT0iMTQuMDAiIGZpbGw9IiMwMDAwMDAiPnRoZW48L3RleHQ+CjwvZz4KPCEtLSBwXzEwMzMgLS0+CjxnIGlkPSJub2RlMjAiIGNsYXNzPSJub2RlIj4KPHRpdGxlPnBfMTAzMzwvdGl0bGU+Cjxwb2x5Z29uIGZpbGw9IiNkM2QzZDMiIHN0cm9rZT0iIzAwMDAwMCIgcG9pbnRzPSI1OTIsLTI0MjggMTY1LC0yNDI4IDE2NSwtMjMzMCA1OTIsLTIzMzAgNTkyLC0yNDI4Ii8+Cjx0ZXh0IHRleHQtYW5jaG9yPSJzdGFydCIgeD0iMTczIiB5PSItMjQxMi44IiBmb250LWZhbWlseT0iVGltZXMsc2VyaWYiIGZvbnQtc2l6ZT0iMTQuMDAiIGZpbGw9IiMwMDAwMDAiPlVucm9sbCAoWyhleHByX3R5PC90ZXh0Pgo8dGV4dCB0ZXh0LWFuY2hvcj0ic3RhcnQiIHg9IjE3MyIgeT0iLTIzOTcuOCIgZm9udC1mYW1pbHk9IlRpbWVzLHNlcmlmIiBmb250LXNpemU9IjE0LjAwIiBmaWxsPSIjMDAwMDAwIj4gJiMxNjA7JiMxNjA7JiMxNjA7JiMxNjA7JiMxNjA7JiMxNjA7JiMxNjA7JiMxNjA7JiMxNjA7UGFpcihJZGVuLDwvdGV4dD4KPHRleHQgdGV4dC1hbmNob3I9InN0YXJ0IiB4PSIxNzMiIHk9Ii0yMzgyLjgiIGZvbnQtZmFtaWx5PSJUaW1lcyxzZXJpZiIgZm9udC1zaXplPSIxNC4wMCIgZmlsbD0iIzAwMDAwMCI+ICYjMTYwOyYjMTYwOyYjMTYwOyYjMTYwOyYjMTYwOyYjMTYwOyYjMTYwOyYjMTYwOyYjMTYwO0NvbXAoUHJvZChTdW0oT25lLCBPbmUpLCBPbmUpLCBQYWlyKElkZW4sIFVuaXQpLDwvdGV4dD4KPHRleHQgdGV4dC1hbmNob3I9InN0YXJ0IiB4PSIxNzMiIHk9Ii0yMzY3LjgiIGZvbnQtZmFtaWx5PSJUaW1lcyxzZXJpZiIgZm9udC1zaXplPSIxNC4wMCIgZmlsbD0iIzAwMDAwMCI+ICYjMTYwOyYjMTYwOyYjMTYwOyYjMTYwOyYjMTYwOyYjMTYwOyYjMTYwOyYjMTYwOyYjMTYwO0Nhc2UoKElual9yKFVuaXQpKSwgKElual9sKFVuaXQpKSkpKTwvdGV4dD4KPHRleHQgdGV4dC1hbmNob3I9InN0YXJ0IiB4PSIxNzMiIHk9Ii0yMzUyLjgiIGZvbnQtZmFtaWx5PSJUaW1lcyxzZXJpZiIgZm9udC1zaXplPSIxNC4wMCIgZmlsbD0iIzAwMDAwMCI+ICYjMTYwOyYjMTYwOyYjMTYwOyYjMTYwOyYjMTYwOyYjMTYwOyYjMTYwOyYjMTYwOyYjMTYwOyhEZXN0cnVjdChQcm9kLCAxLCB0eS4wKSwgdHkuMSkpXSw8L3RleHQ+Cjx0ZXh0IHRleHQtYW5jaG9yPSJtaWRkbGUiIHg9IjM3OC41IiB5PSItMjMzNy44IiBmb250LWZhbWlseT0iVGltZXMsc2VyaWYiIGZvbnQtc2l6ZT0iMTQuMDAiIGZpbGw9IiMwMDAwMDAiPiAmIzE2MDsmIzE2MDsmIzE2MDsmIzE2MDsmIzE2MDsmIzE2MDsmIzE2MDtbW3Byb2RdXSk8L3RleHQ+CjwvZz4KPCEtLSBwXzEwMzMmIzQ1OyZndDtwXzEwMzggLS0+CjxnIGlkPSJlZGdlMTkiIGNsYXNzPSJlZGdlIj4KPHRpdGxlPnBfMTAzMyYjNDU7Jmd0O3BfMTAzODwvdGl0bGU+CjxwYXRoIGZpbGw9Im5vbmUiIHN0cm9rZT0iIzAwMDAwMCIgZD0iTTM3OC41LC0yMzI5LjkxMTFDMzc4LjUsLTIzMTYuMDQ2MSAzNzguNSwtMjMwMS40MDI2IDM3OC41LC0yMjg5LjExOTciLz4KPHBvbHlnb24gZmlsbD0iIzAwMDAwMCIgc3Ryb2tlPSIjMDAwMDAwIiBwb2ludHM9IjM4Mi4wMDAxLC0yMjg5LjAxMjIgMzc4LjUsLTIyNzkuMDEyMiAzNzUuMDAwMSwtMjI4OS4wMTIyIDM4Mi4wMDAxLC0yMjg5LjAxMjIiLz4KPHRleHQgdGV4dC1hbmNob3I9Im1pZGRsZSIgeD0iMzk1IiB5PSItMjMwMC44IiBmb250LWZhbWlseT0iVGltZXMsc2VyaWYiIGZvbnQtc2l6ZT0iMTQuMDAiIGZpbGw9IiMwMDAwMDAiPnRoZW48L3RleHQ+CjwvZz4KPCEtLSBwXzEwMjkgLS0+CjxnIGlkPSJub2RlMjEiIGNsYXNzPSJub2RlIj4KPHRpdGxlPnBfMTAyOTwvdGl0bGU+Cjxwb2x5Z29uIGZpbGw9IiNkM2QzZDMiIHN0cm9rZT0iIzAwMDAwMCIgcG9pbnRzPSI2MDUuNSwtMjU5MiAxNTEuNSwtMjU5MiAxNTEuNSwtMjQ3OSA2MDUuNSwtMjQ3OSA2MDUuNSwtMjU5MiIvPgo8dGV4dCB0ZXh0LWFuY2hvcj0ic3RhcnQiIHg9IjE1OS41IiB5PSItMjU3Ni44IiBmb250LWZhbWlseT0iVGltZXMsc2VyaWYiIGZvbnQtc2l6ZT0iMTQuMDAiIGZpbGw9IiMwMDAwMDAiPlVucm9sbCAoWyhleHByX3R5PC90ZXh0Pgo8dGV4dCB0ZXh0LWFuY2hvcj0ic3RhcnQiIHg9IjE1OS41IiB5PSItMjU2MS44IiBmb250LWZhbWlseT0iVGltZXMsc2VyaWYiIGZvbnQtc2l6ZT0iMTQuMDAiIGZpbGw9IiMwMDAwMDAiPiAmIzE2MDsmIzE2MDsmIzE2MDsmIzE2MDsmIzE2MDsmIzE2MDsmIzE2MDsmIzE2MDsmIzE2MDsoRHJvcChQYWlyKElkZW4sPC90ZXh0Pgo8dGV4dCB0ZXh0LWFuY2hvcj0ic3RhcnQiIHg9IjE1OS41IiB5PSItMjU0Ni44IiBmb250LWZhbWlseT0iVGltZXMsc2VyaWYiIGZvbnQtc2l6ZT0iMTQuMDAiIGZpbGw9IiMwMDAwMDAiPiAmIzE2MDsmIzE2MDsmIzE2MDsmIzE2MDsmIzE2MDsmIzE2MDsmIzE2MDsmIzE2MDsmIzE2MDsmIzE2MDsmIzE2MDsmIzE2MDsmIzE2MDsmIzE2MDsmIzE2MDtDb21wKFByb2QoU3VtKE9uZSwgT25lKSwgT25lKSwgUGFpcihJZGVuLCBVbml0KSw8L3RleHQ+Cjx0ZXh0IHRleHQtYW5jaG9yPSJzdGFydCIgeD0iMTU5LjUiIHk9Ii0yNTMxLjgiIGZvbnQtZmFtaWx5PSJUaW1lcyxzZXJpZiIgZm9udC1zaXplPSIxNC4wMCIgZmlsbD0iIzAwMDAwMCI+ICYjMTYwOyYjMTYwOyYjMTYwOyYjMTYwOyYjMTYwOyYjMTYwOyYjMTYwOyYjMTYwOyYjMTYwOyYjMTYwOyYjMTYwOyYjMTYwOyYjMTYwOyYjMTYwOyYjMTYwO0Nhc2UoKElual9yKFVuaXQpKSwgKElual9sKFVuaXQpKSkpKSkpPC90ZXh0Pgo8dGV4dCB0ZXh0LWFuY2hvcj0ic3RhcnQiIHg9IjE1OS41IiB5PSItMjUxNi44IiBmb250LWZhbWlseT0iVGltZXMsc2VyaWYiIGZvbnQtc2l6ZT0iMTQuMDAiIGZpbGw9IiMwMDAwMDAiPiAmIzE2MDsmIzE2MDsmIzE2MDsmIzE2MDsmIzE2MDsmIzE2MDsmIzE2MDsmIzE2MDsmIzE2MDsoUHJvZChEZXN0cnVjdChTdW0sIDEsIERlc3RydWN0KFByb2QsIDAsIHR5LjApKSw8L3RleHQ+Cjx0ZXh0IHRleHQtYW5jaG9yPSJzdGFydCIgeD0iMTU5LjUiIHk9Ii0yNTAxLjgiIGZvbnQtZmFtaWx5PSJUaW1lcyxzZXJpZiIgZm9udC1zaXplPSIxNC4wMCIgZmlsbD0iIzAwMDAwMCI+ICYjMTYwOyYjMTYwOyYjMTYwOyYjMTYwOyYjMTYwOyYjMTYwOyYjMTYwOyYjMTYwOyYjMTYwOyYjMTYwO0Rlc3RydWN0KFByb2QsIDEsIHR5LjApKSwgdHkuMSkpXSw8L3RleHQ+Cjx0ZXh0IHRleHQtYW5jaG9yPSJtaWRkbGUiIHg9IjM3OC41IiB5PSItMjQ4Ni44IiBmb250LWZhbWlseT0iVGltZXMsc2VyaWYiIGZvbnQtc2l6ZT0iMTQuMDAiIGZpbGw9IiMwMDAwMDAiPiAmIzE2MDsmIzE2MDsmIzE2MDsmIzE2MDsmIzE2MDsmIzE2MDsmIzE2MDtbW3Byb2RdXSk8L3RleHQ+CjwvZz4KPCEtLSBwXzEwMjkmIzQ1OyZndDtwXzEwMzMgLS0+CjxnIGlkPSJlZGdlMjAiIGNsYXNzPSJlZGdlIj4KPHRpdGxlPnBfMTAyOSYjNDU7Jmd0O3BfMTAzMzwvdGl0bGU+CjxwYXRoIGZpbGw9Im5vbmUiIHN0cm9rZT0iIzAwMDAwMCIgZD0iTTM3OC41LC0yNDc4Ljk5OTlDMzc4LjUsLTI0NjUuNzQzNyAzNzguNSwtMjQ1MS41ODI5IDM3OC41LC0yNDM4LjIxMTciLz4KPHBvbHlnb24gZmlsbD0iIzAwMDAwMCIgc3Ryb2tlPSIjMDAwMDAwIiBwb2ludHM9IjM4Mi4wMDAxLC0yNDM4LjE2ODYgMzc4LjUsLTI0MjguMTY4NiAzNzUuMDAwMSwtMjQzOC4xNjg3IDM4Mi4wMDAxLC0yNDM4LjE2ODYiLz4KPHRleHQgdGV4dC1hbmNob3I9Im1pZGRsZSIgeD0iMzk1IiB5PSItMjQ0OS44IiBmb250LWZhbWlseT0iVGltZXMsc2VyaWYiIGZvbnQtc2l6ZT0iMTQuMDAiIGZpbGw9IiMwMDAwMDAiPnRoZW48L3RleHQ+CjwvZz4KPCEtLSBwXzEwMjYgLS0+CjxnIGlkPSJub2RlMjIiIGNsYXNzPSJub2RlIj4KPHRpdGxlPnBfMTAyNjwvdGl0bGU+Cjxwb2x5Z29uIGZpbGw9IiNkM2QzZDMiIHN0cm9rZT0iIzAwMDAwMCIgcG9pbnRzPSI1ODAuNSwtMjcxMSAxNzYuNSwtMjcxMSAxNzYuNSwtMjY0MyA1ODAuNSwtMjY0MyA1ODAuNSwtMjcxMSIvPgo8dGV4dCB0ZXh0LWFuY2hvcj0ic3RhcnQiIHg9IjE4NC41IiB5PSItMjY5NS44IiBmb250LWZhbWlseT0iVGltZXMsc2VyaWYiIGZvbnQtc2l6ZT0iMTQuMDAiIGZpbGw9IiMwMDAwMDAiPlVucm9sbCAoWyhleHByX3R5IChEcm9wKFBhaXIoKElual9sKFVuaXQpKSwgSWRlbikpKTwvdGV4dD4KPHRleHQgdGV4dC1hbmNob3I9InN0YXJ0IiB4PSIxODQuNSIgeT0iLTI2ODAuOCIgZm9udC1mYW1pbHk9IlRpbWVzLHNlcmlmIiBmb250LXNpemU9IjE0LjAwIiBmaWxsPSIjMDAwMDAwIj4gJiMxNjA7JiMxNjA7JiMxNjA7JiMxNjA7JiMxNjA7JiMxNjA7JiMxNjA7JiMxNjA7JiMxNjA7KFByb2QoRGVzdHJ1Y3QoU3VtLCAwLCBEZXN0cnVjdChQcm9kLCAwLCB0eS4wKSksPC90ZXh0Pgo8dGV4dCB0ZXh0LWFuY2hvcj0ic3RhcnQiIHg9IjE4NC41IiB5PSItMjY2NS44IiBmb250LWZhbWlseT0iVGltZXMsc2VyaWYiIGZvbnQtc2l6ZT0iMTQuMDAiIGZpbGw9IiMwMDAwMDAiPiAmIzE2MDsmIzE2MDsmIzE2MDsmIzE2MDsmIzE2MDsmIzE2MDsmIzE2MDsmIzE2MDsmIzE2MDsmIzE2MDtEZXN0cnVjdChQcm9kLCAxLCB0eS4wKSksIHR5LjEpKV0sPC90ZXh0Pgo8dGV4dCB0ZXh0LWFuY2hvcj0ibWlkZGxlIiB4PSIzNzguNSIgeT0iLTI2NTAuOCIgZm9udC1mYW1pbHk9IlRpbWVzLHNlcmlmIiBmb250LXNpemU9IjE0LjAwIiBmaWxsPSIjMDAwMDAwIj4gJiMxNjA7JiMxNjA7JiMxNjA7JiMxNjA7JiMxNjA7JiMxNjA7JiMxNjA7W1twcm9kXV0pPC90ZXh0Pgo8L2c+CjwhLS0gcF8xMDI2JiM0NTsmZ3Q7cF8xMDI5IC0tPgo8ZyBpZD0iZWRnZTIxIiBjbGFzcz0iZWRnZSI+Cjx0aXRsZT5wXzEwMjYmIzQ1OyZndDtwXzEwMjk8L3RpdGxlPgo8cGF0aCBmaWxsPSJub25lIiBzdHJva2U9IiMwMDAwMDAiIGQ9Ik0zNzguNSwtMjY0Mi43NDY4QzM3OC41LC0yNjMwLjUwNDkgMzc4LjUsLTI2MTYuMjU1NCAzNzguNSwtMjYwMi4yMTgzIi8+Cjxwb2x5Z29uIGZpbGw9IiMwMDAwMDAiIHN0cm9rZT0iIzAwMDAwMCIgcG9pbnRzPSIzODIuMDAwMSwtMjYwMi4wNjYzIDM3OC41LC0yNTkyLjA2NjQgMzc1LjAwMDEsLTI2MDIuMDY2NCAzODIuMDAwMSwtMjYwMi4wNjYzIi8+Cjx0ZXh0IHRleHQtYW5jaG9yPSJtaWRkbGUiIHg9IjM5NSIgeT0iLTI2MTMuOCIgZm9udC1mYW1pbHk9IlRpbWVzLHNlcmlmIiBmb250LXNpemU9IjE0LjAwIiBmaWxsPSIjMDAwMDAwIj50aGVuPC90ZXh0Pgo8L2c+CjwhLS0gcF8xMDI0IC0tPgo8ZyBpZD0ibm9kZTIzIiBjbGFzcz0ibm9kZSI+Cjx0aXRsZT5wXzEwMjQ8L3RpdGxlPgo8cG9seWdvbiBmaWxsPSIjZDNkM2QzIiBzdHJva2U9IiMwMDAwMDAiIHBvaW50cz0iNjA1LjUsLTI4NzUgMTUxLjUsLTI4NzUgMTUxLjUsLTI3NjIgNjA1LjUsLTI3NjIgNjA1LjUsLTI4NzUiLz4KPHRleHQgdGV4dC1hbmNob3I9InN0YXJ0IiB4PSIxNTkuNSIgeT0iLTI4NTkuOCIgZm9udC1mYW1pbHk9IlRpbWVzLHNlcmlmIiBmb250LXNpemU9IjE0LjAwIiBmaWxsPSIjMDAwMDAwIj5VbnJvbGwgKFsoZXhwcl90eTwvdGV4dD4KPHRleHQgdGV4dC1hbmNob3I9InN0YXJ0IiB4PSIxNTkuNSIgeT0iLTI4NDQuOCIgZm9udC1mYW1pbHk9IlRpbWVzLHNlcmlmIiBmb250LXNpemU9IjE0LjAwIiBmaWxsPSIjMDAwMDAwIj4gJiMxNjA7JiMxNjA7JiMxNjA7JiMxNjA7JiMxNjA7JiMxNjA7JiMxNjA7JiMxNjA7JiMxNjA7Q2FzZSgoRHJvcChQYWlyKChJbmpfbChVbml0KSksIElkZW4pKSksPC90ZXh0Pgo8dGV4dCB0ZXh0LWFuY2hvcj0ic3RhcnQiIHg9IjE1OS41IiB5PSItMjgyOS44IiBmb250LWZhbWlseT0iVGltZXMsc2VyaWYiIGZvbnQtc2l6ZT0iMTQuMDAiIGZpbGw9IiMwMDAwMDAiPiAmIzE2MDsmIzE2MDsmIzE2MDsmIzE2MDsmIzE2MDsmIzE2MDsmIzE2MDsmIzE2MDsmIzE2MDsoRHJvcChQYWlyKElkZW4sPC90ZXh0Pgo8dGV4dCB0ZXh0LWFuY2hvcj0ic3RhcnQiIHg9IjE1OS41IiB5PSItMjgxNC44IiBmb250LWZhbWlseT0iVGltZXMsc2VyaWYiIGZvbnQtc2l6ZT0iMTQuMDAiIGZpbGw9IiMwMDAwMDAiPiAmIzE2MDsmIzE2MDsmIzE2MDsmIzE2MDsmIzE2MDsmIzE2MDsmIzE2MDsmIzE2MDsmIzE2MDsmIzE2MDsmIzE2MDsmIzE2MDsmIzE2MDsmIzE2MDsmIzE2MDtDb21wKFByb2QoU3VtKE9uZSwgT25lKSwgT25lKSwgUGFpcihJZGVuLCBVbml0KSw8L3RleHQ+Cjx0ZXh0IHRleHQtYW5jaG9yPSJzdGFydCIgeD0iMTU5LjUiIHk9Ii0yNzk5LjgiIGZvbnQtZmFtaWx5PSJUaW1lcyxzZXJpZiIgZm9udC1zaXplPSIxNC4wMCIgZmlsbD0iIzAwMDAwMCI+ICYjMTYwOyYjMTYwOyYjMTYwOyYjMTYwOyYjMTYwOyYjMTYwOyYjMTYwOyYjMTYwOyYjMTYwOyYjMTYwOyYjMTYwOyYjMTYwOyYjMTYwOyYjMTYwOyYjMTYwO0Nhc2UoKElual9yKFVuaXQpKSwgKElual9sKFVuaXQpKSkpKSkpKTwvdGV4dD4KPHRleHQgdGV4dC1hbmNob3I9InN0YXJ0IiB4PSIxNTkuNSIgeT0iLTI3ODQuOCIgZm9udC1mYW1pbHk9IlRpbWVzLHNlcmlmIiBmb250LXNpemU9IjE0LjAwIiBmaWxsPSIjMDAwMDAwIj4gJiMxNjA7JiMxNjA7JiMxNjA7JiMxNjA7JiMxNjA7JiMxNjA7JiMxNjA7JiMxNjA7JiMxNjA7dHkpXSw8L3RleHQ+Cjx0ZXh0IHRleHQtYW5jaG9yPSJtaWRkbGUiIHg9IjM3OC41IiB5PSItMjc2OS44IiBmb250LWZhbWlseT0iVGltZXMsc2VyaWYiIGZvbnQtc2l6ZT0iMTQuMDAiIGZpbGw9IiMwMDAwMDAiPiAmIzE2MDsmIzE2MDsmIzE2MDsmIzE2MDsmIzE2MDsmIzE2MDsmIzE2MDtbW3Byb2RdXSk8L3RleHQ+CjwvZz4KPCEtLSBwXzEwMjQmIzQ1OyZndDtwXzEwMjYgLS0+CjxnIGlkPSJlZGdlMjIiIGNsYXNzPSJlZGdlIj4KPHRpdGxlPnBfMTAyNCYjNDU7Jmd0O3BfMTAyNjwvdGl0bGU+CjxwYXRoIGZpbGw9Im5vbmUiIHN0cm9rZT0iIzAwMDAwMCIgZD0iTTM3OC41LC0yNzYxLjc2MTlDMzc4LjUsLTI3NDguNDI2NyAzNzguNSwtMjczNC4zOTk3IDM3OC41LC0yNzIxLjY3OTgiLz4KPHBvbHlnb24gZmlsbD0iIzAwMDAwMCIgc3Ryb2tlPSIjMDAwMDAwIiBwb2ludHM9IjM4Mi4wMDAxLC0yNzIxLjM0NjMgMzc4LjUsLTI3MTEuMzQ2MyAzNzUuMDAwMSwtMjcyMS4zNDYzIDM4Mi4wMDAxLC0yNzIxLjM0NjMiLz4KPHRleHQgdGV4dC1hbmNob3I9Im1pZGRsZSIgeD0iMzk1IiB5PSItMjczMi44IiBmb250LWZhbWlseT0iVGltZXMsc2VyaWYiIGZvbnQtc2l6ZT0iMTQuMDAiIGZpbGw9IiMwMDAwMDAiPnRoZW48L3RleHQ+CjwvZz4KPCEtLSBwXzEwMjMgLS0+CjxnIGlkPSJub2RlMjQiIGNsYXNzPSJub2RlIj4KPHRpdGxlPnBfMTAyMzwvdGl0bGU+Cjxwb2x5Z29uIGZpbGw9IiNkM2QzZDMiIHN0cm9rZT0iIzAwMDAwMCIgcG9pbnRzPSI2NTMsLTMwODQgMTA0LC0zMDg0IDEwNCwtMjkyNiA2NTMsLTI5MjYgNjUzLC0zMDg0Ii8+Cjx0ZXh0IHRleHQtYW5jaG9yPSJzdGFydCIgeD0iMTEyIiB5PSItMzA2OC44IiBmb250LWZhbWlseT0iVGltZXMsc2VyaWYiIGZvbnQtc2l6ZT0iMTQuMDAiIGZpbGw9IiMwMDAwMDAiPihpbml0aWFsPC90ZXh0Pgo8dGV4dCB0ZXh0LWFuY2hvcj0ic3RhcnQiIHg9IjExMiIgeT0iLTMwNTMuOCIgZm9udC1mYW1pbHk9IlRpbWVzLHNlcmlmIiBmb250LXNpemU9IjE0LjAwIiBmaWxsPSIjMDAwMDAwIj4gKG5vdDwvdGV4dD4KPHRleHQgdGV4dC1hbmNob3I9InN0YXJ0IiB4PSIxMTIiIHk9Ii0zMDM4LjgiIGZvbnQtZmFtaWx5PSJUaW1lcyxzZXJpZiIgZm9udC1zaXplPSIxNC4wMCIgZmlsbD0iIzAwMDAwMCI+ICYjMTYwOyhleHByX3R5XzEyNzQ8L3RleHQ+Cjx0ZXh0IHRleHQtYW5jaG9yPSJzdGFydCIgeD0iMTEyIiB5PSItMzAyMy44IiBmb250LWZhbWlseT0iVGltZXMsc2VyaWYiIGZvbnQtc2l6ZT0iMTQuMDAiIGZpbGw9IiMwMDAwMDAiPiAmIzE2MDsmIzE2MDsoQ2FzZV8xMjUwIChEcm9wXzEyNTMgKFBhaXJfMTI1MSAoSW5qX2xfMTI0NyBVbml0XzEyNDYpIElkZW5fMTI0NSkpPC90ZXh0Pgo8dGV4dCB0ZXh0LWFuY2hvcj0ic3RhcnQiIHg9IjExMiIgeT0iLTMwMDguOCIgZm9udC1mYW1pbHk9IlRpbWVzLHNlcmlmIiBmb250LXNpemU9IjE0LjAwIiBmaWxsPSIjMDAwMDAwIj4gJiMxNjA7JiMxNjA7JiMxNjA7KERyb3BfMTI1MzwvdGV4dD4KPHRleHQgdGV4dC1hbmNob3I9InN0YXJ0IiB4PSIxMTIiIHk9Ii0yOTkzLjgiIGZvbnQtZmFtaWx5PSJUaW1lcyxzZXJpZiIgZm9udC1zaXplPSIxNC4wMCIgZmlsbD0iIzAwMDAwMCI+ICYjMTYwOyYjMTYwOyYjMTYwOyYjMTYwOyhQYWlyXzEyNTEgSWRlbl8xMjQ1PC90ZXh0Pgo8dGV4dCB0ZXh0LWFuY2hvcj0ic3RhcnQiIHg9IjExMiIgeT0iLTI5NzguOCIgZm9udC1mYW1pbHk9IlRpbWVzLHNlcmlmIiBmb250LXNpemU9IjE0LjAwIiBmaWxsPSIjMDAwMDAwIj4gJiMxNjA7JiMxNjA7JiMxNjA7JiMxNjA7JiMxNjA7KENvbXBfMTI0OSAoUHJvZF8xMjM0IChTdW1fMTIzNSBPbmVfMTIzMyBPbmVfMTIzMykgT25lXzEyMzMpPC90ZXh0Pgo8dGV4dCB0ZXh0LWFuY2hvcj0ic3RhcnQiIHg9IjExMiIgeT0iLTI5NjMuOCIgZm9udC1mYW1pbHk9IlRpbWVzLHNlcmlmIiBmb250LXNpemU9IjE0LjAwIiBmaWxsPSIjMDAwMDAwIj4gJiMxNjA7JiMxNjA7JiMxNjA7JiMxNjA7JiMxNjA7JiMxNjA7KFBhaXJfMTI1MSBJZGVuXzEyNDUgVW5pdF8xMjQ2KTwvdGV4dD4KPHRleHQgdGV4dC1hbmNob3I9InN0YXJ0IiB4PSIxMTIiIHk9Ii0yOTQ4LjgiIGZvbnQtZmFtaWx5PSJUaW1lcyxzZXJpZiIgZm9udC1zaXplPSIxNC4wMCIgZmlsbD0iIzAwMDAwMCI+ICYjMTYwOyYjMTYwOyYjMTYwOyYjMTYwOyYjMTYwOyYjMTYwOyhDYXNlXzEyNTAgKElual9yXzEyNDggVW5pdF8xMjQ2KSAoSW5qX2xfMTI0NyBVbml0XzEyNDYpKSkpKSk8L3RleHQ+Cjx0ZXh0IHRleHQtYW5jaG9yPSJtaWRkbGUiIHg9IjM3OC41IiB5PSItMjkzMy44IiBmb250LWZhbWlseT0iVGltZXMsc2VyaWYiIGZvbnQtc2l6ZT0iMTQuMDAiIGZpbGw9IiMwMDAwMDAiPiAmIzE2MDsmIzE2MDsoOnZhciAwKSkpKTwvdGV4dD4KPC9nPgo8IS0tIHBfMTAyMyYjNDU7Jmd0O3BfMTAyNCAtLT4KPGcgaWQ9ImVkZ2UyMyIgY2xhc3M9ImVkZ2UiPgo8dGl0bGU+cF8xMDIzJiM0NTsmZ3Q7cF8xMDI0PC90aXRsZT4KPHBhdGggZmlsbD0ibm9uZSIgc3Ryb2tlPSIjMDAwMDAwIiBkPSJNMzc4LjUsLTI5MjUuOTA3MkMzNzguNSwtMjkxMi40MzMzIDM3OC41LC0yODk4LjU1NTYgMzc4LjUsLTI4ODUuNDM0OSIvPgo8cG9seWdvbiBmaWxsPSIjMDAwMDAwIiBzdHJva2U9IiMwMDAwMDAiIHBvaW50cz0iMzgyLjAwMDEsLTI4ODUuMDk2OSAzNzguNSwtMjg3NS4wOTY5IDM3NS4wMDAxLC0yODg1LjA5NjkgMzgyLjAwMDEsLTI4ODUuMDk2OSIvPgo8dGV4dCB0ZXh0LWFuY2hvcj0ibWlkZGxlIiB4PSIzOTUiIHk9Ii0yODk2LjgiIGZvbnQtZmFtaWx5PSJUaW1lcyxzZXJpZiIgZm9udC1zaXplPSIxNC4wMCIgZmlsbD0iIzAwMDAwMCI+dGhlbjwvdGV4dD4KPC9nPgo8L2c+Cjwvc3ZnPgo=\" alt=\"svg of graph\"/></div></div></div><div><h4>model</h4><table style=\"border:1px\"><thead><tr><th>variable</th><th>value</th></tr></thead><tr><td>(ty : `(ty * ty)`)</td><td><pre>(Prod(Sum(One, One), Sum(One, One)), Prod(Sum(One, One), Sum(One, One)))</pre></td></tr></table></div></div></div>\n"
      ]
     },
     "metadata": {},
     "output_type": "display_data"
    }
   ],
   "source": [
    "(* TODO: use `instances` to find the type of `half_adder` *)\n",
    "\n",
    "verify (fun ty -> not @@ expr_ty half_adder ty);;"
   ]
  },
  {
   "cell_type": "code",
   "execution_count": 23,
   "metadata": {},
   "outputs": [
    {
     "data": {
      "text/plain": []
     },
     "execution_count": 23,
     "metadata": {},
     "output_type": "execute_result"
    },
    {
     "data": {
      "text/html": [
       "<div><div><h3>Fun: List.map</h3><table style=\"border:1px\"><tr><td><b>doc</b></td><td><ul><li><div><div>Map a function over a list.</div><p></p><div><ul><li><div><pre>map f [] = []</pre></div></li><li><div><pre>map f [x] = [f x]</pre></div></li><li><div><pre>map f (x :: tail) = f x :: map f tail</pre></div></li></ul></div><p></p></div></li></ul></td></tr><tr><td><b>iml</b></td><td><pre>(fun (f : 'b -&gt; 'a) -&gt;\n",
       "  (fun (l : 'b list) -&gt;\n",
       "    if (l = []) then []\n",
       "       else\n",
       "       let (x : 'b) = List.hd(l) and (l2 : 'b list) = List.tl(l) in\n",
       "       ((f x) :: (List.map f l2))))</pre></td></tr><tr><td><b>name</b></td><td>List.map</td></tr><tr><td><b>recursive</b></td><td>true</td></tr><tr><td><b>Measured subset</b></td><td>[1]</td></tr><tr><td><b>parametric</b></td><td>true</td></tr><tr><td><b>location</b></td><td>Characters 12225-12316:\n",
       "  #h List.map</td></tr></table></div></div>\n"
      ]
     },
     "metadata": {},
     "output_type": "display_data"
    }
   ],
   "source": [
    "#h List.map"
   ]
  }
 ],
 "metadata": {
  "kernelspec": {
   "display_name": "Imandra",
   "language": "ocaml",
   "name": "jupyter-imandra"
  },
  "language_info": {
   "codemirror_mode": "mllike",
   "file_extension": ".ml",
   "mimetype": "text",
   "name": "ocaml",
   "version": "0.1.0"
  }
 },
 "nbformat": 4,
 "nbformat_minor": 2
}
